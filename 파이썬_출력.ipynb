{
  "nbformat": 4,
  "nbformat_minor": 0,
  "metadata": {
    "colab": {
      "name": "파이썬 - 출력.ipynb",
      "provenance": [],
      "authorship_tag": "ABX9TyOJP02/eSY0rlTKNLpfoRZe",
      "include_colab_link": true
    },
    "kernelspec": {
      "name": "python3",
      "display_name": "Python 3"
    },
    "language_info": {
      "name": "python"
    }
  },
  "cells": [
    {
      "cell_type": "markdown",
      "metadata": {
        "id": "view-in-github",
        "colab_type": "text"
      },
      "source": [
        "<a href=\"https://colab.research.google.com/github/yseoyoung/python/blob/main/%ED%8C%8C%EC%9D%B4%EC%8D%AC_%EC%B6%9C%EB%A0%A5.ipynb\" target=\"_parent\"><img src=\"https://colab.research.google.com/assets/colab-badge.svg\" alt=\"Open In Colab\"/></a>"
      ]
    },
    {
      "cell_type": "code",
      "source": [
        "print(12,12.3,\"hello\")"
      ],
      "metadata": {
        "colab": {
          "base_uri": "https://localhost:8080/"
        },
        "id": "0QjA1WJ6yiq3",
        "outputId": "8b230dce-45de-4836-cdc1-829ad49a3335"
      },
      "execution_count": null,
      "outputs": [
        {
          "output_type": "stream",
          "name": "stdout",
          "text": [
            "12 12.3 hello\n"
          ]
        }
      ]
    },
    {
      "cell_type": "markdown",
      "source": [
        "#format 사용"
      ],
      "metadata": {
        "id": "rJx9MkkKyjcC"
      }
    },
    {
      "cell_type": "code",
      "source": [
        "print(\"{0} abc {1} bbc {0} aaa {2} bbb {0}\".format('홍길동','강감찬','을지문덕'))"
      ],
      "metadata": {
        "colab": {
          "base_uri": "https://localhost:8080/"
        },
        "id": "nF9wTL9iyl0u",
        "outputId": "5b041578-bacd-4126-939d-dc189ab28376"
      },
      "execution_count": null,
      "outputs": [
        {
          "output_type": "stream",
          "name": "stdout",
          "text": [
            "홍길동 abc 강감찬 bbc 홍길동 aaa 을지문덕 bbb 홍길동\n"
          ]
        }
      ]
    },
    {
      "cell_type": "code",
      "source": [
        "print(\"{0:3d}\".format(12)) # 3: 출력하는 칸수 (3칸을 차지해라) d: 10진수로 출력하라 \n",
        "print(\"{0:10d}\".format(12))"
      ],
      "metadata": {
        "colab": {
          "base_uri": "https://localhost:8080/"
        },
        "id": "5uMB7uu9y_8J",
        "outputId": "ce675f73-c4c6-4468-eb70-ce60beac9f77"
      },
      "execution_count": null,
      "outputs": [
        {
          "output_type": "stream",
          "name": "stdout",
          "text": [
            " 12\n",
            "        12\n"
          ]
        }
      ]
    },
    {
      "cell_type": "code",
      "source": [
        "print(\"{0:010d}\".format(12))"
      ],
      "metadata": {
        "colab": {
          "base_uri": "https://localhost:8080/"
        },
        "id": "s1pq0YJCz0kJ",
        "outputId": "e8cea038-7289-4d33-bf2d-e06a5d9ac2b2"
      },
      "execution_count": null,
      "outputs": [
        {
          "output_type": "stream",
          "name": "stdout",
          "text": [
            "0000000012\n"
          ]
        }
      ]
    },
    {
      "cell_type": "code",
      "source": [
        "print(\"{0:+10d}\".format(-12))\n",
        "print(\"{0:+10d}\".format(12))"
      ],
      "metadata": {
        "colab": {
          "base_uri": "https://localhost:8080/"
        },
        "id": "zwzeZd0bz_Ge",
        "outputId": "37e43bf9-8677-4cde-bb91-97491eab130f"
      },
      "execution_count": null,
      "outputs": [
        {
          "output_type": "stream",
          "name": "stdout",
          "text": [
            "       -12\n",
            "       +12\n"
          ]
        }
      ]
    },
    {
      "cell_type": "code",
      "source": [
        "print(\"{0:15.2f}\".format(3/2)) # 15 : 15칸을 차지 2f : 소수점 2자리까지 float형으로 출력해라"
      ],
      "metadata": {
        "colab": {
          "base_uri": "https://localhost:8080/"
        },
        "id": "bopUY6PR1mue",
        "outputId": "dbbbc562-4408-4405-f5fd-95c97cabe446"
      },
      "execution_count": null,
      "outputs": [
        {
          "output_type": "stream",
          "name": "stdout",
          "text": [
            "           1.50\n"
          ]
        }
      ]
    },
    {
      "cell_type": "code",
      "source": [
        "print(\"{0:3o} {0:3d} {0:3x}\".format(12)) # o: 8진수 d: 10진수 x: 16진수"
      ],
      "metadata": {
        "colab": {
          "base_uri": "https://localhost:8080/"
        },
        "id": "I_B_aNya2BnK",
        "outputId": "6aeff3bc-2838-40d0-e644-2eb4b59e1662"
      },
      "execution_count": null,
      "outputs": [
        {
          "output_type": "stream",
          "name": "stdout",
          "text": [
            " 14  12   c\n"
          ]
        }
      ]
    },
    {
      "cell_type": "markdown",
      "source": [
        "#f\"문자열\""
      ],
      "metadata": {
        "id": "LDVu3Ak70qWX"
      }
    },
    {
      "cell_type": "code",
      "source": [
        "num = 23\n",
        "name = \"홍길동\"\n",
        "height = 185.3\n",
        "weight = 89\n",
        "print(f\"번호는 {num} 이름은 {name} 키는 {height} 몸무게 {weight}\")"
      ],
      "metadata": {
        "colab": {
          "base_uri": "https://localhost:8080/"
        },
        "id": "Zf0a0ShU0rzp",
        "outputId": "159c122a-4cef-4928-d8b4-3b9315f1f758"
      },
      "execution_count": null,
      "outputs": [
        {
          "output_type": "stream",
          "name": "stdout",
          "text": [
            "번호는 23 이름은 홍길동 키는 185.3 몸무게 89\n"
          ]
        }
      ]
    }
  ]
}