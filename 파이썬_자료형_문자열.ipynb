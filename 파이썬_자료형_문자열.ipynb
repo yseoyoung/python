{
  "nbformat": 4,
  "nbformat_minor": 0,
  "metadata": {
    "colab": {
      "name": "파이썬-자료형-문자열.ipynb",
      "provenance": [],
      "authorship_tag": "ABX9TyPt6TATUiiWssabMrl1g5Kj",
      "include_colab_link": true
    },
    "kernelspec": {
      "name": "python3",
      "display_name": "Python 3"
    },
    "language_info": {
      "name": "python"
    }
  },
  "cells": [
    {
      "cell_type": "markdown",
      "metadata": {
        "id": "view-in-github",
        "colab_type": "text"
      },
      "source": [
        "<a href=\"https://colab.research.google.com/github/yseoyoung/python/blob/main/%ED%8C%8C%EC%9D%B4%EC%8D%AC_%EC%9E%90%EB%A3%8C%ED%98%95_%EB%AC%B8%EC%9E%90%EC%97%B4.ipynb\" target=\"_parent\"><img src=\"https://colab.research.google.com/assets/colab-badge.svg\" alt=\"Open In Colab\"/></a>"
      ]
    },
    {
      "cell_type": "markdown",
      "source": [
        "#문자열 기본 표현"
      ],
      "metadata": {
        "id": "R8tT_h4Mc3zw"
      }
    },
    {
      "cell_type": "code",
      "source": [
        "print('abc')\n",
        "print(\"ABC\")\n",
        "print(\"\"\"안녕하세요.\"\"\")"
      ],
      "metadata": {
        "colab": {
          "base_uri": "https://localhost:8080/"
        },
        "id": "kDd_Ct7vc5fU",
        "outputId": "0d306c87-4d96-479e-d306-5f2c5ea7493c"
      },
      "execution_count": null,
      "outputs": [
        {
          "output_type": "stream",
          "name": "stdout",
          "text": [
            "abc\n",
            "ABC\n",
            "안녕하세요.\n"
          ]
        }
      ]
    },
    {
      "cell_type": "markdown",
      "source": [
        "#이스케이프 문자"
      ],
      "metadata": {
        "id": "hkkKAjoadVVs"
      }
    },
    {
      "cell_type": "code",
      "source": [
        "print('\\t하이')\n",
        "print('우리는\\t야호\\n하하하')"
      ],
      "metadata": {
        "colab": {
          "base_uri": "https://localhost:8080/"
        },
        "id": "KO5J14vvdW2i",
        "outputId": "98d383f1-a36f-461c-8b73-5cb8aaed906f"
      },
      "execution_count": null,
      "outputs": [
        {
          "output_type": "stream",
          "name": "stdout",
          "text": [
            "\t하이\n",
            "우리는\t야호\n",
            "하하하\n"
          ]
        }
      ]
    },
    {
      "cell_type": "code",
      "source": [
        "print(\"I'm a boy.\")"
      ],
      "metadata": {
        "colab": {
          "base_uri": "https://localhost:8080/"
        },
        "id": "eOpjtDuEdjNP",
        "outputId": "40abfadd-06a8-4647-81b1-65f26a23923a"
      },
      "execution_count": null,
      "outputs": [
        {
          "output_type": "stream",
          "name": "stdout",
          "text": [
            "I'm a boy.\n"
          ]
        }
      ]
    },
    {
      "cell_type": "code",
      "source": [
        "print('I\\'m a boy.')"
      ],
      "metadata": {
        "colab": {
          "base_uri": "https://localhost:8080/"
        },
        "id": "xkHqlwFtdvah",
        "outputId": "b92027bf-523e-4de5-edad-9124152fa0b0"
      },
      "execution_count": null,
      "outputs": [
        {
          "output_type": "stream",
          "name": "stdout",
          "text": [
            "I'm a boy.\n"
          ]
        }
      ]
    },
    {
      "cell_type": "code",
      "source": [
        "print(\"그가 \\\"안녕\\\"이라고 말했다.\")"
      ],
      "metadata": {
        "colab": {
          "base_uri": "https://localhost:8080/"
        },
        "id": "CjWEBvTLeCfO",
        "outputId": "68586cc2-0f32-40e3-d368-7361c5bf3580"
      },
      "execution_count": null,
      "outputs": [
        {
          "output_type": "stream",
          "name": "stdout",
          "text": [
            "그가 \"안녕\"이라고 말했다.\n"
          ]
        }
      ]
    },
    {
      "cell_type": "code",
      "source": [
        "print('그가 \"안녕\"이라고 말했다.')"
      ],
      "metadata": {
        "colab": {
          "base_uri": "https://localhost:8080/"
        },
        "id": "IrYlOrYtehY3",
        "outputId": "736ad8e1-f9c1-4527-f99a-62fed584db87"
      },
      "execution_count": null,
      "outputs": [
        {
          "output_type": "stream",
          "name": "stdout",
          "text": [
            "그가 \"안녕\"이라고 말했다.\n"
          ]
        }
      ]
    },
    {
      "cell_type": "markdown",
      "source": [
        "#인용문"
      ],
      "metadata": {
        "id": "e_WbqMPVeaYB"
      }
    },
    {
      "cell_type": "code",
      "source": [
        "print(\"===\")\n",
        "azalea =\"\"\"\n",
        "\n",
        "나 보기가 역겨워\n",
        "가실 때에는\n",
        "말없이 고이 보내\n",
        "드리오리다.\n",
        "\"\"\"\n",
        "\n",
        "print(azalea)\n",
        "print(\"===\")"
      ],
      "metadata": {
        "colab": {
          "base_uri": "https://localhost:8080/"
        },
        "id": "X7c5ZecFeb8A",
        "outputId": "8a35cf6e-2593-42cc-e2e7-1cccb6d4f5a8"
      },
      "execution_count": null,
      "outputs": [
        {
          "output_type": "stream",
          "name": "stdout",
          "text": [
            "===\n",
            "\n",
            "\n",
            "나 보기가 역겨워\n",
            "가실 때에는\n",
            "말없이 고이 보내\n",
            "드리오리다.\n",
            "\n",
            "===\n"
          ]
        }
      ]
    },
    {
      "cell_type": "code",
      "source": [
        "print(\"===\")\n",
        "azalea2 =\"\"\"\\\n",
        "\n",
        "나 보기가 역겨워\n",
        "가실 때에는\n",
        "말없이 고이 보내\n",
        "드리오리다.\\\n",
        "\"\"\"\n",
        "\n",
        "print(azalea2)\n",
        "print(\"===\")"
      ],
      "metadata": {
        "colab": {
          "base_uri": "https://localhost:8080/"
        },
        "id": "YoiYdlglfEXw",
        "outputId": "51894d6f-0b89-4cbe-82ff-c21c5522b7a7"
      },
      "execution_count": null,
      "outputs": [
        {
          "output_type": "stream",
          "name": "stdout",
          "text": [
            "===\n",
            "\n",
            "나 보기가 역겨워\n",
            "가실 때에는\n",
            "말없이 고이 보내\n",
            "드리오리다.\n",
            "===\n"
          ]
        }
      ]
    },
    {
      "cell_type": "markdown",
      "source": [
        "#문자 코드"
      ],
      "metadata": {
        "id": "9TnxvxNKffVc"
      }
    },
    {
      "cell_type": "code",
      "source": [
        "print(\"a:\",ord('a'),\"A:\",ord('A'),\"0:\",ord('0')) #'a':0110 0001 'A':0101 0001 '0':0011 0001"
      ],
      "metadata": {
        "colab": {
          "base_uri": "https://localhost:8080/"
        },
        "id": "sZ6B1ZqNfgso",
        "outputId": "d21b8113-36d7-47dd-e41c-4f2aaac75cce"
      },
      "execution_count": null,
      "outputs": [
        {
          "output_type": "stream",
          "name": "stdout",
          "text": [
            "a: 97 A: 65 0: 48\n"
          ]
        }
      ]
    },
    {
      "cell_type": "code",
      "source": [
        "print(chr(97),chr(65),chr(48))"
      ],
      "metadata": {
        "colab": {
          "base_uri": "https://localhost:8080/"
        },
        "id": "JnlSywYogbLv",
        "outputId": "c3a28f88-d1c9-4464-a121-edb75adfacd9"
      },
      "execution_count": null,
      "outputs": [
        {
          "output_type": "stream",
          "name": "stdout",
          "text": [
            "a A 0\n"
          ]
        }
      ]
    }
  ]
}