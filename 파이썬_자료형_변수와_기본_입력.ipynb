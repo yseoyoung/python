{
  "nbformat": 4,
  "nbformat_minor": 0,
  "metadata": {
    "colab": {
      "name": "파이썬-자료형-변수와 기본 입력.ipynb",
      "provenance": [],
      "authorship_tag": "ABX9TyNlVH4vuh2rgMYkhQnd/Zpt",
      "include_colab_link": true
    },
    "kernelspec": {
      "name": "python3",
      "display_name": "Python 3"
    },
    "language_info": {
      "name": "python"
    }
  },
  "cells": [
    {
      "cell_type": "markdown",
      "metadata": {
        "id": "view-in-github",
        "colab_type": "text"
      },
      "source": [
        "<a href=\"https://colab.research.google.com/github/yseoyoung/python/blob/main/%ED%8C%8C%EC%9D%B4%EC%8D%AC_%EC%9E%90%EB%A3%8C%ED%98%95_%EB%B3%80%EC%88%98%EC%99%80_%EA%B8%B0%EB%B3%B8_%EC%9E%85%EB%A0%A5.ipynb\" target=\"_parent\"><img src=\"https://colab.research.google.com/assets/colab-badge.svg\" alt=\"Open In Colab\"/></a>"
      ]
    },
    {
      "cell_type": "markdown",
      "source": [
        "#변수"
      ],
      "metadata": {
        "id": "R7rniXpkkSqf"
      }
    },
    {
      "cell_type": "code",
      "source": [
        "korea = 90\n",
        "math = 85\n",
        "sum = korea + math\n",
        "print(\"국어:\",korea,\"수학:\",math,\"합계:\",sum) #변수 선언X 명명하는 순간 선언 및 할당이 자동으로 됨 (접근의 편리성)"
      ],
      "metadata": {
        "colab": {
          "base_uri": "https://localhost:8080/"
        },
        "id": "medyN0gtkR7f",
        "outputId": "59ac7251-6a3a-4259-9d3b-b285b51a3ea6"
      },
      "execution_count": null,
      "outputs": [
        {
          "output_type": "stream",
          "name": "stdout",
          "text": [
            "국어: 90 수학: 85 합계: 175\n"
          ]
        }
      ]
    },
    {
      "cell_type": "markdown",
      "source": [
        "#기본 입력 input"
      ],
      "metadata": {
        "id": "t9T5MpHvlUxL"
      }
    },
    {
      "cell_type": "code",
      "execution_count": null,
      "metadata": {
        "colab": {
          "base_uri": "https://localhost:8080/"
        },
        "id": "6Xefb9kkg2st",
        "outputId": "33b2c658-a7e4-40c9-e25d-b8eddd77e415"
      },
      "outputs": [
        {
          "output_type": "stream",
          "name": "stdout",
          "text": [
            "국어 점수:100\n",
            "수학 점수:100\n",
            "국어: 100 수학 100 합계: 100100\n"
          ]
        }
      ],
      "source": [
        "korea=input(\"국어 점수:\")\n",
        "math=input(\"수학 점수:\")\n",
        "print(\"국어:\",korea,\"수학\",math,\"합계:\",korea+math) #문자열의 합"
      ]
    },
    {
      "cell_type": "code",
      "source": [
        "print(type(korea),type(math))"
      ],
      "metadata": {
        "colab": {
          "base_uri": "https://localhost:8080/"
        },
        "id": "7cD3xalGl2NH",
        "outputId": "c9ae7cb4-4796-4b0d-8f38-1e440e75c842"
      },
      "execution_count": null,
      "outputs": [
        {
          "output_type": "stream",
          "name": "stdout",
          "text": [
            "<class 'str'> <class 'str'>\n"
          ]
        }
      ]
    },
    {
      "cell_type": "code",
      "source": [
        "korea = int(korea) #casting 형변환\n",
        "math = int(math)\n",
        "print(\"국어:\",korea,\"수학\",math,\"합계:\",korea+math)"
      ],
      "metadata": {
        "colab": {
          "base_uri": "https://localhost:8080/"
        },
        "id": "6xyd2Guhl_4p",
        "outputId": "ceaac164-1cca-4063-bdbf-c11acd3a2ca8"
      },
      "execution_count": null,
      "outputs": [
        {
          "output_type": "stream",
          "name": "stdout",
          "text": [
            "국어: 100 수학 100 합계: 200\n"
          ]
        }
      ]
    },
    {
      "cell_type": "code",
      "source": [
        "korea = int(input(\"국어 점수:\"))\n",
        "math = int(input(\"수학 점수:\"))\n",
        "print(\"국어:\",korea,\"수학\",math,\"합계:\",korea+math)"
      ],
      "metadata": {
        "colab": {
          "base_uri": "https://localhost:8080/"
        },
        "id": "qdk-L23pmQIi",
        "outputId": "4c5dbe34-622d-4f99-b8f7-27ea50e19cd9"
      },
      "execution_count": null,
      "outputs": [
        {
          "output_type": "stream",
          "name": "stdout",
          "text": [
            "국어 점수:42\n",
            "수학 점수:24\n",
            "국어: 42 수학 24 합계: 66\n"
          ]
        }
      ]
    },
    {
      "cell_type": "code",
      "source": [
        "fstr1 = \"12.34\"\n",
        "fstr2 = \"3.14\"\n",
        "f1 = float(fstr1)\n",
        "f2 = float(fstr2)\n",
        "print(\"fi:1\",f1,\"f2:\",f2,\"f1*f2=\",f1*f2)"
      ],
      "metadata": {
        "colab": {
          "base_uri": "https://localhost:8080/"
        },
        "id": "pdB23guim7M3",
        "outputId": "7030a693-33d5-4398-de55-05a9ea285c1b"
      },
      "execution_count": null,
      "outputs": [
        {
          "output_type": "stream",
          "name": "stdout",
          "text": [
            "fi:1 12.34 f2: 3.14 f1*f2= 38.7476\n"
          ]
        }
      ]
    },
    {
      "cell_type": "code",
      "source": [
        "k_str = str(korea)\n",
        "print(\"k_str:\",k_str,\"type:\",type(k_str))"
      ],
      "metadata": {
        "colab": {
          "base_uri": "https://localhost:8080/"
        },
        "id": "RwcUKPIJnPJV",
        "outputId": "c35c803d-10a9-4abb-f106-1fad10a5cdaa"
      },
      "execution_count": null,
      "outputs": [
        {
          "output_type": "stream",
          "name": "stdout",
          "text": [
            "k_str: 42 type: <class 'str'>\n"
          ]
        }
      ]
    }
  ]
}