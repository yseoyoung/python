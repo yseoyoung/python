{
  "nbformat": 4,
  "nbformat_minor": 0,
  "metadata": {
    "colab": {
      "name": "통계분석시각화_Numpy_소개.ipynb",
      "provenance": [],
      "collapsed_sections": [],
      "include_colab_link": true
    },
    "kernelspec": {
      "name": "python3",
      "display_name": "Python 3"
    },
    "language_info": {
      "name": "python"
    }
  },
  "cells": [
    {
      "cell_type": "markdown",
      "metadata": {
        "id": "view-in-github",
        "colab_type": "text"
      },
      "source": [
        "<a href=\"https://colab.research.google.com/github/yseoyoung/python/blob/main/%ED%86%B5%EA%B3%84%EB%B6%84%EC%84%9D%EC%8B%9C%EA%B0%81%ED%99%94_Numpy_%EC%86%8C%EA%B0%9C.ipynb\" target=\"_parent\"><img src=\"https://colab.research.google.com/assets/colab-badge.svg\" alt=\"Open In Colab\"/></a>"
      ]
    },
    {
      "cell_type": "markdown",
      "source": [
        "# Numpy 소개"
      ],
      "metadata": {
        "id": "C0763r4tOESl"
      }
    },
    {
      "cell_type": "code",
      "execution_count": null,
      "metadata": {
        "id": "kZrGTg1JMBIi"
      },
      "outputs": [],
      "source": [
        "import numpy as np"
      ]
    },
    {
      "cell_type": "markdown",
      "source": [
        "numpy는 선형 시퀀스를 배열 개체로 취급"
      ],
      "metadata": {
        "id": "B98eEmazOZwm"
      }
    },
    {
      "cell_type": "code",
      "source": [
        "ls = [1,2,3]\n",
        "arr = np.array(ls)\n",
        "print(arr)"
      ],
      "metadata": {
        "colab": {
          "base_uri": "https://localhost:8080/"
        },
        "id": "q-0jBEK4OSuN",
        "outputId": "a675d8c4-32cd-476e-e916-8a7c5589f708"
      },
      "execution_count": null,
      "outputs": [
        {
          "output_type": "stream",
          "name": "stdout",
          "text": [
            "[1 2 3]\n"
          ]
        }
      ]
    },
    {
      "cell_type": "code",
      "source": [
        "arr = np.array([1,2,3])\n",
        "print(arr)"
      ],
      "metadata": {
        "colab": {
          "base_uri": "https://localhost:8080/"
        },
        "id": "PKbhtzuTOm2m",
        "outputId": "1c27e2a7-4f39-4bf6-c963-89e534b3b51f"
      },
      "execution_count": null,
      "outputs": [
        {
          "output_type": "stream",
          "name": "stdout",
          "text": [
            "[1 2 3]\n"
          ]
        }
      ]
    },
    {
      "cell_type": "code",
      "source": [
        "print(\"구조\",arr.shape)\n",
        "print(\"차원:\",arr.ndim) #ndim : 차원"
      ],
      "metadata": {
        "colab": {
          "base_uri": "https://localhost:8080/"
        },
        "id": "l6CLPJ77Owuv",
        "outputId": "691be007-f8ae-4ed8-f886-8fd63bac72e6"
      },
      "execution_count": null,
      "outputs": [
        {
          "output_type": "stream",
          "name": "stdout",
          "text": [
            "구조 (3,)\n",
            "차원: 1\n"
          ]
        }
      ]
    },
    {
      "cell_type": "markdown",
      "source": [
        "다차원 배열"
      ],
      "metadata": {
        "id": "Q2qQ-rlOPRok"
      }
    },
    {
      "cell_type": "code",
      "source": [
        "ls = [[1,2,3],[4,5,6],[7,8,9],[10,11,12]]\n",
        "arr = np.array(ls)\n",
        "print(arr)"
      ],
      "metadata": {
        "colab": {
          "base_uri": "https://localhost:8080/"
        },
        "id": "qAYHJiEQPSl9",
        "outputId": "999103fb-b412-4fdf-8f40-b3778de8b4a9"
      },
      "execution_count": null,
      "outputs": [
        {
          "output_type": "stream",
          "name": "stdout",
          "text": [
            "[[ 1  2  3]\n",
            " [ 4  5  6]\n",
            " [ 7  8  9]\n",
            " [10 11 12]]\n"
          ]
        }
      ]
    },
    {
      "cell_type": "code",
      "source": [
        "print(\"구조\",arr.shape)\n",
        "print(\"차원:\",arr.ndim) # ndim : 차원"
      ],
      "metadata": {
        "colab": {
          "base_uri": "https://localhost:8080/"
        },
        "id": "sVSmy4CsPfjN",
        "outputId": "8f03e0bd-3a81-4d69-b976-e9dd2f14d06e"
      },
      "execution_count": null,
      "outputs": [
        {
          "output_type": "stream",
          "name": "stdout",
          "text": [
            "구조 (4, 3)\n",
            "차원: 2\n"
          ]
        }
      ]
    },
    {
      "cell_type": "markdown",
      "source": [
        "# 다양한 방법의 생성"
      ],
      "metadata": {
        "id": "rKU9jSXaQTAw"
      }
    },
    {
      "cell_type": "code",
      "source": [
        "z_arr = np.zeros(10) # 주어진 shape나 type에 맞춰 zero들로 가득한 array를 반환하는 함수\n",
        "print(z_arr)\n",
        "print(\"구조:\",z_arr.shape)\n",
        "print(\"차원:\",z_arr.ndim)\n",
        "print(\"원소 형식:\",z_arr.dtype) #default는 float(실수)- 0은 정수일 수도 있고 실수일 수도 있다는 점, optional하기에 굳이 선택하지 않아도 됨"
      ],
      "metadata": {
        "colab": {
          "base_uri": "https://localhost:8080/"
        },
        "id": "qrYw8cKBQVzk",
        "outputId": "3a305795-3ec5-47e3-8a1f-9284386838bb"
      },
      "execution_count": null,
      "outputs": [
        {
          "output_type": "stream",
          "name": "stdout",
          "text": [
            "[0. 0. 0. 0. 0. 0. 0. 0. 0. 0.]\n",
            "구조: (10,)\n",
            "차원: 1\n",
            "원소 형식: float64\n"
          ]
        }
      ]
    },
    {
      "cell_type": "code",
      "source": [
        "z_arr = np.zeros((2,3))\n",
        "print(z_arr)\n",
        "print(\"구조:\",z_arr.shape)\n",
        "print(\"차원:\",z_arr.ndim)\n",
        "print(\"원소 형식:\",z_arr.dtype)"
      ],
      "metadata": {
        "colab": {
          "base_uri": "https://localhost:8080/"
        },
        "id": "gUbcadKDS3wT",
        "outputId": "74b76751-3e97-461c-b17d-a92487f4de9a"
      },
      "execution_count": null,
      "outputs": [
        {
          "output_type": "stream",
          "name": "stdout",
          "text": [
            "[[0. 0. 0.]\n",
            " [0. 0. 0.]]\n",
            "구조: (2, 3)\n",
            "차원: 2\n",
            "원소 형식: float64\n"
          ]
        }
      ]
    },
    {
      "cell_type": "code",
      "source": [
        "def view_arr_info(arr):\n",
        "  print(arr)\n",
        "  print(\"구조:\",arr.shape)\n",
        "  print(\"차원:\",arr.ndim)\n",
        "  print(\"원소 형식:\",arr.dtype)"
      ],
      "metadata": {
        "id": "iCyMgIPgTgnh"
      },
      "execution_count": null,
      "outputs": []
    },
    {
      "cell_type": "code",
      "source": [
        "z_arr = np.zeros((3,2,4),dtype=int)\n",
        "view_arr_info(z_arr)"
      ],
      "metadata": {
        "colab": {
          "base_uri": "https://localhost:8080/"
        },
        "id": "iGad82xYToJY",
        "outputId": "836accab-d85c-4221-f2cd-5c14f17d41a0"
      },
      "execution_count": null,
      "outputs": [
        {
          "output_type": "stream",
          "name": "stdout",
          "text": [
            "[[[0 0 0 0]\n",
            "  [0 0 0 0]]\n",
            "\n",
            " [[0 0 0 0]\n",
            "  [0 0 0 0]]\n",
            "\n",
            " [[0 0 0 0]\n",
            "  [0 0 0 0]]]\n",
            "구조: (3, 2, 4)\n",
            "차원: 3\n",
            "원소 형식: int64\n"
          ]
        }
      ]
    },
    {
      "cell_type": "code",
      "source": [
        "o_arr = np.ones(10)\n",
        "view_arr_info(o_arr)\n"
      ],
      "metadata": {
        "colab": {
          "base_uri": "https://localhost:8080/"
        },
        "id": "_cZRptuUUIJg",
        "outputId": "4495ba0a-dacb-42ac-af06-0851ef484c5e"
      },
      "execution_count": null,
      "outputs": [
        {
          "output_type": "stream",
          "name": "stdout",
          "text": [
            "[1. 1. 1. 1. 1. 1. 1. 1. 1. 1.]\n",
            "구조: (10,)\n",
            "차원: 1\n",
            "원소 형식: float64\n"
          ]
        }
      ]
    },
    {
      "cell_type": "code",
      "source": [
        "s_arr = np.arange(100)\n",
        "view_arr_info(s_arr)"
      ],
      "metadata": {
        "colab": {
          "base_uri": "https://localhost:8080/"
        },
        "id": "Do8D8SgyZ_7E",
        "outputId": "069b0610-de6a-4730-bdc4-de97359df87e"
      },
      "execution_count": null,
      "outputs": [
        {
          "output_type": "stream",
          "name": "stdout",
          "text": [
            "[ 0  1  2  3  4  5  6  7  8  9 10 11 12 13 14 15 16 17 18 19 20 21 22 23\n",
            " 24 25 26 27 28 29 30 31 32 33 34 35 36 37 38 39 40 41 42 43 44 45 46 47\n",
            " 48 49 50 51 52 53 54 55 56 57 58 59 60 61 62 63 64 65 66 67 68 69 70 71\n",
            " 72 73 74 75 76 77 78 79 80 81 82 83 84 85 86 87 88 89 90 91 92 93 94 95\n",
            " 96 97 98 99]\n",
            "구조: (100,)\n",
            "차원: 1\n",
            "원소 형식: int64\n"
          ]
        }
      ]
    },
    {
      "cell_type": "code",
      "source": [
        "s_arr = np.arange(50,100)\n",
        "view_arr_info(s_arr)"
      ],
      "metadata": {
        "colab": {
          "base_uri": "https://localhost:8080/"
        },
        "id": "j5GPjomIaM4S",
        "outputId": "86d4cd3f-3b5b-4cef-9977-fa06ec12dfd6"
      },
      "execution_count": null,
      "outputs": [
        {
          "output_type": "stream",
          "name": "stdout",
          "text": [
            "[50 51 52 53 54 55 56 57 58 59 60 61 62 63 64 65 66 67 68 69 70 71 72 73\n",
            " 74 75 76 77 78 79 80 81 82 83 84 85 86 87 88 89 90 91 92 93 94 95 96 97\n",
            " 98 99]\n",
            "구조: (50,)\n",
            "차원: 1\n",
            "원소 형식: int64\n"
          ]
        }
      ]
    },
    {
      "cell_type": "code",
      "source": [
        "r_arr = np.random.randint(0,100,size=10,dtype=int)\n",
        "view_arr_info(r_arr)"
      ],
      "metadata": {
        "colab": {
          "base_uri": "https://localhost:8080/"
        },
        "id": "7FTbf6aCaaaq",
        "outputId": "6b742b6f-fc62-4593-962c-f972088f671b"
      },
      "execution_count": null,
      "outputs": [
        {
          "output_type": "stream",
          "name": "stdout",
          "text": [
            "[80 85 62 39 64 70 53  2 22 48]\n",
            "구조: (10,)\n",
            "차원: 1\n",
            "원소 형식: int64\n"
          ]
        }
      ]
    },
    {
      "cell_type": "markdown",
      "source": [
        "#기본적인 사용"
      ],
      "metadata": {
        "id": "q3Uq7JQQfsTY"
      }
    },
    {
      "cell_type": "code",
      "source": [
        "a1 = np.arange(1,100)\n",
        "view_arr_info(a1)"
      ],
      "metadata": {
        "colab": {
          "base_uri": "https://localhost:8080/"
        },
        "id": "GDzF5dwybGVP",
        "outputId": "a6b637d5-da39-46c6-a4ce-50f67c4c059b"
      },
      "execution_count": null,
      "outputs": [
        {
          "output_type": "stream",
          "name": "stdout",
          "text": [
            "[ 1  2  3  4  5  6  7  8  9 10 11 12 13 14 15 16 17 18 19 20 21 22 23 24\n",
            " 25 26 27 28 29 30 31 32 33 34 35 36 37 38 39 40 41 42 43 44 45 46 47 48\n",
            " 49 50 51 52 53 54 55 56 57 58 59 60 61 62 63 64 65 66 67 68 69 70 71 72\n",
            " 73 74 75 76 77 78 79 80 81 82 83 84 85 86 87 88 89 90 91 92 93 94 95 96\n",
            " 97 98 99]\n",
            "구조: (99,)\n",
            "차원: 1\n",
            "원소 형식: int64\n"
          ]
        }
      ]
    },
    {
      "cell_type": "code",
      "source": [
        "print(a1[4]) #인덱스를 통해 원소에 접근\n",
        "a1[4]=9\n",
        "print(a1[4])"
      ],
      "metadata": {
        "colab": {
          "base_uri": "https://localhost:8080/"
        },
        "id": "_-9oFwWweJfW",
        "outputId": "3d6460d0-d9f2-4d21-e3b5-272e6e1065b1"
      },
      "execution_count": null,
      "outputs": [
        {
          "output_type": "stream",
          "name": "stdout",
          "text": [
            "5\n",
            "9\n"
          ]
        }
      ]
    },
    {
      "cell_type": "code",
      "source": [
        "print(a1[2:8]) #슬라이스를 통해 부분 원소를 선택\n",
        "print(a1[:8])\n",
        "print(a1[8:])"
      ],
      "metadata": {
        "colab": {
          "base_uri": "https://localhost:8080/"
        },
        "id": "4NXSCvwveXet",
        "outputId": "130d6a47-eb7e-48af-d391-0faa8ddfd8d4"
      },
      "execution_count": null,
      "outputs": [
        {
          "output_type": "stream",
          "name": "stdout",
          "text": [
            "[3 4 9 6 7 8]\n",
            "[1 2 3 4 9 6 7 8]\n",
            "[ 9 10 11 12 13 14 15 16 17 18 19 20 21 22 23 24 25 26 27 28 29 30 31 32\n",
            " 33 34 35 36 37 38 39 40 41 42 43 44 45 46 47 48 49 50 51 52 53 54 55 56\n",
            " 57 58 59 60 61 62 63 64 65 66 67 68 69 70 71 72 73 74 75 76 77 78 79 80\n",
            " 81 82 83 84 85 86 87 88 89 90 91 92 93 94 95 96 97 98 99]\n"
          ]
        }
      ]
    },
    {
      "cell_type": "code",
      "source": [
        "a1 = np.arange(0,100)\n",
        "view_arr_info(a1)\n",
        "a2 = a1.reshape(5,20)\n",
        "view_arr_info(a2)"
      ],
      "metadata": {
        "colab": {
          "base_uri": "https://localhost:8080/"
        },
        "id": "Kf6LOJJ1eiN4",
        "outputId": "e11c8c85-7c44-448e-cc49-4ff478fba1a5"
      },
      "execution_count": null,
      "outputs": [
        {
          "output_type": "stream",
          "name": "stdout",
          "text": [
            "[ 0  1  2  3  4  5  6  7  8  9 10 11 12 13 14 15 16 17 18 19 20 21 22 23\n",
            " 24 25 26 27 28 29 30 31 32 33 34 35 36 37 38 39 40 41 42 43 44 45 46 47\n",
            " 48 49 50 51 52 53 54 55 56 57 58 59 60 61 62 63 64 65 66 67 68 69 70 71\n",
            " 72 73 74 75 76 77 78 79 80 81 82 83 84 85 86 87 88 89 90 91 92 93 94 95\n",
            " 96 97 98 99]\n",
            "구조: (100,)\n",
            "차원: 1\n",
            "원소 형식: int64\n",
            "[[ 0  1  2  3  4  5  6  7  8  9 10 11 12 13 14 15 16 17 18 19]\n",
            " [20 21 22 23 24 25 26 27 28 29 30 31 32 33 34 35 36 37 38 39]\n",
            " [40 41 42 43 44 45 46 47 48 49 50 51 52 53 54 55 56 57 58 59]\n",
            " [60 61 62 63 64 65 66 67 68 69 70 71 72 73 74 75 76 77 78 79]\n",
            " [80 81 82 83 84 85 86 87 88 89 90 91 92 93 94 95 96 97 98 99]]\n",
            "구조: (5, 20)\n",
            "차원: 2\n",
            "원소 형식: int64\n"
          ]
        }
      ]
    },
    {
      "cell_type": "code",
      "source": [
        "print(a2[0]) #인덱스 0인 원소: 리스트[0,1,2,....,19]\n",
        "print(a2[0][2]) #인덱스 0인 원소: 리스트[0,1,2,....,19]의 인덱스 2인 원소"
      ],
      "metadata": {
        "colab": {
          "base_uri": "https://localhost:8080/"
        },
        "id": "FgqpZjsUe7T1",
        "outputId": "54d53b52-4204-4093-a494-ac3c824e27c4"
      },
      "execution_count": null,
      "outputs": [
        {
          "output_type": "stream",
          "name": "stdout",
          "text": [
            "[ 0  1  2  3  4  5  6  7  8  9 10 11 12 13 14 15 16 17 18 19]\n",
            "2\n"
          ]
        }
      ]
    },
    {
      "cell_type": "code",
      "source": [
        "#음의 정수로 인덱스를 표현하면 뒤에서부터 접근(-1부터 시작)\n",
        "print(a2[0][-1]) #인덱스 0인 원소: 리스트[0,1,2,....,19]의 인덱스 -1인 원소"
      ],
      "metadata": {
        "colab": {
          "base_uri": "https://localhost:8080/"
        },
        "id": "rCVpOEr5fZPz",
        "outputId": "dec9cf09-4c74-4df9-bc1e-3dc886fa800c"
      },
      "execution_count": null,
      "outputs": [
        {
          "output_type": "stream",
          "name": "stdout",
          "text": [
            "19\n"
          ]
        }
      ]
    },
    {
      "cell_type": "markdown",
      "source": [
        "#구조 변경"
      ],
      "metadata": {
        "id": "119TR2IlfxOb"
      }
    },
    {
      "cell_type": "code",
      "source": [
        "a1 = np.arange(100)\n",
        "view_arr_info(a1)"
      ],
      "metadata": {
        "colab": {
          "base_uri": "https://localhost:8080/"
        },
        "id": "qniIfkrwfywi",
        "outputId": "c1e5d300-007a-4fee-d00d-e29b0987bed2"
      },
      "execution_count": null,
      "outputs": [
        {
          "output_type": "stream",
          "name": "stdout",
          "text": [
            "[ 0  1  2  3  4  5  6  7  8  9 10 11 12 13 14 15 16 17 18 19 20 21 22 23\n",
            " 24 25 26 27 28 29 30 31 32 33 34 35 36 37 38 39 40 41 42 43 44 45 46 47\n",
            " 48 49 50 51 52 53 54 55 56 57 58 59 60 61 62 63 64 65 66 67 68 69 70 71\n",
            " 72 73 74 75 76 77 78 79 80 81 82 83 84 85 86 87 88 89 90 91 92 93 94 95\n",
            " 96 97 98 99]\n",
            "구조: (100,)\n",
            "차원: 1\n",
            "원소 형식: int64\n"
          ]
        }
      ]
    },
    {
      "cell_type": "code",
      "source": [
        "a2 = a1.reshape((10,-1)) #-1로 하면 알아서 10행에 맞게 열이 자동으로 생성됨\n",
        "view_arr_info(a2)"
      ],
      "metadata": {
        "colab": {
          "base_uri": "https://localhost:8080/"
        },
        "id": "fmCxS2VjgPCL",
        "outputId": "2feb0190-3a3a-4623-ebe7-a0049510bcdc"
      },
      "execution_count": null,
      "outputs": [
        {
          "output_type": "stream",
          "name": "stdout",
          "text": [
            "[[ 0  1  2  3  4  5  6  7  8  9]\n",
            " [10 11 12 13 14 15 16 17 18 19]\n",
            " [20 21 22 23 24 25 26 27 28 29]\n",
            " [30 31 32 33 34 35 36 37 38 39]\n",
            " [40 41 42 43 44 45 46 47 48 49]\n",
            " [50 51 52 53 54 55 56 57 58 59]\n",
            " [60 61 62 63 64 65 66 67 68 69]\n",
            " [70 71 72 73 74 75 76 77 78 79]\n",
            " [80 81 82 83 84 85 86 87 88 89]\n",
            " [90 91 92 93 94 95 96 97 98 99]]\n",
            "구조: (10, 10)\n",
            "차원: 2\n",
            "원소 형식: int64\n"
          ]
        }
      ]
    },
    {
      "cell_type": "code",
      "source": [
        "a1 = np.arange(784)\n",
        "view_arr_info(a1)"
      ],
      "metadata": {
        "colab": {
          "base_uri": "https://localhost:8080/"
        },
        "id": "y_047K3DgZ_3",
        "outputId": "1e7cf5ac-4251-42eb-e76a-9a61011b07d6"
      },
      "execution_count": null,
      "outputs": [
        {
          "output_type": "stream",
          "name": "stdout",
          "text": [
            "[  0   1   2   3   4   5   6   7   8   9  10  11  12  13  14  15  16  17\n",
            "  18  19  20  21  22  23  24  25  26  27  28  29  30  31  32  33  34  35\n",
            "  36  37  38  39  40  41  42  43  44  45  46  47  48  49  50  51  52  53\n",
            "  54  55  56  57  58  59  60  61  62  63  64  65  66  67  68  69  70  71\n",
            "  72  73  74  75  76  77  78  79  80  81  82  83  84  85  86  87  88  89\n",
            "  90  91  92  93  94  95  96  97  98  99 100 101 102 103 104 105 106 107\n",
            " 108 109 110 111 112 113 114 115 116 117 118 119 120 121 122 123 124 125\n",
            " 126 127 128 129 130 131 132 133 134 135 136 137 138 139 140 141 142 143\n",
            " 144 145 146 147 148 149 150 151 152 153 154 155 156 157 158 159 160 161\n",
            " 162 163 164 165 166 167 168 169 170 171 172 173 174 175 176 177 178 179\n",
            " 180 181 182 183 184 185 186 187 188 189 190 191 192 193 194 195 196 197\n",
            " 198 199 200 201 202 203 204 205 206 207 208 209 210 211 212 213 214 215\n",
            " 216 217 218 219 220 221 222 223 224 225 226 227 228 229 230 231 232 233\n",
            " 234 235 236 237 238 239 240 241 242 243 244 245 246 247 248 249 250 251\n",
            " 252 253 254 255 256 257 258 259 260 261 262 263 264 265 266 267 268 269\n",
            " 270 271 272 273 274 275 276 277 278 279 280 281 282 283 284 285 286 287\n",
            " 288 289 290 291 292 293 294 295 296 297 298 299 300 301 302 303 304 305\n",
            " 306 307 308 309 310 311 312 313 314 315 316 317 318 319 320 321 322 323\n",
            " 324 325 326 327 328 329 330 331 332 333 334 335 336 337 338 339 340 341\n",
            " 342 343 344 345 346 347 348 349 350 351 352 353 354 355 356 357 358 359\n",
            " 360 361 362 363 364 365 366 367 368 369 370 371 372 373 374 375 376 377\n",
            " 378 379 380 381 382 383 384 385 386 387 388 389 390 391 392 393 394 395\n",
            " 396 397 398 399 400 401 402 403 404 405 406 407 408 409 410 411 412 413\n",
            " 414 415 416 417 418 419 420 421 422 423 424 425 426 427 428 429 430 431\n",
            " 432 433 434 435 436 437 438 439 440 441 442 443 444 445 446 447 448 449\n",
            " 450 451 452 453 454 455 456 457 458 459 460 461 462 463 464 465 466 467\n",
            " 468 469 470 471 472 473 474 475 476 477 478 479 480 481 482 483 484 485\n",
            " 486 487 488 489 490 491 492 493 494 495 496 497 498 499 500 501 502 503\n",
            " 504 505 506 507 508 509 510 511 512 513 514 515 516 517 518 519 520 521\n",
            " 522 523 524 525 526 527 528 529 530 531 532 533 534 535 536 537 538 539\n",
            " 540 541 542 543 544 545 546 547 548 549 550 551 552 553 554 555 556 557\n",
            " 558 559 560 561 562 563 564 565 566 567 568 569 570 571 572 573 574 575\n",
            " 576 577 578 579 580 581 582 583 584 585 586 587 588 589 590 591 592 593\n",
            " 594 595 596 597 598 599 600 601 602 603 604 605 606 607 608 609 610 611\n",
            " 612 613 614 615 616 617 618 619 620 621 622 623 624 625 626 627 628 629\n",
            " 630 631 632 633 634 635 636 637 638 639 640 641 642 643 644 645 646 647\n",
            " 648 649 650 651 652 653 654 655 656 657 658 659 660 661 662 663 664 665\n",
            " 666 667 668 669 670 671 672 673 674 675 676 677 678 679 680 681 682 683\n",
            " 684 685 686 687 688 689 690 691 692 693 694 695 696 697 698 699 700 701\n",
            " 702 703 704 705 706 707 708 709 710 711 712 713 714 715 716 717 718 719\n",
            " 720 721 722 723 724 725 726 727 728 729 730 731 732 733 734 735 736 737\n",
            " 738 739 740 741 742 743 744 745 746 747 748 749 750 751 752 753 754 755\n",
            " 756 757 758 759 760 761 762 763 764 765 766 767 768 769 770 771 772 773\n",
            " 774 775 776 777 778 779 780 781 782 783]\n",
            "구조: (784,)\n",
            "차원: 1\n",
            "원소 형식: int64\n"
          ]
        }
      ]
    },
    {
      "cell_type": "code",
      "source": [
        "a2 = a1.reshape(28,-1) #열의 크기를 모를 때 자동으로 생성됨\n",
        "view_arr_info(a2)"
      ],
      "metadata": {
        "colab": {
          "base_uri": "https://localhost:8080/"
        },
        "id": "bbET0JjUgevA",
        "outputId": "37c6c52d-5230-45a2-a8e6-2a56edd8be50"
      },
      "execution_count": null,
      "outputs": [
        {
          "output_type": "stream",
          "name": "stdout",
          "text": [
            "[[  0   1   2   3   4   5   6   7   8   9  10  11  12  13  14  15  16  17\n",
            "   18  19  20  21  22  23  24  25  26  27]\n",
            " [ 28  29  30  31  32  33  34  35  36  37  38  39  40  41  42  43  44  45\n",
            "   46  47  48  49  50  51  52  53  54  55]\n",
            " [ 56  57  58  59  60  61  62  63  64  65  66  67  68  69  70  71  72  73\n",
            "   74  75  76  77  78  79  80  81  82  83]\n",
            " [ 84  85  86  87  88  89  90  91  92  93  94  95  96  97  98  99 100 101\n",
            "  102 103 104 105 106 107 108 109 110 111]\n",
            " [112 113 114 115 116 117 118 119 120 121 122 123 124 125 126 127 128 129\n",
            "  130 131 132 133 134 135 136 137 138 139]\n",
            " [140 141 142 143 144 145 146 147 148 149 150 151 152 153 154 155 156 157\n",
            "  158 159 160 161 162 163 164 165 166 167]\n",
            " [168 169 170 171 172 173 174 175 176 177 178 179 180 181 182 183 184 185\n",
            "  186 187 188 189 190 191 192 193 194 195]\n",
            " [196 197 198 199 200 201 202 203 204 205 206 207 208 209 210 211 212 213\n",
            "  214 215 216 217 218 219 220 221 222 223]\n",
            " [224 225 226 227 228 229 230 231 232 233 234 235 236 237 238 239 240 241\n",
            "  242 243 244 245 246 247 248 249 250 251]\n",
            " [252 253 254 255 256 257 258 259 260 261 262 263 264 265 266 267 268 269\n",
            "  270 271 272 273 274 275 276 277 278 279]\n",
            " [280 281 282 283 284 285 286 287 288 289 290 291 292 293 294 295 296 297\n",
            "  298 299 300 301 302 303 304 305 306 307]\n",
            " [308 309 310 311 312 313 314 315 316 317 318 319 320 321 322 323 324 325\n",
            "  326 327 328 329 330 331 332 333 334 335]\n",
            " [336 337 338 339 340 341 342 343 344 345 346 347 348 349 350 351 352 353\n",
            "  354 355 356 357 358 359 360 361 362 363]\n",
            " [364 365 366 367 368 369 370 371 372 373 374 375 376 377 378 379 380 381\n",
            "  382 383 384 385 386 387 388 389 390 391]\n",
            " [392 393 394 395 396 397 398 399 400 401 402 403 404 405 406 407 408 409\n",
            "  410 411 412 413 414 415 416 417 418 419]\n",
            " [420 421 422 423 424 425 426 427 428 429 430 431 432 433 434 435 436 437\n",
            "  438 439 440 441 442 443 444 445 446 447]\n",
            " [448 449 450 451 452 453 454 455 456 457 458 459 460 461 462 463 464 465\n",
            "  466 467 468 469 470 471 472 473 474 475]\n",
            " [476 477 478 479 480 481 482 483 484 485 486 487 488 489 490 491 492 493\n",
            "  494 495 496 497 498 499 500 501 502 503]\n",
            " [504 505 506 507 508 509 510 511 512 513 514 515 516 517 518 519 520 521\n",
            "  522 523 524 525 526 527 528 529 530 531]\n",
            " [532 533 534 535 536 537 538 539 540 541 542 543 544 545 546 547 548 549\n",
            "  550 551 552 553 554 555 556 557 558 559]\n",
            " [560 561 562 563 564 565 566 567 568 569 570 571 572 573 574 575 576 577\n",
            "  578 579 580 581 582 583 584 585 586 587]\n",
            " [588 589 590 591 592 593 594 595 596 597 598 599 600 601 602 603 604 605\n",
            "  606 607 608 609 610 611 612 613 614 615]\n",
            " [616 617 618 619 620 621 622 623 624 625 626 627 628 629 630 631 632 633\n",
            "  634 635 636 637 638 639 640 641 642 643]\n",
            " [644 645 646 647 648 649 650 651 652 653 654 655 656 657 658 659 660 661\n",
            "  662 663 664 665 666 667 668 669 670 671]\n",
            " [672 673 674 675 676 677 678 679 680 681 682 683 684 685 686 687 688 689\n",
            "  690 691 692 693 694 695 696 697 698 699]\n",
            " [700 701 702 703 704 705 706 707 708 709 710 711 712 713 714 715 716 717\n",
            "  718 719 720 721 722 723 724 725 726 727]\n",
            " [728 729 730 731 732 733 734 735 736 737 738 739 740 741 742 743 744 745\n",
            "  746 747 748 749 750 751 752 753 754 755]\n",
            " [756 757 758 759 760 761 762 763 764 765 766 767 768 769 770 771 772 773\n",
            "  774 775 776 777 778 779 780 781 782 783]]\n",
            "구조: (28, 28)\n",
            "차원: 2\n",
            "원소 형식: int64\n"
          ]
        }
      ]
    },
    {
      "cell_type": "markdown",
      "source": [
        "#쉬어가는 코너"
      ],
      "metadata": {
        "id": "hfiSMKHXhvH0"
      }
    },
    {
      "cell_type": "code",
      "source": [
        "from tensorflow import keras"
      ],
      "metadata": {
        "id": "nG1ausqlgja8"
      },
      "execution_count": null,
      "outputs": []
    },
    {
      "cell_type": "code",
      "source": [
        "data = keras.datasets.mnist.load_data() #손글씨 데이터를 다운로드"
      ],
      "metadata": {
        "colab": {
          "base_uri": "https://localhost:8080/"
        },
        "id": "T4DY5TeWiV_4",
        "outputId": "158a9935-b291-4c2b-ffcb-d58fe7388e77"
      },
      "execution_count": null,
      "outputs": [
        {
          "output_type": "stream",
          "name": "stdout",
          "text": [
            "Downloading data from https://storage.googleapis.com/tensorflow/tf-keras-datasets/mnist.npz\n",
            "11493376/11490434 [==============================] - 0s 0us/step\n",
            "11501568/11490434 [==============================] - 0s 0us/step\n"
          ]
        }
      ]
    },
    {
      "cell_type": "code",
      "source": [
        "train_data, test_data = data #학습용 데이터, 평가용 데이터로 분리\n",
        "image_train, label_train = train_data #이미지 ,실제값"
      ],
      "metadata": {
        "id": "4OSiwUIAimKS"
      },
      "execution_count": null,
      "outputs": []
    },
    {
      "cell_type": "code",
      "source": [
        "print(image_train.shape)\n",
        "print(label_train.shape)"
      ],
      "metadata": {
        "colab": {
          "base_uri": "https://localhost:8080/"
        },
        "id": "31ctlqftit_Y",
        "outputId": "9dffa088-d229-43e3-82be-64c0d9ade0d3"
      },
      "execution_count": null,
      "outputs": [
        {
          "output_type": "stream",
          "name": "stdout",
          "text": [
            "(60000, 28, 28)\n",
            "(60000,)\n"
          ]
        }
      ]
    },
    {
      "cell_type": "code",
      "source": [
        "for r in range(28):\n",
        "  for c in range(28):\n",
        "    if(image_train[0][r][c] == 0 ):\n",
        "      print(\"  \", end='')\n",
        "    else:\n",
        "      print(\"■\", end='')\n",
        "  print()\n",
        "print(label_train[0])"
      ],
      "metadata": {
        "colab": {
          "base_uri": "https://localhost:8080/"
        },
        "id": "CpQjyG1TjIxR",
        "outputId": "b6b95470-aef1-4ca5-eac8-e35abc763c8c"
      },
      "execution_count": null,
      "outputs": [
        {
          "output_type": "stream",
          "name": "stdout",
          "text": [
            "                                                        \n",
            "                                                        \n",
            "                                                        \n",
            "                                                        \n",
            "                              ■■■■■                \n",
            "                            ■■■■■■                \n",
            "                          ■■■■■■■■■            \n",
            "                      ■■■■■■■■■■■            \n",
            "                      ■■■■■■■■■■■            \n",
            "                    ■■■■■■■■■■■■            \n",
            "                  ■■■■■■■■■    ■■■          \n",
            "                ■■■■■■            ■■■          \n",
            "              ■■■■■■■            ■■■          \n",
            "              ■■■■                  ■■■          \n",
            "              ■■■                    ■■■          \n",
            "            ■■■■                    ■■■          \n",
            "            ■■■■                ■■■■■          \n",
            "            ■■■                ■■■■■            \n",
            "            ■■■              ■■■■                \n",
            "            ■■■            ■■■■                  \n",
            "            ■■■■■■■■■■■■■                  \n",
            "            ■■■■■■■■■■■                      \n",
            "            ■■■■■■■■■                          \n",
            "              ■■■■■■■                            \n",
            "                                                        \n",
            "                                                        \n",
            "                                                        \n",
            "                                                        \n",
            "0\n"
          ]
        }
      ]
    }
  ]
}