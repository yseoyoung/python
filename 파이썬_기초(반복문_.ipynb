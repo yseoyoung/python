{
  "nbformat": 4,
  "nbformat_minor": 0,
  "metadata": {
    "colab": {
      "name": "파이썬_기초(반복문_.ipynb",
      "provenance": [],
      "collapsed_sections": [],
      "include_colab_link": true
    },
    "kernelspec": {
      "name": "python3",
      "display_name": "Python 3"
    },
    "language_info": {
      "name": "python"
    }
  },
  "cells": [
    {
      "cell_type": "markdown",
      "metadata": {
        "id": "view-in-github",
        "colab_type": "text"
      },
      "source": [
        "<a href=\"https://colab.research.google.com/github/yseoyoung/python/blob/main/%ED%8C%8C%EC%9D%B4%EC%8D%AC_%EA%B8%B0%EC%B4%88(%EB%B0%98%EB%B3%B5%EB%AC%B8_.ipynb\" target=\"_parent\"><img src=\"https://colab.research.google.com/assets/colab-badge.svg\" alt=\"Open In Colab\"/></a>"
      ]
    },
    {
      "cell_type": "markdown",
      "source": [
        "#튜플\n",
        "\n",
        "여러 개의 원소로 구성한 자료 구조(컬렉션) -> 서로 다른 타입들 모일 수 있음  \n",
        "원소의 값을 변경할 수 없다.  "
      ],
      "metadata": {
        "id": "S0r9h6JmluSV"
      }
    },
    {
      "cell_type": "code",
      "source": [
        "tup1 = (1,)\n",
        "tup2 = (1, 'a')\n",
        "tup3 = (1, 'abc', (2,3,'ab'))\n",
        "print(tup1)\n",
        "print(tup2)\n",
        "print(tup3)"
      ],
      "metadata": {
        "colab": {
          "base_uri": "https://localhost:8080/"
        },
        "id": "BJ5MFOJSmWFN",
        "outputId": "a1143265-5e9f-469d-fde4-fb275a943b5c"
      },
      "execution_count": null,
      "outputs": [
        {
          "output_type": "stream",
          "name": "stdout",
          "text": [
            "(1,)\n",
            "(1, 'a')\n",
            "(1, 'abc', (2, 3, 'ab'))\n"
          ]
        }
      ]
    },
    {
      "cell_type": "code",
      "source": [
        "tup1 = (1,2,3)\n",
        "print(tup1[0]) #인덱스 접근 가능\n",
        "print(tup1[1])\n",
        "print(tup1[2])"
      ],
      "metadata": {
        "colab": {
          "base_uri": "https://localhost:8080/"
        },
        "id": "u6MU5tvxmxdB",
        "outputId": "9284a632-fd84-483b-a851-239e3052a41d"
      },
      "execution_count": null,
      "outputs": [
        {
          "output_type": "stream",
          "name": "stdout",
          "text": [
            "1\n",
            "2\n",
            "3\n"
          ]
        }
      ]
    },
    {
      "cell_type": "code",
      "source": [
        "#tup1[0] = 7 튜플은 원소의 값을 변경할 수 없다.\n",
        "#나머지 부분은 리스트와 사용법 동일"
      ],
      "metadata": {
        "id": "iBzCI5IAnHd-"
      },
      "execution_count": null,
      "outputs": []
    },
    {
      "cell_type": "markdown",
      "source": [
        "#리스트\n",
        "\n",
        "여러 개의 원소,요소(element)로 구성한 자료 구조(컬렉션) -> 변수의 타입이 통일되지 않아도 된다  \n",
        "튜플과 다르게 원소의 값을 변경할 수 있다.  "
      ],
      "metadata": {
        "id": "yQeOxl0vnPoZ"
      }
    },
    {
      "cell_type": "code",
      "source": [
        "ls1 = [1,2,3,4]\n",
        "print(ls1)"
      ],
      "metadata": {
        "colab": {
          "base_uri": "https://localhost:8080/"
        },
        "id": "u3ljbtrVnWad",
        "outputId": "e8a74f40-f426-4748-c05f-31732ae5b312"
      },
      "execution_count": null,
      "outputs": [
        {
          "output_type": "stream",
          "name": "stdout",
          "text": [
            "[1, 2, 3, 4]\n"
          ]
        }
      ]
    },
    {
      "cell_type": "code",
      "source": [
        "ls2 = [1,2,3,'a',[1,2,3],(1,2,'a')]\n",
        "print(ls2)"
      ],
      "metadata": {
        "colab": {
          "base_uri": "https://localhost:8080/"
        },
        "id": "JaH2Fev4npl2",
        "outputId": "5b1c1cdb-2c50-4fbd-b474-f9e5d4ee52d0"
      },
      "execution_count": null,
      "outputs": [
        {
          "output_type": "stream",
          "name": "stdout",
          "text": [
            "[1, 2, 3, 'a', [1, 2, 3], (1, 2, 'a')]\n"
          ]
        }
      ]
    },
    {
      "cell_type": "code",
      "source": [
        "ls1 = [1,2,3,4,5,'a','b']\n",
        "print(ls1[0])\n",
        "print(ls1[1])\n",
        "print(ls1[2])\n",
        "print(ls1[3])\n",
        "print(ls1[4])\n",
        "print(ls1[5])\n",
        "print(ls1[6])\n",
        "# print(ls1[7]) list index out of range 경계의 오류"
      ],
      "metadata": {
        "colab": {
          "base_uri": "https://localhost:8080/"
        },
        "id": "YW8e_blOoXxH",
        "outputId": "96be087c-b0dc-43d0-9776-336ea6455fec"
      },
      "execution_count": null,
      "outputs": [
        {
          "output_type": "stream",
          "name": "stdout",
          "text": [
            "1\n",
            "2\n",
            "3\n",
            "4\n",
            "5\n",
            "a\n",
            "b\n"
          ]
        }
      ]
    },
    {
      "cell_type": "code",
      "source": [
        "s = \"abcdefg\"\n",
        "print(s[1:3])"
      ],
      "metadata": {
        "colab": {
          "base_uri": "https://localhost:8080/"
        },
        "id": "ikSWNybootJk",
        "outputId": "714b562e-aae5-4fa5-b67c-067161d628ab"
      },
      "execution_count": null,
      "outputs": [
        {
          "output_type": "stream",
          "name": "stdout",
          "text": [
            "bc\n"
          ]
        }
      ]
    },
    {
      "cell_type": "code",
      "source": [
        "s1 = [1,2,3,'a','b']\n",
        "print(ls1[1:3]) #list도 slice 가능\n",
        "print(ls1[:3]) #처음부터 3번째 원소까지\n",
        "print(ls1[1:]) #1번째 원소부터 마지막까지"
      ],
      "metadata": {
        "colab": {
          "base_uri": "https://localhost:8080/"
        },
        "id": "XzBSaT6Gozt6",
        "outputId": "fe3e7cf2-d5f9-435d-925d-fbdea7a9995e"
      },
      "execution_count": null,
      "outputs": [
        {
          "output_type": "stream",
          "name": "stdout",
          "text": [
            "[2, 3]\n",
            "[1, 2, 3]\n",
            "[2, 3, 4, 5, 'a', 'b']\n"
          ]
        }
      ]
    },
    {
      "cell_type": "code",
      "source": [
        "tup1 = (1,2,3)\n",
        "ls1 = [1,2,3]\n",
        "\n",
        "#tup1[0]=3 #'tuple' object does not support item assignment\n",
        "ls1[0]=3 # list는 원소의 값을 변경할 수 있음 -> 튜플은 잘 사용되지 않음\n",
        "print(ls1)"
      ],
      "metadata": {
        "colab": {
          "base_uri": "https://localhost:8080/"
        },
        "id": "ERBanUH9pPMK",
        "outputId": "91998c93-4252-4daa-f7ed-e31c6ff38716"
      },
      "execution_count": null,
      "outputs": [
        {
          "output_type": "stream",
          "name": "stdout",
          "text": [
            "[3, 2, 3]\n"
          ]
        }
      ]
    },
    {
      "cell_type": "code",
      "source": [
        "ls1 = [1,2,3,4,5,6]\n",
        "print(ls1[-1]) #마지막 원소\n",
        "print(ls1[-2])\n",
        "print(ls1[-3])\n",
        "print(ls1[-4])\n",
        "print(ls1[-5])\n",
        "print(ls1[-6])"
      ],
      "metadata": {
        "colab": {
          "base_uri": "https://localhost:8080/"
        },
        "id": "VpE0OMxZpqMy",
        "outputId": "ca428373-64fc-4d34-f3dc-e87f3114d944"
      },
      "execution_count": null,
      "outputs": [
        {
          "output_type": "stream",
          "name": "stdout",
          "text": [
            "6\n",
            "5\n",
            "4\n",
            "3\n",
            "2\n",
            "1\n"
          ]
        }
      ]
    },
    {
      "cell_type": "code",
      "source": [
        "ls1 = [[90,80,45],[88,95,64],[99,64,89]] #텐서? 머신러닝, 딥러닝에서는 텐서를 가장 많이 사용한다\n",
        "#TensorFlow, n차원 배열로 이해할 수 있다.\n",
        "print(ls1[0])\n",
        "print(ls1[0][2])"
      ],
      "metadata": {
        "colab": {
          "base_uri": "https://localhost:8080/"
        },
        "id": "4iVaPzneqE9U",
        "outputId": "ca6919ac-9015-4c0c-b8d2-9f8d3caf3edd"
      },
      "execution_count": null,
      "outputs": [
        {
          "output_type": "stream",
          "name": "stdout",
          "text": [
            "[90, 80, 45]\n",
            "45\n"
          ]
        }
      ]
    },
    {
      "cell_type": "code",
      "source": [
        "ls1 = [1,2,3]\n",
        "ls2 = ['a','b','c']\n",
        "print(ls1+ls2) #다른 타입이어도 리스트 더하기 연산 가능\n",
        "print(ls1) #원본 리스트는 변경되지 않는다.\n",
        "print(ls2)\n",
        "ls3 = ls1 + ls2 #별도의 변수를 선언하여 사용\n",
        "print(ls3)"
      ],
      "metadata": {
        "colab": {
          "base_uri": "https://localhost:8080/"
        },
        "id": "C9FhQ3TtrQpo",
        "outputId": "93a66696-8dd4-40f6-ddd4-63258bd63292"
      },
      "execution_count": null,
      "outputs": [
        {
          "output_type": "stream",
          "name": "stdout",
          "text": [
            "[1, 2, 3, 'a', 'b', 'c']\n",
            "[1, 2, 3]\n",
            "['a', 'b', 'c']\n",
            "[1, 2, 3, 'a', 'b', 'c']\n"
          ]
        }
      ]
    },
    {
      "cell_type": "code",
      "source": [
        "ls1 = [1,2,3]\n",
        "ls2 = ['a','b','c']\n",
        "print(ls1*3) #곱하기 연산\n",
        "s1 = \"홍길동\"\n",
        "print(s1*3)"
      ],
      "metadata": {
        "colab": {
          "base_uri": "https://localhost:8080/"
        },
        "id": "Z2Z5A8trr-yM",
        "outputId": "209b9874-996c-422e-ceb5-950ad366b11a"
      },
      "execution_count": null,
      "outputs": [
        {
          "output_type": "stream",
          "name": "stdout",
          "text": [
            "[1, 2, 3, 1, 2, 3, 1, 2, 3]\n",
            "홍길동홍길동홍길동\n"
          ]
        }
      ]
    },
    {
      "cell_type": "code",
      "source": [
        "print(len('abcdefghijklmnopqrstuvwxyz'))\n",
        "print(len([1,2,3,4,5,6,7,8,9,10,'a','b']))"
      ],
      "metadata": {
        "colab": {
          "base_uri": "https://localhost:8080/"
        },
        "id": "11dW9J8HsME9",
        "outputId": "a7546899-dc54-40c2-c1d1-912b0aeb20cc"
      },
      "execution_count": null,
      "outputs": [
        {
          "output_type": "stream",
          "name": "stdout",
          "text": [
            "26\n",
            "12\n"
          ]
        }
      ]
    },
    {
      "cell_type": "code",
      "source": [
        "ls1 = list() #빈 리스트 생성\n",
        "print(ls1)\n",
        "print(type(ls1))"
      ],
      "metadata": {
        "colab": {
          "base_uri": "https://localhost:8080/"
        },
        "id": "qjVpWM8itWpa",
        "outputId": "47d95c43-dcf0-4aa1-87da-a82f96ef327c"
      },
      "execution_count": null,
      "outputs": [
        {
          "output_type": "stream",
          "name": "stdout",
          "text": [
            "[]\n",
            "<class 'list'>\n"
          ]
        }
      ]
    },
    {
      "cell_type": "code",
      "source": [
        "ls1.append(3) #순차 보관(위치, 인덱스 지정 불가)\n",
        "ls1.append(7)\n",
        "ls1.append(2)\n",
        "ls1.append(8)\n",
        "ls1.append(9)\n",
        "ls1.append(10)\n",
        "print(ls1)"
      ],
      "metadata": {
        "colab": {
          "base_uri": "https://localhost:8080/"
        },
        "id": "o9K08xxntiUF",
        "outputId": "6d4f50ca-e277-4fb7-e6a6-e1d2f10e7846"
      },
      "execution_count": null,
      "outputs": [
        {
          "output_type": "stream",
          "name": "stdout",
          "text": [
            "[3, 7, 2, 8, 9, 310, 3, 7, 2, 8, 9, 10]\n"
          ]
        }
      ]
    },
    {
      "cell_type": "code",
      "source": [
        "ls = [1,2,3,4,5,6,7]\n",
        "num = 3\n",
        "ls.insert(2,num) #index(2) 위치에 삽입\n",
        "print(ls)"
      ],
      "metadata": {
        "colab": {
          "base_uri": "https://localhost:8080/"
        },
        "id": "pQ5xhkSDtyOa",
        "outputId": "59066e09-be92-4ad1-84eb-16d8fb1ba4c3"
      },
      "execution_count": null,
      "outputs": [
        {
          "output_type": "stream",
          "name": "stdout",
          "text": [
            "[1, 2, 3, 3, 4, 5, 6, 7]\n"
          ]
        }
      ]
    },
    {
      "cell_type": "markdown",
      "source": [
        "리스트 병합"
      ],
      "metadata": {
        "id": "sXYizwhJunqW"
      }
    },
    {
      "cell_type": "code",
      "source": [
        "ls1 = [1,2,3]\n",
        "ls2 = ['a','b','c']\n",
        "ls1.extend(ls2) #ls1을 ls2만큼 확장\n",
        "print(ls1) #변경됨\n",
        "print(ls2) #그대로"
      ],
      "metadata": {
        "colab": {
          "base_uri": "https://localhost:8080/"
        },
        "id": "tPmieOXeum5H",
        "outputId": "0270b8bf-37e9-4591-bab6-41144b572897"
      },
      "execution_count": null,
      "outputs": [
        {
          "output_type": "stream",
          "name": "stdout",
          "text": [
            "[1, 2, 3, 'a', 'b', 'c']\n",
            "['a', 'b', 'c']\n"
          ]
        }
      ]
    },
    {
      "cell_type": "markdown",
      "source": [
        "리스트 요소 제거하기  \n",
        "append로 추가하고 pop으로 꺼내면 stack처럼 동작한다.  \n",
        "LIFO(Last In First Out)"
      ],
      "metadata": {
        "id": "rrGK0Vux0iXY"
      }
    },
    {
      "cell_type": "code",
      "source": [
        "ls1 = [1,2,3,4,5,6,7,8]\n",
        "print(ls1)\n",
        "re = ls1.pop() #'지워진다' 보다는 '꺼낸다'는 표현 많이 사용\n",
        "print(re)\n",
        "print(ls1)\n",
        "re = ls1.pop(3) #인덱스 지정 가능\n",
        "print(re)\n",
        "print(ls1)"
      ],
      "metadata": {
        "colab": {
          "base_uri": "https://localhost:8080/"
        },
        "id": "6sq2aMJI0kgd",
        "outputId": "09b63c6d-03e9-4093-a595-9d842c1b0e5b"
      },
      "execution_count": null,
      "outputs": [
        {
          "output_type": "stream",
          "name": "stdout",
          "text": [
            "[1, 2, 3, 4, 5, 6, 7, 8]\n",
            "8\n",
            "[1, 2, 3, 4, 5, 6, 7]\n",
            "4\n",
            "[1, 2, 3, 5, 6, 7]\n"
          ]
        }
      ]
    },
    {
      "cell_type": "code",
      "source": [
        "ls1 = [1,2,3,4,5,6,7,8]\n",
        "print(ls1)\n",
        "del ls1[2] #'지운다'는 개념\n",
        "print(ls1)\n",
        "del ls1[2]\n",
        "print(ls1)\n",
        "del ls1[2:]\n",
        "print(ls1) #대괄호를 사용하므로 범위 지정 가능"
      ],
      "metadata": {
        "colab": {
          "base_uri": "https://localhost:8080/"
        },
        "id": "bBfPTrTo1RrF",
        "outputId": "5157ad15-ed9f-4344-e2d1-73d436940367"
      },
      "execution_count": null,
      "outputs": [
        {
          "output_type": "stream",
          "name": "stdout",
          "text": [
            "[1, 2, 3, 4, 5, 6, 7, 8]\n",
            "[1, 2, 4, 5, 6, 7, 8]\n",
            "[1, 2, 5, 6, 7, 8]\n",
            "[1, 2]\n"
          ]
        }
      ]
    },
    {
      "cell_type": "code",
      "source": [
        "member_list = ['홍길동','강감찬','을지문덕','고길동','김구']\n",
        "\n",
        "print(member_list)\n",
        "name = input(\"지울 회원 : \")\n",
        "member_list.remove(name) #인덱스가 아닌 값으로 지우기\n",
        "print(member_list)"
      ],
      "metadata": {
        "colab": {
          "base_uri": "https://localhost:8080/"
        },
        "id": "rucHPGnG1z0L",
        "outputId": "a01f88d3-4f4c-4f77-af71-1718360d5886"
      },
      "execution_count": null,
      "outputs": [
        {
          "output_type": "stream",
          "name": "stdout",
          "text": [
            "['홍길동', '강감찬', '을지문덕', '고길동', '김구']\n",
            "지울 회원 : 고길동\n",
            "['홍길동', '강감찬', '을지문덕', '김구']\n"
          ]
        }
      ]
    },
    {
      "cell_type": "code",
      "source": [
        "member_list = ['홍길동','강감찬','을지문덕','고길동','김구']\n",
        "\n",
        "print(member_list)\n",
        "member_list.clear() #완전 삭제\n",
        "print(member_list)"
      ],
      "metadata": {
        "colab": {
          "base_uri": "https://localhost:8080/"
        },
        "id": "a8KO_N7n2bbD",
        "outputId": "9b90b820-d932-4666-d10a-f7d3252a0101"
      },
      "execution_count": null,
      "outputs": [
        {
          "output_type": "stream",
          "name": "stdout",
          "text": [
            "['홍길동', '강감찬', '을지문덕', '고길동', '김구']\n",
            "[]\n"
          ]
        }
      ]
    },
    {
      "cell_type": "code",
      "source": [
        "s = \"나는 집에 간다. 그리고 나는 잠을 잔다.\"\n",
        "print(\"간다\" in s) #문자열 내부에 있는지 확인하기"
      ],
      "metadata": {
        "colab": {
          "base_uri": "https://localhost:8080/"
        },
        "id": "EO-P_lWw3DIu",
        "outputId": "77417962-9d40-46c9-c5bd-fea2b125e1f7"
      },
      "execution_count": null,
      "outputs": [
        {
          "output_type": "stream",
          "name": "stdout",
          "text": [
            "True\n"
          ]
        }
      ]
    },
    {
      "cell_type": "code",
      "source": [
        "member_list = ['홍길동','강감찬','을지문덕','고길동','김구']\n",
        "name = input(\"검색할 회원 : \")\n",
        "if name in member_list:\n",
        "  print(\"존재합니다.\")\n",
        "else:\n",
        "  print(\"아직 회원이 아닙니다.\")"
      ],
      "metadata": {
        "colab": {
          "base_uri": "https://localhost:8080/"
        },
        "id": "DoSjWn5t3OVC",
        "outputId": "e33366d2-7884-4bf4-cd72-9c3127c062ab"
      },
      "execution_count": null,
      "outputs": [
        {
          "output_type": "stream",
          "name": "stdout",
          "text": [
            "검색할 회원 : 홍길동\n",
            "존재합니다.\n"
          ]
        }
      ]
    },
    {
      "cell_type": "markdown",
      "source": [
        "#반복문(for문)\n",
        "list, dictionary 자료구조와 연계되어 90% 이상이 for문을 사용한다.  "
      ],
      "metadata": {
        "id": "SjVMViJR3sG-"
      }
    },
    {
      "cell_type": "code",
      "source": [
        "for i in range(10):\n",
        "  print(i, end=' ')"
      ],
      "metadata": {
        "colab": {
          "base_uri": "https://localhost:8080/"
        },
        "id": "5IzLegkN3tPt",
        "outputId": "aced33d3-3f9d-42bb-c3e8-bd4f81f75a89"
      },
      "execution_count": null,
      "outputs": [
        {
          "output_type": "stream",
          "name": "stdout",
          "text": [
            "0 1 2 3 4 5 6 7 8 9 "
          ]
        }
      ]
    },
    {
      "cell_type": "code",
      "source": [
        "ls = [3,4,8,9]\n",
        "for i in ls:\n",
        "  print(i, end=' ')"
      ],
      "metadata": {
        "colab": {
          "base_uri": "https://localhost:8080/"
        },
        "id": "etMKRCXJ4ws8",
        "outputId": "84e4ef80-938e-4e32-870f-8eff374a0189"
      },
      "execution_count": null,
      "outputs": [
        {
          "output_type": "stream",
          "name": "stdout",
          "text": [
            "3 4 8 9 "
          ]
        }
      ]
    },
    {
      "cell_type": "markdown",
      "source": [
        "#연습문제   \n",
        "10명의 회원 이름을 받아 출력하시오."
      ],
      "metadata": {
        "id": "BdYmE9y76t1b"
      }
    },
    {
      "cell_type": "code",
      "source": [
        "member_names=[]\n",
        "for i in range(10):\n",
        "  name = input(f\"{i+1}번째 이름 : \")\n",
        "  member_names.append(name)\n",
        "print(member_names)"
      ],
      "metadata": {
        "colab": {
          "base_uri": "https://localhost:8080/"
        },
        "id": "TfO771MQ6wsy",
        "outputId": "cd0f12d1-1209-4330-c95e-f06ee54181f2"
      },
      "execution_count": null,
      "outputs": [
        {
          "output_type": "stream",
          "name": "stdout",
          "text": [
            "1번째 이름 : 1\n",
            "2번째 이름 : 2\n",
            "3번째 이름 : 3\n",
            "4번째 이름 : 4\n",
            "5번째 이름 : 5\n",
            "6번째 이름 : 6\n",
            "7번째 이름 : 7\n",
            "8번째 이름 : 8\n",
            "9번째 이름 : 9\n",
            "10번째 이름 : 10\n",
            "['1', '2', '3', '4', '5', '6', '7', '8', '9', '10']\n"
          ]
        }
      ]
    },
    {
      "cell_type": "markdown",
      "source": [
        "국어, 영어, 수학 점수를 입력 받아 평균을 구하여 출력하시오.  \n",
        "단, 점수는 리스트에 보관"
      ],
      "metadata": {
        "id": "C08pZKK97l0c"
      }
    },
    {
      "cell_type": "code",
      "source": [
        "score_list = [] #점수를 기억할 컬렉션 생성\n",
        "subjects=(\"국어\",\"영어\",\"수학\")\n",
        "sum = 0\n",
        "for i in range(len(subjects)): #반복(3과목)\n",
        "  score = int(input(f\"{subjects[i]} 점수 입력:\")) #점수 입력\n",
        "  score_list.append(score) #컬렉션에 보관\n",
        "  sum += score_list[i]\n",
        "avg = sum/3 #평균 출력\n",
        "print(\"==> 평균:\",avg)"
      ],
      "metadata": {
        "colab": {
          "base_uri": "https://localhost:8080/"
        },
        "id": "xFpe-EV07tQj",
        "outputId": "d7dbde9e-1620-4ed2-f8e5-77f42790d9dc"
      },
      "execution_count": null,
      "outputs": [
        {
          "output_type": "stream",
          "name": "stdout",
          "text": [
            "국어 점수 입력:98\n",
            "영어 점수 입력:80\n",
            "수학 점수 입력:95\n",
            "==> 평균: 91.0\n"
          ]
        }
      ]
    },
    {
      "cell_type": "markdown",
      "source": [
        "#딕셔너리  \n",
        "키와 값을 쌍으로 갖는 요소를 보관하는 자료구조(컬렉션"
      ],
      "metadata": {
        "id": "mGENXKKaC8SU"
      }
    },
    {
      "cell_type": "code",
      "source": [
        "member_states = {\"홍길동\":23,\n",
        "                 \"강감찬\":17,\n",
        "                 \"을지문덕\":89}\n",
        "print(member_states)                 "
      ],
      "metadata": {
        "colab": {
          "base_uri": "https://localhost:8080/"
        },
        "id": "cdDlPuoGDBdv",
        "outputId": "99c9312d-ac04-4e2d-e790-284aea2384e3"
      },
      "execution_count": null,
      "outputs": [
        {
          "output_type": "stream",
          "name": "stdout",
          "text": [
            "{'홍길동': 23, '강감찬': 17, '을지문덕': 89}\n"
          ]
        }
      ]
    },
    {
      "cell_type": "code",
      "source": [
        "print(member_states[\"홍길동\"])"
      ],
      "metadata": {
        "colab": {
          "base_uri": "https://localhost:8080/"
        },
        "id": "_L0-YJEDDX8b",
        "outputId": "debe0f8b-529b-4ca3-e04b-7eeb8e68ee05"
      },
      "execution_count": null,
      "outputs": [
        {
          "output_type": "stream",
          "name": "stdout",
          "text": [
            "23\n"
          ]
        }
      ]
    },
    {
      "cell_type": "code",
      "source": [
        "subjects = (\"국어\",\"영어\",\"수학\")\n",
        "scores_dic = {}\n",
        "for i in range(3):\n",
        "  name = input(f\"{i+1}번째 학생 이름 :\") #같은 키 값은 사용할 수 없다\n",
        "  scores=[]\n",
        "  for s in subjects:\n",
        "    socre = int(input(f\"{s}:\"))\n",
        "    scores.append(score)\n",
        "  scores_dic[name] = scores #값 추가 or 변경\n",
        "print(scores_dic)"
      ],
      "metadata": {
        "colab": {
          "base_uri": "https://localhost:8080/"
        },
        "id": "05G7DinzDoTV",
        "outputId": "6b55bebd-e334-439c-8998-e395021b90ff"
      },
      "execution_count": null,
      "outputs": [
        {
          "output_type": "stream",
          "name": "stdout",
          "text": [
            "1번째 학생 이름 :세링\n",
            "국어:80\n",
            "영어:90\n",
            "수학:88\n",
            "2번째 학생 이름 :세린\n",
            "국어:98\n",
            "영어:80\n",
            "수학:94\n",
            "3번째 학생 이름 :세릭\n",
            "국어:97\n",
            "영어:88\n",
            "수학:75\n",
            "{'세링': [95, 95, 95], '세린': [95, 95, 95], '세릭': [95, 95, 95]}\n"
          ]
        }
      ]
    },
    {
      "cell_type": "code",
      "source": [
        "name = input(\"삭제할 학생:\")\n",
        "del scores_dic[name]\n",
        "print(scores_dic)"
      ],
      "metadata": {
        "colab": {
          "base_uri": "https://localhost:8080/"
        },
        "id": "EM9vEG4LFLBg",
        "outputId": "5c1991b3-7337-49af-9d4e-f9984b806388"
      },
      "execution_count": null,
      "outputs": [
        {
          "output_type": "stream",
          "name": "stdout",
          "text": [
            "삭제할 학생:세릭\n",
            "{'세링': [95, 95, 95], '세린': [95, 95, 95]}\n"
          ]
        }
      ]
    },
    {
      "cell_type": "code",
      "source": [
        "eh_att_dic = {}\n",
        "eh_att_dic[\"title\"]=\"언제나휴일\"\n",
        "eh_att_dic[\"url\"]=\"http://ehpub.co.kr\"\n",
        "eh_att_dic[\"desc\"]=\"어자구저저구\"\n",
        "print(eh_att_dic) #목적에 따라 다양하게 사용할 수 있음"
      ],
      "metadata": {
        "colab": {
          "base_uri": "https://localhost:8080/"
        },
        "id": "jZBA-IzNFjb2",
        "outputId": "eee2702f-350f-44ff-d5de-a21db0a8a377"
      },
      "execution_count": null,
      "outputs": [
        {
          "output_type": "stream",
          "name": "stdout",
          "text": [
            "{'title': '언제나휴일', 'url': 'http://ehpub.co.kr', 'desc': '어자구저저구'}\n"
          ]
        }
      ]
    },
    {
      "cell_type": "code",
      "source": [
        "if \"url\" in eh_att_dic:\n",
        "  print(f'존재합니다. url: {eh_att_dic[\"url\"]}')\n",
        "else:\n",
        "  print(\"url 정보가 없습니다\")\n",
        "  # --> 존재하지 않는 키를 인덱스 연산으로 사용하면 KeyError 발생\n",
        "  # 사용하기 전에 미리 확인하자"
      ],
      "metadata": {
        "colab": {
          "base_uri": "https://localhost:8080/"
        },
        "id": "YQnXLhafGKMs",
        "outputId": "a7b58799-c655-4cd5-c7b1-d90eccc48018"
      },
      "execution_count": null,
      "outputs": [
        {
          "output_type": "stream",
          "name": "stdout",
          "text": [
            "존재합니다. url: http://ehpub.co.kr\n"
          ]
        }
      ]
    },
    {
      "cell_type": "code",
      "source": [
        "value = eh_att_dic.get(\"url\")\n",
        "if value == None:\n",
        "  print(\"url 정보가 없습니다\")\n",
        "else:\n",
        "  print(f\"url:{value}\")"
      ],
      "metadata": {
        "colab": {
          "base_uri": "https://localhost:8080/"
        },
        "id": "q-UY-RyAG2z2",
        "outputId": "c126b4da-c8e2-4236-afde-531ed38ce799"
      },
      "execution_count": null,
      "outputs": [
        {
          "output_type": "stream",
          "name": "stdout",
          "text": [
            "url:http://ehpub.co.kr\n"
          ]
        }
      ]
    },
    {
      "cell_type": "markdown",
      "source": [
        "#while 반복문\n",
        "특정 조건이 참일 때 반복 "
      ],
      "metadata": {
        "id": "rTLiMa_JJEE7"
      }
    },
    {
      "cell_type": "code",
      "source": [
        "#사용자로부터 정수를 입력받아 합계를 계산하여 출력하시오.\n",
        "#사용자가 음수를 입력하면 더 이상 입력받지 않는다.\n",
        "\n",
        "sum = 0\n",
        "number = 0 \n",
        "\n",
        "#반복 number : = 사용자로부터 정수를 입력받고 number가 음수가 아니라면\n",
        "\n",
        "while number >= 0 : \n",
        "   sum += number\n",
        "   number = int(input(\"정수 : \")) \n",
        "print(sum) \n",
        "\n"
      ],
      "metadata": {
        "colab": {
          "base_uri": "https://localhost:8080/"
        },
        "id": "xIi0lRhTJJBm",
        "outputId": "d7ed77e6-9cf6-456a-b478-f39368026d58"
      },
      "execution_count": null,
      "outputs": [
        {
          "output_type": "stream",
          "name": "stdout",
          "text": [
            "정수 : 3\n",
            "정수 : 5\n",
            "정수 : -1\n",
            "8\n"
          ]
        }
      ]
    },
    {
      "cell_type": "code",
      "source": [
        "#무한루프 \n",
        "\n",
        "sum = 0\n",
        "while True : \n",
        "  number = int(input(\"정수 : \"))\n",
        "  if number < 0 :\n",
        "    break\n",
        "  sum += number\n",
        "print(sum)"
      ],
      "metadata": {
        "colab": {
          "base_uri": "https://localhost:8080/"
        },
        "id": "T08lXjYVKfL9",
        "outputId": "6e4220ec-e7dc-4238-af5c-e767a9dcf093"
      },
      "execution_count": null,
      "outputs": [
        {
          "output_type": "stream",
          "name": "stdout",
          "text": [
            "정수 : 3\n",
            "정수 : 5\n",
            "정수 : -14\n",
            "8\n"
          ]
        }
      ]
    },
    {
      "cell_type": "code",
      "source": [
        "for i in range(10) :\n",
        "  print(i, end = ' ')"
      ],
      "metadata": {
        "colab": {
          "base_uri": "https://localhost:8080/"
        },
        "id": "Y-v2T5TuLmpU",
        "outputId": "b37382f3-fa4c-4a9e-ba4b-241555147cd4"
      },
      "execution_count": null,
      "outputs": [
        {
          "output_type": "stream",
          "name": "stdout",
          "text": [
            "0 1 2 3 4 5 6 7 8 9 "
          ]
        }
      ]
    },
    {
      "cell_type": "code",
      "source": [
        "i = 0\n",
        "while i<10:\n",
        "  print(i, end= ' ')\n",
        "  i += 1"
      ],
      "metadata": {
        "colab": {
          "base_uri": "https://localhost:8080/"
        },
        "id": "mi8xxSEhLxZ8",
        "outputId": "e4e0516e-8151-4524-d8e1-fd7022f1aee7"
      },
      "execution_count": null,
      "outputs": [
        {
          "output_type": "stream",
          "name": "stdout",
          "text": [
            "0 1 2 3 4 5 6 7 8 9 "
          ]
        }
      ]
    },
    {
      "cell_type": "code",
      "source": [
        "i = 0\n",
        "while i<100:\n",
        "  i += 1\n",
        "  if i %2 == 0:\n",
        "    print(i, end = ' ')\n",
        "  elif i %3 == 0:\n",
        "    continue\n",
        "  else:\n",
        "    print(f'.{i}.')"
      ],
      "metadata": {
        "colab": {
          "base_uri": "https://localhost:8080/"
        },
        "id": "Jgw7X1cKL6Tw",
        "outputId": "bb3eb82e-7694-4c06-f8cd-15abdc75484e"
      },
      "execution_count": null,
      "outputs": [
        {
          "output_type": "stream",
          "name": "stdout",
          "text": [
            ".1.\n",
            "2 4 .5.\n",
            "6 .7.\n",
            "8 10 .11.\n",
            "12 .13.\n",
            "14 16 .17.\n",
            "18 .19.\n",
            "20 22 .23.\n",
            "24 .25.\n",
            "26 28 .29.\n",
            "30 .31.\n",
            "32 34 .35.\n",
            "36 .37.\n",
            "38 40 .41.\n",
            "42 .43.\n",
            "44 46 .47.\n",
            "48 .49.\n",
            "50 52 .53.\n",
            "54 .55.\n",
            "56 58 .59.\n",
            "60 .61.\n",
            "62 64 .65.\n",
            "66 .67.\n",
            "68 70 .71.\n",
            "72 .73.\n",
            "74 76 .77.\n",
            "78 .79.\n",
            "80 82 .83.\n",
            "84 .85.\n",
            "86 88 .89.\n",
            "90 .91.\n",
            "92 94 .95.\n",
            "96 .97.\n",
            "98 100 "
          ]
        }
      ]
    },
    {
      "cell_type": "markdown",
      "source": [
        "#리스트 관련 함수"
      ],
      "metadata": {
        "id": "x2twGhKQQH11"
      }
    },
    {
      "cell_type": "code",
      "source": [
        "ls = [10,98,11,23,45,77,6]\n",
        "print(\"최솟값 : \", min(ls))\n",
        "print(\"최댓값 : \", max(ls))\n",
        "print(\"합계 : \", sum(ls))"
      ],
      "metadata": {
        "colab": {
          "base_uri": "https://localhost:8080/"
        },
        "id": "r-pWPZsVL6hf",
        "outputId": "ff70c943-0b26-4e5a-a9a0-1ca5cb994326"
      },
      "execution_count": null,
      "outputs": [
        {
          "output_type": "stream",
          "name": "stdout",
          "text": [
            "최솟값 :  6\n",
            "최댓값 :  98\n",
            "합계 :  270\n"
          ]
        }
      ]
    },
    {
      "cell_type": "code",
      "source": [
        "ls.sort()\n",
        "print(ls)\n",
        "ls.reverse()\n",
        "print(ls)"
      ],
      "metadata": {
        "colab": {
          "base_uri": "https://localhost:8080/"
        },
        "id": "7RJI1LpiQoUG",
        "outputId": "d51ffe5e-82ec-4aaf-b8cd-8b8e5ebf99a1"
      },
      "execution_count": null,
      "outputs": [
        {
          "output_type": "stream",
          "name": "stdout",
          "text": [
            "[6, 10, 11, 23, 45, 77, 98]\n",
            "[98, 77, 45, 23, 11, 10, 6]\n"
          ]
        }
      ]
    },
    {
      "cell_type": "code",
      "source": [
        "rls = reversed(ls) \n",
        "for elem in rls:\n",
        "  print(elem, end=' ')\n",
        "print()\n",
        "print(ls)"
      ],
      "metadata": {
        "colab": {
          "base_uri": "https://localhost:8080/"
        },
        "id": "_-lL-mCmQzCg",
        "outputId": "b3b9015d-9d1d-440f-9b9a-26edae32ce02"
      },
      "execution_count": null,
      "outputs": [
        {
          "output_type": "stream",
          "name": "stdout",
          "text": [
            "6 10 11 23 45 77 98 \n",
            "[98, 77, 45, 23, 11, 10, 6]\n"
          ]
        }
      ]
    },
    {
      "cell_type": "code",
      "source": [
        "ls = [3,4,5,10,23,45,9]\n",
        "els = enumerate(ls)\n",
        "print(els)"
      ],
      "metadata": {
        "colab": {
          "base_uri": "https://localhost:8080/"
        },
        "id": "7j8EFFAURkNT",
        "outputId": "e36d9252-5489-42a4-8ee4-c4218e839754"
      },
      "execution_count": null,
      "outputs": [
        {
          "output_type": "stream",
          "name": "stdout",
          "text": [
            "<enumerate object at 0x7f44aa3406e0>\n"
          ]
        }
      ]
    },
    {
      "cell_type": "code",
      "source": [
        "print(list(els))"
      ],
      "metadata": {
        "colab": {
          "base_uri": "https://localhost:8080/"
        },
        "id": "2j3pxV6eRq73",
        "outputId": "8d0acb89-5002-47c8-c67b-daf51a385dd4"
      },
      "execution_count": null,
      "outputs": [
        {
          "output_type": "stream",
          "name": "stdout",
          "text": [
            "[(0, 3), (1, 4), (2, 5), (3, 10), (4, 23), (5, 45), (6, 9)]\n"
          ]
        }
      ]
    },
    {
      "cell_type": "code",
      "source": [
        "ls = [3,4,5,10,23,45,9]\n",
        "for index, elem in enumerate(ls):\n",
        "  print(f\"{index}:{elem}\")"
      ],
      "metadata": {
        "colab": {
          "base_uri": "https://localhost:8080/"
        },
        "id": "bykdIYfwRvEY",
        "outputId": "786989aa-8bbd-4050-92b4-40d0aed0a3de"
      },
      "execution_count": null,
      "outputs": [
        {
          "output_type": "stream",
          "name": "stdout",
          "text": [
            "0:3\n",
            "1:4\n",
            "2:5\n",
            "3:10\n",
            "4:23\n",
            "5:45\n",
            "6:9\n"
          ]
        }
      ]
    },
    {
      "cell_type": "markdown",
      "source": [
        "#딕셔너리"
      ],
      "metadata": {
        "id": "1mqcQjnDSMbY"
      }
    },
    {
      "cell_type": "code",
      "source": [
        "ex_dict = {}\n",
        "ex_dict[\"홍길동\"] = 78\n",
        "ex_dict[\"고길동\"] = 88\n",
        "ex_dict[\"박길동\"] = 76\n",
        "ex_dict[\"김길동\"] = 79\n",
        "print(ex_dict)"
      ],
      "metadata": {
        "colab": {
          "base_uri": "https://localhost:8080/"
        },
        "id": "6zeSclhnSQ_a",
        "outputId": "19b25cc9-1b27-4857-f9fe-892f258f8a4b"
      },
      "execution_count": null,
      "outputs": [
        {
          "output_type": "stream",
          "name": "stdout",
          "text": [
            "{'홍길동': 78, '고길동': 88, '박길동': 76, '김길동': 79}\n"
          ]
        }
      ]
    },
    {
      "cell_type": "code",
      "source": [
        "print(ex_dict.items())"
      ],
      "metadata": {
        "colab": {
          "base_uri": "https://localhost:8080/"
        },
        "id": "A24t3N9oSfj1",
        "outputId": "6751071d-598e-4fa4-d68e-5ee8de206972"
      },
      "execution_count": null,
      "outputs": [
        {
          "output_type": "stream",
          "name": "stdout",
          "text": [
            "dict_items([('홍길동', 78), ('고길동', 88), ('박길동', 76), ('김길동', 79)])\n"
          ]
        }
      ]
    },
    {
      "cell_type": "code",
      "source": [
        "for key, value in ex_dict.items() :\n",
        "  print(f\"key:{key} value:{value}\")"
      ],
      "metadata": {
        "colab": {
          "base_uri": "https://localhost:8080/"
        },
        "id": "DhXSwPlKSnQn",
        "outputId": "93768fb1-97fc-4a55-ee02-28790ab37a2f"
      },
      "execution_count": null,
      "outputs": [
        {
          "output_type": "stream",
          "name": "stdout",
          "text": [
            "key:홍길동 value:78\n",
            "key:고길동 value:88\n",
            "key:박길동 value:76\n",
            "key:김길동 value:79\n"
          ]
        }
      ]
    },
    {
      "cell_type": "code",
      "source": [
        "sdict = sorted(ex_dict)\n",
        "print(sdict)"
      ],
      "metadata": {
        "colab": {
          "base_uri": "https://localhost:8080/"
        },
        "id": "fw7ji7mtS5VL",
        "outputId": "a67aa33c-8ebd-432d-e131-9634744a90e4"
      },
      "execution_count": null,
      "outputs": [
        {
          "output_type": "stream",
          "name": "stdout",
          "text": [
            "['고길동', '김길동', '박길동', '홍길동']\n"
          ]
        }
      ]
    },
    {
      "cell_type": "markdown",
      "source": [
        "#고급진 리스트 컴프리핸션"
      ],
      "metadata": {
        "id": "Ga0dTKWeTGPE"
      }
    },
    {
      "cell_type": "markdown",
      "source": [
        "1~100까지 구성한 리스트 만들기"
      ],
      "metadata": {
        "id": "6eE1Hg7gUY1r"
      }
    },
    {
      "cell_type": "code",
      "source": [
        "ls = []\n",
        "for i in range(1, 100):\n",
        "  ls.append(i)\n",
        "print(ls)"
      ],
      "metadata": {
        "colab": {
          "base_uri": "https://localhost:8080/"
        },
        "id": "mSDGmr69UQdF",
        "outputId": "028558e0-c26b-4dfe-ee4c-7f57a68ef250"
      },
      "execution_count": null,
      "outputs": [
        {
          "output_type": "stream",
          "name": "stdout",
          "text": [
            "[1, 2, 3, 4, 5, 6, 7, 8, 9, 10, 11, 12, 13, 14, 15, 16, 17, 18, 19, 20, 21, 22, 23, 24, 25, 26, 27, 28, 29, 30, 31, 32, 33, 34, 35, 36, 37, 38, 39, 40, 41, 42, 43, 44, 45, 46, 47, 48, 49, 50, 51, 52, 53, 54, 55, 56, 57, 58, 59, 60, 61, 62, 63, 64, 65, 66, 67, 68, 69, 70, 71, 72, 73, 74, 75, 76, 77, 78, 79, 80, 81, 82, 83, 84, 85, 86, 87, 88, 89, 90, 91, 92, 93, 94, 95, 96, 97, 98, 99]\n"
          ]
        }
      ]
    },
    {
      "cell_type": "code",
      "source": [
        "ls = [i for i in range(1, 100)]\n",
        "print(ls)"
      ],
      "metadata": {
        "colab": {
          "base_uri": "https://localhost:8080/"
        },
        "id": "iUu44N0GUDBh",
        "outputId": "7a405f70-2e1f-423b-9c1d-b67d1f208922"
      },
      "execution_count": null,
      "outputs": [
        {
          "output_type": "stream",
          "name": "stdout",
          "text": [
            "[1, 2, 3, 4, 5, 6, 7, 8, 9, 10, 11, 12, 13, 14, 15, 16, 17, 18, 19, 20, 21, 22, 23, 24, 25, 26, 27, 28, 29, 30, 31, 32, 33, 34, 35, 36, 37, 38, 39, 40, 41, 42, 43, 44, 45, 46, 47, 48, 49, 50, 51, 52, 53, 54, 55, 56, 57, 58, 59, 60, 61, 62, 63, 64, 65, 66, 67, 68, 69, 70, 71, 72, 73, 74, 75, 76, 77, 78, 79, 80, 81, 82, 83, 84, 85, 86, 87, 88, 89, 90, 91, 92, 93, 94, 95, 96, 97, 98, 99]\n"
          ]
        }
      ]
    },
    {
      "cell_type": "markdown",
      "source": [
        "3의 배수로 구성된 리스트 만들기"
      ],
      "metadata": {
        "id": "ttXcRRtkUiKe"
      }
    },
    {
      "cell_type": "code",
      "source": [
        "ls = []\n",
        "for i in range(1,100):\n",
        "  if i % 3 == 0:\n",
        "    ls.append(i)\n",
        "print(ls)"
      ],
      "metadata": {
        "colab": {
          "base_uri": "https://localhost:8080/"
        },
        "id": "1oH5yYjiTs1W",
        "outputId": "5f4d166e-275c-459b-dc7b-0928bb254860"
      },
      "execution_count": null,
      "outputs": [
        {
          "output_type": "stream",
          "name": "stdout",
          "text": [
            "[3, 6, 9, 12, 15, 18, 21, 24, 27, 30, 33, 36, 39, 42, 45, 48, 51, 54, 57, 60, 63, 66, 69, 72, 75, 78, 81, 84, 87, 90, 93, 96, 99]\n"
          ]
        }
      ]
    },
    {
      "cell_type": "code",
      "source": [
        "ls = [i for i in range(1,100) if i%3==0]\n",
        "print(ls)"
      ],
      "metadata": {
        "colab": {
          "base_uri": "https://localhost:8080/"
        },
        "id": "LzFW-WUJT5kT",
        "outputId": "8d599d74-8865-48e3-be1d-d44f0761047e"
      },
      "execution_count": null,
      "outputs": [
        {
          "output_type": "stream",
          "name": "stdout",
          "text": [
            "[3, 6, 9, 12, 15, 18, 21, 24, 27, 30, 33, 36, 39, 42, 45, 48, 51, 54, 57, 60, 63, 66, 69, 72, 75, 78, 81, 84, 87, 90, 93, 96, 99]\n"
          ]
        }
      ]
    },
    {
      "cell_type": "markdown",
      "source": [
        "#소개 ~ 반복문 실습\n",
        "1. 사용자로부터 삼각형의 밑변과 높이를 입력받아 넓이를 출력하시오.\n",
        "   밑변과 높이는 실수를 입력할 수 있으며 넓이는 소수점 이하 2째 자리까지 출력하시오.\n",
        "\n",
        "2. 두 개의 정수를 입력받아 작은 수가 큰 수의 약수인지 아닌지를 출력하시오.\n",
        "\n",
        "3. 두 개의 정수를 입력받아 두 개의 정수 사이의 정수의 합계를 구하여 출력하시오.\n",
        "\n",
        "4. n개의 정수를 입력받아 평균과 표준 편차를 구하시오.\n",
        "\n",
        "5. n명의 국어, 영어, 수학 점수를 입력받아 출력하시오.\n",
        "\n",
        "6. n명의 국어, 영어, 수학 점수를 입력받아 과목별 합계, 평균, 표준 편차를 출력하시오.\n"
      ],
      "metadata": {
        "id": "z2JRDQFaTIkl"
      }
    },
    {
      "cell_type": "code",
      "source": [
        "# 1번\n",
        "base = float(input(\"삼각형의 밑변 : \"))\n",
        "height = float(input(\"삼각형의 높이 : \"))\n",
        "area = base * height * 1/2\n",
        "print(\"삼각형의 넓이 :\", \"{:.2f}\".format(area))\n",
        "# print(f\"넓이:{(base*height/2):.2f}\")"
      ],
      "metadata": {
        "colab": {
          "base_uri": "https://localhost:8080/"
        },
        "id": "x9hUKaS9WKom",
        "outputId": "d20c2302-94e2-44bd-e286-dad4c932d1ad"
      },
      "execution_count": null,
      "outputs": [
        {
          "output_type": "stream",
          "name": "stdout",
          "text": [
            "삼각형의 밑변 : 2\n",
            "삼각형의 높이 : 4.2\n",
            "삼각형의 넓이 : 4.20\n"
          ]
        }
      ]
    },
    {
      "cell_type": "code",
      "source": [
        "# 2번\n",
        "a = int(input(\"정수 : \"))\n",
        "b = int(input(\"정수 : \"))\n",
        "if (a >= b):\n",
        "  if (a%b==0):\n",
        "    print(f\"{b}는 {a}의 약수입니다.\")\n",
        "  else:\n",
        "    print(f\"{b}는 {a}의 약수가 아닙니다.\")\n",
        "elif (b >= a):\n",
        "  if (b%a==0):\n",
        "    print(f\"{a}는 {b}의 약수입니다.\")\n",
        "  else:\n",
        "    print(f\"{a}는 {b}의 약수가 아닙니다.\")"
      ],
      "metadata": {
        "colab": {
          "base_uri": "https://localhost:8080/"
        },
        "id": "uZoXFfTqsF8i",
        "outputId": "51dc9646-d5d8-4204-8ab4-7b8c2b05c89b"
      },
      "execution_count": null,
      "outputs": [
        {
          "output_type": "stream",
          "name": "stdout",
          "text": [
            "정수 : 4\n",
            "정수 : 2\n",
            "2는 4의 약수입니다.\n"
          ]
        }
      ]
    },
    {
      "cell_type": "code",
      "source": [
        "# 2번\n",
        "\n",
        "a = int(input(\"정수 : \"))\n",
        "b = int(input(\"정수 : \"))\n",
        "if a > b:\n",
        "  a,b = b,a\n",
        "if b % a == 0:\n",
        "  print(\"약수\")\n",
        "else:\n",
        "  print(\"no 약수\")"
      ],
      "metadata": {
        "colab": {
          "base_uri": "https://localhost:8080/"
        },
        "id": "MWJl7XLaT4Zv",
        "outputId": "144cd66d-9949-488d-9fd3-0d03f54578e7"
      },
      "execution_count": null,
      "outputs": [
        {
          "output_type": "stream",
          "name": "stdout",
          "text": [
            "정수 : 4\n",
            "정수 : 2\n",
            "약수\n"
          ]
        }
      ]
    },
    {
      "cell_type": "code",
      "source": [
        "# 3번\n",
        "a = int(input(\"정수 : \"))\n",
        "b = int(input(\"정수 : \"))\n",
        "\n",
        "if a > b:\n",
        "  temp = a\n",
        "  a = b\n",
        "  b = temp\n",
        "\n",
        "sum = 0\n",
        "for i in range(a,b+1):\n",
        "  sum += i\n",
        "print(f\"{a}에서 {b}사이의 합계는 {sum}입니다.\")"
      ],
      "metadata": {
        "colab": {
          "base_uri": "https://localhost:8080/"
        },
        "id": "xgubJGXvwGtF",
        "outputId": "07298ac3-0c93-4d96-94ea-96a4c11c25e5"
      },
      "execution_count": null,
      "outputs": [
        {
          "output_type": "stream",
          "name": "stdout",
          "text": [
            "정수 : 4\n",
            "정수 : 2\n",
            "2에서 4사이의 합계는 9입니다.\n"
          ]
        }
      ]
    },
    {
      "cell_type": "code",
      "source": [
        "# 3번\n",
        "a = int(input(\"첫번째 정수 : \"))\n",
        "b = int(input(\"두번째 정수 : \"))\n",
        "if a > b:\n",
        "  a,b = b,a\n",
        "s = 0\n",
        "for i in range(a,b+1):\n",
        "  s += i\n",
        "print(f\"{a}~{b} 합계:{s}\")"
      ],
      "metadata": {
        "colab": {
          "base_uri": "https://localhost:8080/"
        },
        "id": "zO1fP9X7USYI",
        "outputId": "ea8923a7-2903-4ee2-b43c-9db347f2cec4"
      },
      "execution_count": null,
      "outputs": [
        {
          "output_type": "stream",
          "name": "stdout",
          "text": [
            "정수 : 4\n",
            "정수 : 2\n",
            "2~4 합계:9\n"
          ]
        }
      ]
    },
    {
      "cell_type": "code",
      "source": [
        "# 4번\n",
        "import math\n",
        "\n",
        "n = int(input(\"입력받을 정수의 개수를 입력하세요 : \"))\n",
        "nums = []\n",
        "i = 0\n",
        "while i < n:\n",
        "  num = int(input(f\"{i+1}번째 정수 : \"))\n",
        "  nums.append(num)\n",
        "  i+=1\n",
        "\n",
        "avg = sum(nums)/n\n",
        "#avg = numpy.mean(nums)\n",
        "asum=0\n",
        "for num in nums:\n",
        "  asum+=(avg-num)**2\n",
        "var = asum/n\n",
        "stdev=math.sqrt(var)\n",
        "\n",
        "print(\"평균 : \", avg)\n",
        "print(\"표준편차 : \", stdev)"
      ],
      "metadata": {
        "colab": {
          "base_uri": "https://localhost:8080/"
        },
        "id": "_yy0z9zu4-lA",
        "outputId": "c4ff696b-6c10-4487-b7aa-a9e692155a3b"
      },
      "execution_count": null,
      "outputs": [
        {
          "output_type": "stream",
          "name": "stdout",
          "text": [
            "입력받을 정수의 개수를 입력하세요 : 2\n",
            "1번째 정수 : 2\n",
            "2번째 정수 : 2\n",
            "평균 :  2.0\n",
            "표준편차 :  0.0\n"
          ]
        }
      ]
    },
    {
      "cell_type": "code",
      "source": [
        "# 4번\n",
        "import math\n",
        "\n",
        "n = int(input(\"입력할 개수:\"))\n",
        "nums=[]\n",
        "for i in range(n):\n",
        "  num = int(input(f\"{i+1}번째 정수:\"))\n",
        "  nums.append(num)\n",
        "avg = sum(nums)/n\n",
        "print(f\"평균:{avg}\")\n",
        "\n",
        "ss=0\n",
        "for elem in nums:\n",
        "  ss += (avg - elem)**2\n",
        "var = ss/n #분산\n",
        "stddev = math.sqrt(var) #표준편차\n",
        "print(f\"표준 편차:{stddev:.2f}\")"
      ],
      "metadata": {
        "colab": {
          "base_uri": "https://localhost:8080/"
        },
        "id": "HABFf99fUy-6",
        "outputId": "72c63e95-1a9a-492c-fb86-49627b2b4362"
      },
      "execution_count": null,
      "outputs": [
        {
          "output_type": "stream",
          "name": "stdout",
          "text": [
            "입력할 개수:4\n",
            "1번째 정수:4\n",
            "2번째 정수:4\n",
            "3번째 정수:4\n",
            "4번째 정수:4\n",
            "평균:4.0\n",
            "표준 편차:0.00\n"
          ]
        }
      ]
    },
    {
      "cell_type": "code",
      "source": [
        "# 5번\n",
        "\n",
        "subjects = (\"국어\",\"영어\",\"수학\")\n",
        "scores_dic = {}\n",
        "n = int(input(\"입력받을 학생의 명수를 입력하세요 : \"))\n",
        "for i in range(n):\n",
        "  name = input(f\"{i+1}번째 학생 이름 : \")\n",
        "  scores = []\n",
        "  for s in subjects:\n",
        "    score = int(input(f\"{s}:\"))\n",
        "    scores.append(score) \n",
        "  scores_dic[name] = scores \n",
        "print(scores_dic)"
      ],
      "metadata": {
        "colab": {
          "base_uri": "https://localhost:8080/"
        },
        "id": "L6VWPVP15mAJ",
        "outputId": "c76d9ced-0bb8-4515-cef9-8f6ff6a95532"
      },
      "execution_count": null,
      "outputs": [
        {
          "output_type": "stream",
          "name": "stdout",
          "text": [
            "입력받을 학생의 명수를 입력하세요 : 2\n",
            "1번째 학생 이름 : 양셩\n",
            "국어:100\n",
            "영어:100\n",
            "수학:100\n",
            "2번째 학생 이름 : 떠영\n",
            "국어:99\n",
            "영어:99\n",
            "수학:99\n",
            "{'양셩': [100, 100, 100], '떠영': [99, 99, 99]}\n"
          ]
        }
      ]
    },
    {
      "cell_type": "code",
      "source": [
        "subjects = (\"국어\", \"영어\", \"수학\")\n",
        "n = int(input(\"입력할 학생 수 : \"))\n",
        "m_dict = dict()\n",
        "for i in range(n):\n",
        "  name = input(f\"{i+1}번째 학생 이름: \")\n",
        "  scores = []\n",
        "  for subject in subjects :\n",
        "    score = int(input(f\"{subject} 점수: \"))\n",
        "    scores.append(score)\n",
        "  m_dict[name] = scores\n",
        "print(m_dict)"
      ],
      "metadata": {
        "colab": {
          "base_uri": "https://localhost:8080/"
        },
        "id": "vK5OThylWrvi",
        "outputId": "25921e88-f7ea-461c-9b67-1297d00a84ef"
      },
      "execution_count": null,
      "outputs": [
        {
          "output_type": "stream",
          "name": "stdout",
          "text": [
            "입력할 학생 수 : 2\n",
            "1번째 학생 이름: 양\n",
            "국어 점수: 100\n",
            "영어 점수: 100\n",
            "수학 점수: 100\n",
            "2번째 학생 이름: 셩\n",
            "국어 점수: 100\n",
            "영어 점수: 100\n",
            "수학 점수: 10\n",
            "{'양': [100, 100, 100], '셩': [100, 100, 10]}\n"
          ]
        }
      ]
    },
    {
      "cell_type": "code",
      "source": [
        "# 6번\n",
        "\n",
        "subjects = (\"국어\", \"영어\", \"수학\")\n",
        "n = int(input(\"입력할 학생 수: \"))\n",
        "\n",
        "scores = []\n",
        "scores.append([]) #국어\n",
        "scores.append([]) #영어\n",
        "scores.append([]) #수학\n",
        "\n",
        "for i in range(n):\n",
        "  for si, subject in enumerate(subjects):\n",
        "    score = int(input(f\"{subject} 점수: \"))\n",
        "    scores[si].append(score)\n",
        "\n",
        "print(\"\\n\\n===============\")\n",
        "for si, subject in enumerate(subjects):\n",
        "  avg = sum(scores[si])/len(scores[si])\n",
        "  print(f\"{subjects[si]} 합계: {sum(scores[si])}\")\n",
        "  print(f\"{subjects[si]} 평균: {avg:.2f}\")\n",
        "  ss = 0\n",
        "  for score in scores[si]:\n",
        "    ss += (avg - score)**2\n",
        "  var = ss/n #분산\n",
        "  stddev = math.sqrt(var) #표준편차\n",
        "  print(f\"{subjects[si]} 표준편차: {stddev:.2f}\")"
      ],
      "metadata": {
        "colab": {
          "base_uri": "https://localhost:8080/"
        },
        "id": "nAQ6G6sGIUf8",
        "outputId": "2c4bfd28-4d3f-40c5-b44f-b636b2f75b17"
      },
      "execution_count": null,
      "outputs": [
        {
          "output_type": "stream",
          "name": "stdout",
          "text": [
            "입력할 학생 수: 1\n",
            "국어 점수: 100\n",
            "영어 점수: 100\n",
            "수학 점수: 100\n",
            "\n",
            "\n",
            "===============\n",
            "국어 평균: 100.00\n",
            "국어 표준편차: 0.00\n",
            "영어 평균: 100.00\n",
            "영어 표준편차: 0.00\n",
            "수학 평균: 100.00\n",
            "수학 표준편차: 0.00\n"
          ]
        }
      ]
    },
    {
      "cell_type": "code",
      "source": [
        "#6번. n명의 국어, 영어, 수학 점수를 입력받아 과목별 합계, 평균, 표준 편차를 출력하시오.(numpy mean,std 함수 사용)\n",
        "\n",
        "import math\n",
        "import numpy\n",
        "\n",
        "kor = []\n",
        "eng = []\n",
        "math = []\n",
        "\n",
        "nums = int(input(\"등록할 학생의 수를 입력하세요 :\"))\n",
        "for i in range(nums):\n",
        "  kor.append(int(input(\"국어 점수 :\")))\n",
        "  eng.append(int(input(\"영어 점수 :\")))\n",
        "  math.append(int(input(\"수학 점수 :\")))\n",
        "\n",
        "print(\"국어별 평균 : {0:.2f}, 국어별 표준 편차 : {1:.2f} \".format(numpy.mean(kor), numpy.std(kor)))\n",
        "print(\"영어 평균 : {0:.2f}, 영어 표준 편차 : {1:.2f} \".format(numpy.mean(eng), numpy.std(eng)))\n",
        "print(\"수학 평균 : {0:.2f}, 수학 표준 편차 : {1:.2f} \".format(numpy.mean(math), numpy.std(math)))"
      ],
      "metadata": {
        "id": "s4P2FkfBZyHA"
      },
      "execution_count": null,
      "outputs": []
    }
  ]
}