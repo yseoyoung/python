{
  "nbformat": 4,
  "nbformat_minor": 0,
  "metadata": {
    "colab": {
      "name": "파이썬-시작하기.ipynb",
      "provenance": [],
      "authorship_tag": "ABX9TyMc+l93E32W0yn+XK2Eiudc",
      "include_colab_link": true
    },
    "kernelspec": {
      "name": "python3",
      "display_name": "Python 3"
    },
    "language_info": {
      "name": "python"
    }
  },
  "cells": [
    {
      "cell_type": "markdown",
      "metadata": {
        "id": "view-in-github",
        "colab_type": "text"
      },
      "source": [
        "<a href=\"https://colab.research.google.com/github/yseoyoung/python/blob/main/%ED%8C%8C%EC%9D%B4%EC%8D%AC_%EC%8B%9C%EC%9E%91%ED%95%98%EA%B8%B0.ipynb\" target=\"_parent\"><img src=\"https://colab.research.google.com/assets/colab-badge.svg\" alt=\"Open In Colab\"/></a>"
      ]
    },
    {
      "cell_type": "code",
      "execution_count": null,
      "metadata": {
        "colab": {
          "base_uri": "https://localhost:8080/"
        },
        "id": "k4DD6wpEMBoG",
        "outputId": "5240aa55-2189-4a2b-cddc-fec30b5a48ea"
      },
      "outputs": [
        {
          "output_type": "execute_result",
          "data": {
            "text/plain": [
              "27"
            ]
          },
          "metadata": {},
          "execution_count": 1
        }
      ],
      "source": [
        "23+4"
      ]
    },
    {
      "cell_type": "code",
      "source": [
        "korea = 90\n",
        "math = 80\n",
        "sum = korea+math\n",
        "sum"
      ],
      "metadata": {
        "colab": {
          "base_uri": "https://localhost:8080/"
        },
        "id": "ZohXug-tMGS-",
        "outputId": "404c0fa2-8a56-4027-d1aa-20ae1ab7be6e"
      },
      "execution_count": null,
      "outputs": [
        {
          "output_type": "execute_result",
          "data": {
            "text/plain": [
              "170"
            ]
          },
          "metadata": {},
          "execution_count": 2
        }
      ]
    },
    {
      "cell_type": "code",
      "source": [
        "#주석\n",
        "a = 3 #변수 a에 3 대입"
      ],
      "metadata": {
        "id": "8S9QAbgnW1hm"
      },
      "execution_count": null,
      "outputs": []
    },
    {
      "cell_type": "code",
      "source": [
        "print(12)\n",
        "print(\"음냐뤼\")\n",
        "print(12,3,\"야호\")"
      ],
      "metadata": {
        "colab": {
          "base_uri": "https://localhost:8080/"
        },
        "id": "SR0SB-wRW4yu",
        "outputId": "51ffcb10-40a7-431b-ba2d-8670c3cf166c"
      },
      "execution_count": null,
      "outputs": [
        {
          "output_type": "stream",
          "name": "stdout",
          "text": [
            "12\n",
            "음냐뤼\n",
            "12 3 야호\n"
          ]
        }
      ]
    },
    {
      "cell_type": "code",
      "source": [
        "print(\"진달래꽃\")\n",
        "print()\n",
        "print(\"나보기가역겨워\")"
      ],
      "metadata": {
        "colab": {
          "base_uri": "https://localhost:8080/"
        },
        "id": "CN7PpJ-gXkzs",
        "outputId": "0b16a1c1-253a-4455-8958-72ae46616d27"
      },
      "execution_count": null,
      "outputs": [
        {
          "output_type": "stream",
          "name": "stdout",
          "text": [
            "진달래꽃\n",
            "\n",
            "나보기가역겨워\n"
          ]
        }
      ]
    }
  ]
}