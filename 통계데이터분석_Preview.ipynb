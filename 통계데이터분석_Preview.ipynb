{
  "nbformat": 4,
  "nbformat_minor": 0,
  "metadata": {
    "colab": {
      "name": "통계데이터분석-Preview.ipynb",
      "provenance": [],
      "collapsed_sections": [],
      "authorship_tag": "ABX9TyPjIfq+8kiujhaDDXygIK4P",
      "include_colab_link": true
    },
    "kernelspec": {
      "name": "python3",
      "display_name": "Python 3"
    },
    "language_info": {
      "name": "python"
    }
  },
  "cells": [
    {
      "cell_type": "markdown",
      "metadata": {
        "id": "view-in-github",
        "colab_type": "text"
      },
      "source": [
        "<a href=\"https://colab.research.google.com/github/yseoyoung/python/blob/main/%ED%86%B5%EA%B3%84%EB%8D%B0%EC%9D%B4%ED%84%B0%EB%B6%84%EC%84%9D_Preview.ipynb\" target=\"_parent\"><img src=\"https://colab.research.google.com/assets/colab-badge.svg\" alt=\"Open In Colab\"/></a>"
      ]
    },
    {
      "cell_type": "markdown",
      "source": [
        "데이터 분석에 자주 사용하는 문법 리뷰"
      ],
      "metadata": {
        "id": "YInk432qUCJg"
      }
    },
    {
      "cell_type": "markdown",
      "source": [
        "벡터"
      ],
      "metadata": {
        "id": "NltnJsQ2VnMw"
      }
    },
    {
      "cell_type": "markdown",
      "source": [
        "행렬"
      ],
      "metadata": {
        "id": "zvoWF2raVpGf"
      }
    },
    {
      "cell_type": "code",
      "source": [
        "import numpy as np\n",
        "a = np.array([[1,2],[2,3]])\n",
        "b = np.array([[5],[8]])\n",
        "ar = np.linalg.inv(a) #a의 riverse 역행렬\n",
        "answer = ar@b #행렬곱 (내적 dot와는 다름)\n",
        "answer "
      ],
      "metadata": {
        "colab": {
          "base_uri": "https://localhost:8080/"
        },
        "id": "oexG5XceVraD",
        "outputId": "6ef38f09-9837-496e-8a05-dbf812dc556f"
      },
      "execution_count": null,
      "outputs": [
        {
          "output_type": "execute_result",
          "data": {
            "text/plain": [
              "array([[1.],\n",
              "       [2.]])"
            ]
          },
          "metadata": {},
          "execution_count": 5
        }
      ]
    },
    {
      "cell_type": "markdown",
      "source": [
        "통계"
      ],
      "metadata": {
        "id": "K-hXg7fyVpAf"
      }
    },
    {
      "cell_type": "code",
      "source": [
        "heights = np.random.normal(174,10,size=10000) # 평균이 174를 기준으로 표준 편차가 10인 형태의 데이터 1만개 생성 : 정규분포 함수\n",
        "import pandas as pd\n",
        "hs = pd.Series(heights.round()) #올림\n",
        "hs.value_counts()"
      ],
      "metadata": {
        "colab": {
          "base_uri": "https://localhost:8080/"
        },
        "id": "8U9P_PUmW8Pd",
        "outputId": "78753645-c43f-4a28-c347-6a8cec37cd09"
      },
      "execution_count": null,
      "outputs": [
        {
          "output_type": "execute_result",
          "data": {
            "text/plain": [
              "177.0    429\n",
              "175.0    395\n",
              "173.0    390\n",
              "170.0    384\n",
              "174.0    380\n",
              "        ... \n",
              "133.0      1\n",
              "209.0      1\n",
              "137.0      1\n",
              "134.0      1\n",
              "140.0      1\n",
              "Length: 74, dtype: int64"
            ]
          },
          "metadata": {},
          "execution_count": 7
        }
      ]
    },
    {
      "cell_type": "code",
      "source": [
        "import matplotlib.pyplot as plt\n",
        "plt.hist(heights,bins=100)\n",
        "plt.show()"
      ],
      "metadata": {
        "colab": {
          "base_uri": "https://localhost:8080/",
          "height": 266
        },
        "id": "hrNqFwk-X6ES",
        "outputId": "2d0bcbf8-2f35-4994-ede9-0fcaefbe1999"
      },
      "execution_count": null,
      "outputs": [
        {
          "output_type": "display_data",
          "data": {
            "image/png": "[encoded data removed]",
            "text/plain": [
              "<Figure size 432x288 with 1 Axes>"
            ]
          },
          "metadata": {
            "needs_background": "light"
          }
        }
      ]
    },
    {
      "cell_type": "markdown",
      "source": [
        "확률"
      ],
      "metadata": {
        "id": "DZ0YeyAcVo-H"
      }
    },
    {
      "cell_type": "markdown",
      "source": [
        "1~6까지 쓰여진 6면체의 주사위가 있다. (공평하지 않은 주사위)\n",
        "\n",
        "1이 나올 확률이 1/6\n",
        "\n",
        "2가 나올 확률이 1/12\n",
        "\n",
        "3이 나올 확률이 1/12\n",
        "\n",
        "4가 나올 확률이 1/3\n",
        "\n",
        "5가 나올 확률이 1/6\n",
        "\n",
        "6이 나올 확률이 1/6\n",
        "\n",
        "주사위를 100번 던지는 실험을 해 보세요.\n",
        "\n",
        " 0~11 사이의 랜덤한 수를 발생시킨다.\n",
        "\n",
        " 발생한 수가     0,1이면 주사위 1\n",
        "\n",
        " 발생한 수가       2이면 주사위 2\n",
        " \n",
        " 발생한 수가       3이면 주사위 3\n",
        " \n",
        " 발생한 수가 4,5,6,7이면 주사위 4\n",
        " \n",
        " 발생한 수가     8,9이면 주사위 5\n",
        " \n",
        " 발생한 수가   10,11이면 주사위 6\n",
        " "
      ],
      "metadata": {
        "id": "IrsYXpUwYkfF"
      }
    },
    {
      "cell_type": "code",
      "execution_count": null,
      "metadata": {
        "colab": {
          "base_uri": "https://localhost:8080/"
        },
        "id": "a9ZS4IkVT-N4",
        "outputId": "a41ba465-f770-42a0-b36a-a93fa7524666"
      },
      "outputs": [
        {
          "output_type": "execute_result",
          "data": {
            "text/plain": [
              "array([173.,  87.,  95., 332., 168., 145.])"
            ]
          },
          "metadata": {},
          "execution_count": 13
        }
      ],
      "source": [
        "data = np.random.randint(0,12,1000) # 0~11사이의 랜덤한 수 1000개 발생\n",
        "cnts = np.zeros(6)\n",
        "for tv in data:\n",
        "  if tv==0 or tv==1:\n",
        "    cnts[0]+=1\n",
        "  elif tv==2:\n",
        "    cnts[1]+=1\n",
        "  elif tv==3:\n",
        "    cnts[2]+=1\n",
        "  elif tv>=4 and tv<=7:\n",
        "    cnts[3]+=1\n",
        "  elif tv==8 or tv==9:\n",
        "    cnts[4]+=1\n",
        "  else:\n",
        "    cnts[5]+=1\n",
        "cnts"
      ]
    },
    {
      "cell_type": "markdown",
      "source": [
        "#가설과 추론\n",
        "\n",
        "현재는 2029년 Covid 이후에 전 세계에 새로운 전염병이 창궐하였다.\n",
        "\n",
        "그 이름도 무서운 eh\n",
        "\n",
        "초기 감염률 0.001\n",
        "\n",
        "sesac_medical에서 테스터를 개발하여 발표하였는데\n",
        "\n",
        "양성인지 음성인지 판별하였을 때 정확도가 99%라고 한다.\n",
        "\n",
        "해당 테스터는 유의미한 테스터인지 판별하시오."
      ],
      "metadata": {
        "id": "IVFPNNFqbaGo"
      }
    },
    {
      "cell_type": "markdown",
      "source": [
        "거짓 양성(false positive) 또는 1종 오류(type I error)는 통계상 실제로는 음성인데 검사 결과는 양성이라고 나오는 것이다. 예를 들어, 어떤 메일이 스팸 메일인지 검사하는 프로그램이 있다고 하자. 이때 어떤 메일이 실제로는 스팸 메일이 아니지만 프로그램 검사 결과 스팸 메일이라고 판정한다면, 이것이 거짓 양성이다. 위양성(僞陽性), 혹은 거짓 경보(false alarm)라고도 한다.\n",
        "\n",
        "실제로 검사 알고리즘을 개발한다면, 거짓 양성과 거짓 음성 사이에 trade-off(어느 한편을 늘리면 다른 한편은 그 만큼 줄어드는 것)가 필연적으로 생기게 된다."
      ],
      "metadata": {
        "id": "MJyu6S-ViglV"
      }
    },
    {
      "cell_type": "markdown",
      "source": [
        "#선형 회귀 Linear Regression\n"
      ],
      "metadata": {
        "id": "v3c_BVsZbv20"
      }
    },
    {
      "cell_type": "code",
      "source": [
        "#온도가 아이스크림에 미치는 ...\n",
        "temperature = [25.2,27.4,22.9,26.2,29.5,33.1,30.4,36.1,34.3,29.1]\n",
        "sales = [236500,357500,203500,365200,446600,574200,453200,675400,598400,463100]\n",
        "dict_data = {\"temp\":temperature,\"sales\":sales}\n",
        "df_sales = pd.DataFrame(dict_data,columns=[\"temp\",\"sales\"])\n",
        "df_sales.plot.scatter(x='temp',y='sales',grid=True,title=\"sy\")\n",
        "plt.show()"
      ],
      "metadata": {
        "colab": {
          "base_uri": "https://localhost:8080/",
          "height": 295
        },
        "id": "YudStmk4drQ2",
        "outputId": "619924ac-6796-49ef-9c8a-c14a10094896"
      },
      "execution_count": null,
      "outputs": [
        {
          "output_type": "display_data",
          "data": {
            "image/png": "[encoded data removed]",
            "text/plain": [
              "<Figure size 432x288 with 1 Axes>"
            ]
          },
          "metadata": {
            "needs_background": "light"
          }
        }
      ]
    },
    {
      "cell_type": "code",
      "source": [
        "#직선의 방정식으로\n",
        "sales2 = np.array(sales)/10000\n",
        "dict_data2 = {\"temp\":temperature,\"sales2\":sales2}\n",
        "df_sales2 = pd.DataFrame(dict_data2,columns=[\"temp\",\"sales2\"])\n",
        "plt.figure(figsize=(6,6))\n",
        "plt.plot(temperature,sales2,'o')\n",
        "plt.xlim(0,80)\n",
        "plt.ylim(0,80)\n",
        "plt.show()"
      ],
      "metadata": {
        "colab": {
          "base_uri": "https://localhost:8080/",
          "height": 378
        },
        "id": "KXK41I4Sh5kg",
        "outputId": "4ce78aff-4201-4622-83ea-062e06cc548e"
      },
      "execution_count": null,
      "outputs": [
        {
          "output_type": "display_data",
          "data": {
            "image/png": "[encoded data removed]",
            "text/plain": [
              "<Figure size 432x432 with 1 Axes>"
            ]
          },
          "metadata": {
            "needs_background": "light"
          }
        }
      ]
    },
    {
      "cell_type": "markdown",
      "source": [
        "y = ax + b\n",
        "\n",
        "머신러닝에서 표현하는 방식\n",
        ": y = wx + b \n",
        "\n",
        "w : 가중치 - 독립변수 x가 종속 변수 y에 영향을 주는 정도\n",
        "\n",
        "b : 편향 - 주어진 인자 외에 결과 y에 영향을 주는 정도\n",
        "\n",
        "y = 3x - 5 (eh)\n",
        "\n",
        "y = 4x - 2 (sy)\n",
        "\n",
        "y = 5x - 3 (mn)\n",
        "\n",
        "y = 4x - 5 (hj)"
      ],
      "metadata": {
        "id": "7LZwV116ilLB"
      }
    },
    {
      "cell_type": "code",
      "source": [
        "#손실 함수 (loss function) : 해당하는 선과 점 사이의 오차가 얼마인지 계산하는 함수\n",
        "#가장 많이 사용 하는 것 : 점과 선 사이의 절댓값을 취하여 평균 내기\n",
        "#오차를 극대화 시키기 위해 점과 선 사이를 제곱을 취하여 합산한 값을 평균 내기 : 평균제곱오차\n",
        "sales2 = np.array(sales)/10000\n",
        "dict_data2 = {\"temp\":temperature,\"sales2\":sales2}\n",
        "df_sales2 = pd.DataFrame(dict_data2,columns=[\"temp\",\"sales2\"])\n",
        "plt.figure(figsize=(6,6))\n",
        "plt.plot(temperature,sales2,'o')\n",
        "plt.plot([0,80],[3*0-5, 3*80-5],'-',label='y=3x-5')\n",
        "plt.plot([0,80],[4*0-2, 4*80-2],'-',label='y=4x-2')\n",
        "plt.plot([0,80],[5*0-3, 5*80-3],'-',label='y=5x-3')\n",
        "#plt.plot([0,80],[4*0-5, 4*80-5])\n",
        "plt.plot([0,80],[3.7*0-65, 3.7*80-65],'-',label='y=3.7x-65')\n",
        "plt.xlim(0,80)\n",
        "plt.ylim(0,80)\n",
        "plt.legend()\n",
        "plt.show()"
      ],
      "metadata": {
        "colab": {
          "base_uri": "https://localhost:8080/",
          "height": 378
        },
        "id": "Lzp0oEy7j5CX",
        "outputId": "eb060185-0f80-4eb4-8dfe-c69cdf4f34bc"
      },
      "execution_count": null,
      "outputs": [
        {
          "output_type": "display_data",
          "data": {
            "image/png": "[encoded data removed]",
            "text/plain": [
              "<Figure size 432x432 with 1 Axes>"
            ]
          },
          "metadata": {
            "needs_background": "light"
          }
        }
      ]
    },
    {
      "cell_type": "markdown",
      "source": [
        "#손실 함수 Cost Function or Loss Function\n",
        "\n",
        "예측값과 실제값에 대한 오차를 줄이는 데에 유용하게 사용\n",
        "\n",
        "**회귀 모델**에 쓰이는 손실함수 :  **MSE, MAE, RMES** \n",
        "\n",
        "**분류 모델**에 쓰이는 손실함수 : Binary cross-entropy, Categorical cross-entropy"
      ],
      "metadata": {
        "id": "XbfriU9YnQmh"
      }
    },
    {
      "cell_type": "markdown",
      "source": [
        "## MSE(Mean Square Error)\n",
        "\n",
        "장점:\n",
        "\n",
        "\n",
        "```\n",
        "- 실제 정답에 대한 정답률의 오차뿐만 아니라 다른 오답에 대한 정답률의 오차도 포함하여 계산해준다.\n",
        "- MAE와 달리 최적값에 가까워질수록 이동값이 다르게 변화하기 때문에 최적값에 수렴하기 용이하다.\n",
        "```\n",
        "\n",
        "단점:\n",
        "\n",
        "\n",
        "```\n",
        "- 값을 제곱하기 때문에 절댓값이 1미만인 값은 더 작아지고, 1보다 큰 값은 더 커지는 왜곡이 발생할 수 있다.\n",
        "- 제곱하기 때문에 특이값의 영향을 많이 받는다.\n",
        "```\n",
        "\n",
        "\n",
        "\n"
      ],
      "metadata": {
        "id": "I_XgUR4ZoZkW"
      }
    },
    {
      "cell_type": "code",
      "source": [
        "es1 = 0\n",
        "es2 = 0\n",
        "es3 = 0\n",
        "es4 = 0\n",
        "for i,temp in enumerate(temperature):\n",
        "  yp1 = 3*temp - 5 #예측값\n",
        "  yp2 = 4*temp - 2 #예측값\n",
        "  yp3 = 5*temp - 3 #예측값\n",
        "  yp4 = 3.7*temp - 65 #예측값\n",
        "  y = sales2[i]\n",
        "  es1 += abs(yp1-y)**2\n",
        "  es2 += abs(yp2-y)**2\n",
        "  es3 += abs(yp3-y)**2\n",
        "  es4 += abs(yp4-y)**2\n",
        "print(f\"{es1:09.2f}\\n{es2:09.2f}\\n{es3:09.2f}\\n{es4:09.2f}\")"
      ],
      "metadata": {
        "colab": {
          "base_uri": "https://localhost:8080/"
        },
        "id": "DYPBJQPylvGQ",
        "outputId": "645aba5e-75a5-4e02-de6c-64ef0d4771e5"
      },
      "execution_count": null,
      "outputs": [
        {
          "output_type": "stream",
          "name": "stdout",
          "text": [
            "015739.03\n",
            "051850.94\n",
            "101110.49\n",
            "000066.35\n"
          ]
        }
      ]
    },
    {
      "cell_type": "markdown",
      "source": [
        "# 로지스틱 회귀 logistic regression\n",
        "\n",
        "회귀를 사용하여 데이터가 어떤 범주에 속할 확률을 0에서 1 사이의 값으로 예측하고 그 확률에 따라 가능성이 더 높은 범주에 속하는 것으로 분류해주는 지도 학습 알고리즘이다.\n",
        "\n",
        "`스팸 메일 분류기 같은 예시를 생각하면 쉽다. 어떤 메일을 받았을 때 그것이 스팸일 확률이 0.5 이상이면 spam으로 분류하고, 확률이 0.5보다 작은 경우 ham으로 분류하는 거다. 이렇게 데이터가 2개의 범주 중 하나에 속하도록 결정하는 것을 2진 분류(binary classification)라고 한다.`"
      ],
      "metadata": {
        "id": "2bfRlyAcejOw"
      }
    },
    {
      "cell_type": "code",
      "source": [
        "import math\n",
        "def sigmoid(x): #Logistic Function or Sigmoid Function\n",
        "  return math.exp(x)/(1+math.exp(x))"
      ],
      "metadata": {
        "id": "Nb_eG-1LpJ9L"
      },
      "execution_count": null,
      "outputs": []
    },
    {
      "cell_type": "code",
      "source": [
        "xs = [i/10 for i in range(-100,100,1)]\n",
        "ys = [sigmoid(x) for x in xs]\n",
        "plt.plot(xs,ys)\n",
        "plt.show()"
      ],
      "metadata": {
        "colab": {
          "base_uri": "https://localhost:8080/",
          "height": 265
        },
        "id": "0iB73KKVpavw",
        "outputId": "d517b245-d849-4411-faed-e19a3b0b2dd1"
      },
      "execution_count": null,
      "outputs": [
        {
          "output_type": "display_data",
          "data": {
            "image/png": "[encoded data removed]",
            "text/plain": [
              "<Figure size 432x288 with 1 Axes>"
            ]
          },
          "metadata": {
            "needs_background": "light"
          }
        }
      ]
    },
    {
      "cell_type": "markdown",
      "source": [
        "#KNN (K-Nearest Neighbor)\n",
        "\n",
        "k : 개수\n",
        "\n",
        "어떤 데이터가 주어지면 그 주변(이웃)의 데이터를 살펴본 뒤 더 많은 데이터가 포함되어 있는 범주로 분류하는 방식입니다. "
      ],
      "metadata": {
        "id": "RpYRjcUIelIM"
      }
    },
    {
      "cell_type": "code",
      "source": [
        "temperature = [25.2,27.4,22.9,26.2,29.5,33.1,30.4,36.1,34.3,29.1]\n",
        "sales = [236500,357500,203500,365200,446600,574200,453200,675400,598400,463100]\n",
        "dict_data = {\"temp\":temperature,\"sales\":sales}\n",
        "df_sales = pd.DataFrame(dict_data,columns=[\"temp\",\"sales\"])\n",
        "df_sales.plot.scatter(x='temp',y='sales',grid=True,title=\"sy\")\n",
        "plt.show()"
      ],
      "metadata": {
        "colab": {
          "base_uri": "https://localhost:8080/",
          "height": 295
        },
        "id": "v_DOYHk6eBbx",
        "outputId": "23c87c36-ea30-470f-8ec4-f2065125a3c0"
      },
      "execution_count": null,
      "outputs": [
        {
          "output_type": "display_data",
          "data": {
            "image/png": "[encoded data removed]",
            "text/plain": [
              "<Figure size 432x288 with 1 Axes>"
            ]
          },
          "metadata": {
            "needs_background": "light"
          }
        }
      ]
    },
    {
      "cell_type": "code",
      "source": [
        "temps = np.array([temp/10 for temp in range(-100,500,1)])\n",
        "sales = [3.7*temp-65+np.random.randint(np.random.randint(-12,-7),np.random.randint(3,8)) for temp in temps]\n",
        "plt.plot(temps,sales,'.')\n",
        "plt.show()"
      ],
      "metadata": {
        "colab": {
          "base_uri": "https://localhost:8080/",
          "height": 265
        },
        "id": "QN5mNoFewD_O",
        "outputId": "009d2973-37c1-4aba-8ce9-97bfd8a53fc3"
      },
      "execution_count": null,
      "outputs": [
        {
          "output_type": "display_data",
          "data": {
            "image/png": "[encoded data removed]",
            "text/plain": [
              "<Figure size 432x288 with 1 Axes>"
            ]
          },
          "metadata": {
            "needs_background": "light"
          }
        }
      ]
    },
    {
      "cell_type": "code",
      "source": [
        "temp = 25\n",
        "neighbors = [24.8,24.9,25,25.1,25.2]\n",
        "n_sales = np.zeros(5)\n",
        "for j,neighbor in enumerate(neighbors): #실제 판매가가 얼마인지\n",
        "  for i,stemp in enumerate(temps):\n",
        "    if neighbor == stemp:\n",
        "      n_sales[j] = sales[i]\n",
        "n_sales.mean()"
      ],
      "metadata": {
        "colab": {
          "base_uri": "https://localhost:8080/"
        },
        "id": "zSD6A7RLxpmk",
        "outputId": "cd9d2831-419e-487f-db7c-754e85ff24b3"
      },
      "execution_count": null,
      "outputs": [
        {
          "output_type": "execute_result",
          "data": {
            "text/plain": [
              "22.1"
            ]
          },
          "metadata": {},
          "execution_count": 47
        }
      ]
    },
    {
      "cell_type": "code",
      "source": [
        "heights = np.random.normal(174,10,size=10000) #평균이 174, 표준편차가 10에 해당하는 정규 분포 데이터 10000개를 만들어 줴숑.\n",
        "heights.mean(),heights.std() #mean() 평균 std() 표준편차"
      ],
      "metadata": {
        "colab": {
          "base_uri": "https://localhost:8080/"
        },
        "id": "_pqj12QqzpY9",
        "outputId": "3d01f2cb-88b6-4022-c48f-1e7eeb5a05aa"
      },
      "execution_count": null,
      "outputs": [
        {
          "output_type": "execute_result",
          "data": {
            "text/plain": [
              "(174.09885076141202, 10.060631273889397)"
            ]
          },
          "metadata": {},
          "execution_count": 49
        }
      ]
    },
    {
      "cell_type": "code",
      "source": [
        "heights2 = heights-heights.mean()\n",
        "heights2.mean(), heights2.std() #"
      ],
      "metadata": {
        "colab": {
          "base_uri": "https://localhost:8080/"
        },
        "id": "LQcESxIT0BZ9",
        "outputId": "9faa20fa-5ddb-4b4d-abce-d422a46c7180"
      },
      "execution_count": null,
      "outputs": [
        {
          "output_type": "execute_result",
          "data": {
            "text/plain": [
              "(9.035261427925434e-15, 10.060631273889397)"
            ]
          },
          "metadata": {},
          "execution_count": 50
        }
      ]
    },
    {
      "cell_type": "code",
      "source": [
        "#리스케일링 ?\n",
        "heights3 = heights2/heights2.std()\n",
        "heights3.mean(),heights3.std() "
      ],
      "metadata": {
        "colab": {
          "base_uri": "https://localhost:8080/"
        },
        "id": "GpoIrw2Z0Xvg",
        "outputId": "e859d340-4764-416f-bd8e-fac1857fd221"
      },
      "execution_count": null,
      "outputs": [
        {
          "output_type": "execute_result",
          "data": {
            "text/plain": [
              "(8.93862761586206e-16, 1.0)"
            ]
          },
          "metadata": {},
          "execution_count": 51
        }
      ]
    },
    {
      "cell_type": "markdown",
      "source": [
        "#KMeans"
      ],
      "metadata": {
        "id": "D94A0WFT1ack"
      }
    },
    {
      "cell_type": "markdown",
      "source": [
        "#의사결정트리"
      ],
      "metadata": {
        "id": "-AJu0zvH1cAb"
      }
    },
    {
      "cell_type": "markdown",
      "source": [
        "#퍼셉트론\n",
        "\n",
        "학습이 가능한 초창기 신경망 모델\n",
        "\n",
        "초기 형태의 인공 신경망으로 다수의 입력으로부터 하나의 결과를 내보내는 알고리즘\n",
        "\n",
        "\n",
        "![image.png](data:image/png;base64,iVBORw0KGgoAAAANSUhEUgAAANQAAACjCAIAAAB9m6c2AAAaRElEQVR4nO2df1CTV7rHT2rqlYqSANa4pTUL4dZcwxohQFyCIkUIVOcyu1jiyq4y0mLQ7sIqaJKy0GuVBXVxVquhykBLvYkD3TKDIoIrDMQlSijJhk7sJYBWWtNtIkGpcJfY3D/O9m1u8AfmffP7fP5g3vdNcs4D+fKcX895DslqtQIEwh08524DEP4LEh/CbSDxIdwGEh/CbSDxIdwGEh/CbeASn1wuDw4ODg4Obm1thU8kEgmJRKqpqSHCNoSP47j4RkZGuru7h4aGgoODP/roIwCARCKJioqyWq35+fnEWYjwWUj4J5kLCgpOnTolk8m6u7tPnjxJiFkIf4AA8cnl8i1btnA4nL6+PkJsQvgJBAw4mEwmACAvL2/2SyMjIwUFBQUFBfhrQfgeBIivoqKCSqV2dnbaPjSZTFVVVbBFptPp+GtB+B5knJ+vqamJjo4GALS3t9s+n5iYYLFYJSUlfD4fZxUIXwXvVItGoykpKVm/fv34+LhCoZDL5XCeJTw8PCMjgyAjEb6Jg+JTKBQkEqm5ufnAgQMAgKysLA6Hk5iYqNVq0TwLYo442OzyeDzbYXJISAga6iKeFfcsrx07diw3N1epVLqldoSH4FzxjYyM6PX6K1eumEwm2+c5OTkrV67Mzc2Nioo6ceKE2Wx2qhkID8XqNOwqSktLm/2ezs5OgUBAoVC2b9/e29vrPGMQHggBKxz4MRqN9fX1tbW1ZDI5Pz8/JyeHQqG42yiE0/EI8WEolcqamprm5ubMzMz8/Hwul+tuixBOxLPEBzGbzR9//DGcL8zPzxcIBKGhoe42CkE8nhhMSqFQdu/erdVqT58+3d/fHxkZuWXLlq6uLsIr4vP5JBLJdg0mNja2qqrqca8iCMbNfc45MD4+fvz4cRaLtWLFisOHD3/77bdElWw0GqlUKjYSMhqNwGZgBG9lMhlR1SHs8ETPZwfmCOvq6j7//HMCHWFISEhcXBx229HRYfvqxMQElUoVCAT4K0I8Ei8QHwaXy62rqxsdHU1ISCguLmYymUeOHIH+yWEoFMr169fhdX19vVAoxF5qamrav38/LosRT8SbxAeBjrCvr6+hoWF4eJjJZOJxhNHR0ePj4wAAhUIBAKDT6ZcuXQIAmEymxsbGHTt2EGg5wh53t/t4uX///qlTpzgcDuwR3rlz55k+XllZCf8IaWlparW6p6cH3orF4gsXLmBvMxqNYrH4kfPkCIfxPs9nR2Bg4M6dO20d4ebNm9va2ub4cRaLBQBobW0NDw9ftWoVfKhQKPr7+7GQsJqamtLSUruARQQBuFv9BIM5QjqdXlFR8VRHCF0dlUo1Go1Wq3V4eBjeDg8PY++B15WVlcjzEYvXez47MEfY2Nh469atpzrCRYsWAQAqKipCQkIAAOHh4fAWXkBsrxEE4okrHAQyOTkpl8tra2sNBkN+fv727dtpNJpjRVVVVV25cmXuDTriqfia57MjMDAwLy+vt7e3paXlq6++ioqKeqYeIcKp+Ljns2N6ehruMjEYDNu2bcvLywsLC5vjZwUCwfDwMArYJhJ3dzrdg1ar3b17d2ho6MaNG1taWmZmZp7wZjgdg1FZWekyO30b//J8dmCOcGxsbMeOHc/kCBH48fE+35NZsGABjKC+ePGiyWRavXr1pk2bzp8/b7FY3G2af4DHbYrFYgBAREQEnAkzGo1paWkAALVaTYxfdi1TU1MNDQ1JSUlhYWFlZWW3b992t0U+juPik8lkMplMrVYDAKRSqfWHFSribHMbOp1u7969NBptLj1ChMMQ0OdjMBgMBiM8PHzt2rW+FIA0PT3d3NxcU1Oj1+tzcnLy8/NR0hliIaDPl5qaeunSJd8LfVuwYIFAIOjs7Ozo6LBYLLGxsenp6U1NTahHSBj4nadUKgWP6ufJZDLYBQQAZGdnw8VT72VqakomkyUlJdFotP3794+OjrrbIq8Hr/iMRiOHwwE/dPswenp6qFRqT0+P9YfFe6FQiLMuDwH2CENDQ/l8fmNjI+oROgxe8WVnZ0OdZWdnP+FtHA7nyW/wOmZmZhobG/l8PnKEDoNLfEKhEO6vyc7OhlFJQqFwdvsL45RsYzN9idHR0f3799NoNOQInxUHxQdXnLCFJrVaTaVSqVTq7L1esF32+T1gmCMMDQ3du3evTqdzt0VegHPXdj1ceXAwhP0Lwb1IsJ86+9U5gjnCpKQkmUw2NTVFsNE+hBPF5+HKs/4wEsLkdeHChdm3tiHNcwc5wrngxLXdrVu3bt68GU7+mUwm263/Uqk0MTGxqKioqalJr9c7z4Ynw+PxbG/Pnz9ve3vv3r3s7GzHwpjJZHJWVtbFixf7+vrIZPKGDRvWr18vl8unp6dxWexjOEnUMpnMriLbDRBTU1N9fX3V1dU5OTksFotCofD5/HfeeefTTz918YoqNk6HfjotLQ3zfGlpaVgTjJOZmZmWlpaNGzfSaDTkCDE8IqTKbDarVCq1Wn3t2jWYrpTD4cTExHA4HC6X69R0adAft7W1wRQtV65cgbcKheLEiRNyuZzY6sbGxs6cOVNbW8tgMHbs2JGVlbVgwQJiq/AiPEJ8dhiNRqVSee3aNbVarVQqKRQKm81OSEjgcDhsNjswMJDAuqD4zp49y+fz29raamtr4UYNPp9/8uRJ2OaOjIwcOXJELpePj49nZ2e///77cLeRw1gslra2tpqaGqVSKRAI8vPz4Q5OAvnC8EB358E/7v/T/MByf/rhxJTl7nczwQufDwogL1owj/IC+cVF85nLXniV9gKx9T4Tnig+O27evKlSqTAt0ul0Lpe7atUqLpfLYrFweg6JRNLf3x8TExMVFSUQCKqqqhobG/Py8iYmJkpKSuB7+Hx+cnJySUmJRqNhs9lSqZSojPuYIwwLC4PJ4PD8OjMPrbo7310fvTfw5eTE1JwWoIMCyKtfCYz76WLmsoXPzyM5XLVjeIH47BgcHMQaaL1ez2AwbLX4rKVVVVXt27cvLS0N7ip66jlysbGxe/bsITaEAr8jfPi9tesL818++3aOmptNUAD5F9FLkl6lzHvOdRL0PvHZYrFYBgcHFQqFRqNRqVR6vZ7NZnM4nISEBDabzWAwnlpCTU3Nzp071Wo1TFegUCgSExOxWzsUCkVRUZHz9hBBR/jhhx/SaDQ7R5ienl5XV/fIfZ/9t+7/97Vvvrn3T/wGLF08/1fxS2OWL8Jf1FzwbvHZMTk5qVarYRutUqmMRiOXy8XGLjj3Z2g0mn379p09exZnh28uwN5nV1cXdIQGg2HDhg1cLrejo8O2yzsxZTlx5Svdne+IrZ25bOHu5JeCAvAejfZUfEp8dpjNZqVSqVKp+vv7VSqVxWLhcrkxMTFsNpvH4z3TINqVysMwGAz19fU1NTVmsxmeFsHn81taWshkMgBg1Dh15NJth9vZJxMUQC7a8DLjxQBnFI7hy+KzY2xsDBOiUqkMDQ1ls9nx8fFcLvfJg2hb5Wk0mkuXLmFjERdgNBqXLVuGRbDm5OQ0NDT0Dt+rVXw9PfO98+p9fh4pN2HZ2n934jyXH4nPDr1ejzXQarWaTqfDBnr2IJrP58OkfZDKykpXiu/IkSPFxcW2T/L2vDu1Iss1tWeuDs2KedFJhfuv+OyAnUWNRqNQKG7cuMFiseAgGk4uutGwy5cvm83m0NDQsLAwCoUyNDH//c4xVxrw1tqfOMn/IfE9gunp6cHBQWyi++bNm3AQHR8fz+Fw5jKIdhKjxqmDF245tbWdzbznSKUb6c7o/yHxPZ3JyUmlUgknF1Uqldlshut+hAyi587ElEX8lxEnjTCeTFAA+UDmT4MXPk9ssUh8zwxc/cMmuslkssOD6Gfi4IVbhM+qzB3msoWS15cTWyYSH17GxsawBlqlUmGDaA6Hw+FwiFqJ7r91v7rjNiFFOUzRhpeJnX9G4iMYuPrX39+vUCgGBwcZDAY2oTOXlWiLxQKn8Wx5+L21pGmYkDUMPCxdPL8qK4LA9TckPicCV/+USiWcXLxx48aKFSt4PB4cRLNYrNk6S0xMrKursxvT/FU3Xnf1jgsNfyy5CcteY1KJKg2Jz3Vgq3/9/f1KpdJgMMBBNJxcZDAYg4ODUVFRgYGBMpls48aN8FMzD62F8iG3jDNmExRAPiaIJCr+xa9TpJFIJBKJhJ30ZzKZSCQSPA1m9qv4CQwM5PF4hYWFDQ0NQ0NDt2/fLisrW7p06SeffLJ+/XoqlbplyxYAwOTk5KZNm0pLS+Gqhu7Odx6iPADAxJSFwEGPX4sPbiDCuHbtGgDgb3/7G7yFG4iyspy1lkChUFJSUvbv3w83D+h0OttERO+9996mTZuMRuP10XtOMsAxCLTH6ZELnozzNhA5AI1GMxgM8JrL5aakpLz22muBgYEDX37pGgPmyMCXk0QV5dfiAwBQqdTPPvsMAGAymfr6+rDMRgCA+vr6d955x5XGcLncffv2paSkYJOFXxgeeE6bC5mYsnxheEBI/L1fN7sAgLi4OBitVFtbu3nzZvDDHiKFQkGhUOxco7M5fvx4VlaW7TS17s4DVxowR4iyyt/FB8HOmExOToZP3nvvvUOHDsHr1tZWeOo4iUQqKCgwmUwuM+wf93HN7Y3f/uLKsbfOvrny+tkD2EP45OybK91lFQYu8UkkEhKJxGAwRkZGwA87w0kkkkajIcQ4FxATEwMA+NOf/rRnzx4YKGoymWpqapKTk7He3p///Ofk5GSr1apWq0+dOmV3JrRTMT/A1eYOfHI0Ia8qMkkw1CWf/PZfsTAJeVUAgGUrE9xlFYbjfT65XB4VFaVWq9lsdkdHR35+/tatWysrK73rfJ+goCAYq3fw4EEAwCuvvKJSqQAAths1sN8IbuxYvHixy8y7P/0Qz8eTCz8AAIT9bN1Ql9x08++BS8IAAP8WSAEARG3c6S6rMBwXH7aDKyIi4tNPP9VoNNu3b3/kvhtPJigoCACAHfMCQ1TOnDkz+51w965YLMaOQnUBhIw2FtPCAQDmsaHlsQAA8LW2e9nKhCWMaPdaBVBO5vz8fKvViv3P8Hg821uMqqqqiIiI9vb2oKAgV/b57n43g7+QwCVhgUteNt36HN7e+OvHeNweUVYBQsQHv6o33njD9qHJZJJIJLGxsbCfLhAIXPmdEYtGoykpKbFarZ988skHH3zQ1NTksqqJCqELobNMo1oAwLf6zwKXvIzH7RFoFV7xmUwm2EjBHCsYOp3u1KlT1dXVVqu1p6fn3LlztbW1OOtyF/v27YOLbPBwXucxODhol+qeqP2Lwa8w//ngHgBAe1666j/fxlkaUVbhFd+uXbuqq6upVGpnZ6ftcx6Pd/fuXThPBn/C3pU38tvf/raxsZFEInE4nNTUVOctuB09epTJZNbX12MSXLRgHiElL2GsBgC0HXxjxWs5cMCBB6KswiW+goKCzMxMHo+Xmpra3t5uMpkKCgrs5lk0Go1AIBAKhc77zpxNRkZGX1+f1Wq9e/fuyZMnnbp1V6/X5+bmYhKkvECMjwkIehEAEEyP+knUWvylEWWVg+KrqqoikUh0Oh0OMkQiEQAgMjJy7dq1tr11EonEZrNVKhWdTrf9zsrLy0mIWdTX18O/D5TgmjVrAh4Ss5A6M/1dCH0l/gYX8uKi+YSU44p4vtbW1pycHKFQCOfSEI8jNzcX6o9Cofzud78rLCz8Znr+gfM3cRb7v5Pmq2dK4rb+Ac7z4ad0I52QtV1nBRaYTKaxsTHoBTMyMuLi4vr7+51Uly+ByQ6u8FIACAogOzavdquv1Tw2FMH75fWz/7X6l3uIUl5QAJmorH7OWtvV6XTr16+H/T+FQnH9+nW4kIV4Atu2bRsdHS0vL7eNLVj9ioNbkL75n/7B1g/Unx6L2/oH6suvEmSj4/bMxlnNrslkKi0thdk8IyIi3nrrLVemmPAl/j42WdXmQSF9JfxXfhZGjP7QHg5PB+3hQLiN5+eRfhG9xN1W/ItfRC8hMHsuEt+PyOVyz1wGTHqVsnQxMbMbeFi6eH7Sq0TmY0Di+5Hm5uZz586Njbk0B9RcmPcc6VfxS91tBfhV/FJiMzajPp/X4Hu5WpDn8xpckyf5kQQFkIVJPyG8WCS+HzGZTJ68AQDmSXb9aRnzniPtTn6J8PxoAInPll27drHZbE/WH+PFgNyEZS6uNIe7lLlsoTNK9vd9u7b85je/iY6OdlmyxzmiVquNRiM2DDIYDMEzi+8uS3JN7XxW8Ib/CHZS4WjA4elIpVKhUIjdksnkvr6+ey/QaxV3Hn7vxO9u3nOkHO5S5ykPIPF5PhaLhclkYqcSHz58eO/evQAA/T+mqjuceA7H7uSXnNTaYqA+34944CSz2WwuLi42Go3wNikpqbCwEF4zXgw4kPlTZ+iDuWyhk0q2A4nvR+Ak88TEhLsNAQCA6enpP/7xj0wmEwAwNDTEZrMpFEpdXZ1tPsnghc9LXl9etOFlotY/li6eX7ThZcnry50xtp0NanY9DovF8vHHH5eWliYlJZWVlcEspV1dXQaD4XGbU9GpkwgCOH/+vEgkCg0Nra6uftbDZ9B5uwgHUalUxcXFZrP58OHDKSkpOEtDJ40j5oRerxeJRGq1WiKRbN++3d3muA404HAnBoPh7bffXrNmTUJCglar9SvlAX8Wn0KhgBsWsQzgra2tJBLpca8Sy+TkZHl5+erVqwMDA4eGhgoLC596RIfv4b/i4/F4WHIqyNWrVwEAUG08Hk8sFkdERBCenNRisUilUiaTeevWrYGBgYqKCuedmOXh+PXa7s9//nPb23Pnztnejo+P2x10i5+mpiaRSLRixYqLFy+yWCxiC/c6iPR8EolEIpEQWKCzgYl/Pv/8cwCAQqFITU3FXjKZTO3t7QSm+Ojq6lqzZs3Ro0dPnz7d0tKClAcAAFbioFKpVCqVwAJdAACgsrLSarWmpaXBYzngbWVlpVQqJaQKrVabmZnJYDAaGxsJKdBnILLZvXv3LoGluRIs9zw8CmFkZOTKlSv48/saDAaRSHT58mWJRNLY2Dj7pDU/x9//HBwOBwBQVFSEdfgmJibEYjHOEzjMZvPRo0elUumuXbt0Oh1RB5/6GET2+UZGRmBaei8iJCRk3759mzdvhrnnw8PDDx06ZDvIhRn3W1tb5XJ5cHBwcHDwk3/H6enpY8eORUZGms1mrVZbXl6OlPc4iPR80It4V+NLoVAiIiJ27NgBb+l0ekRExO9//3t4q1Ao0tPTx8fHy8rK8vLy7t69SyKRvv7668ediVVfX3/w4EE2m93b22t3bCniERDYf5RKpUR10j0KDocjFoutViuMqzMajbPf09HRwWazk5KSent7XW6gt0Kk+HwSKDi1Wm21WmUyGYfDsXvDwMBASkoKi8VqaWlxh4FejP+ucMyRa9euUalUmGiwu7s7NTVVLpfDVRC9Xv/rX/86PT1969atAwMD2PHMiDni15PMc+Hq1avY5DOdTj906JBWq2WxWEVFRYmJiStXrhwdHd2+fTuaRnEAIkOq4GAQ2+rik0xPTx85cuT9998XCARlZWV+uyxLCGiSea7A6HaRSMTn83t7e21PBUc4Bmos5kRzc3NpaSmNRrt48eKzRrcjHgcS31NQKpUikchsNh8/fjwpyUV5AvwEJL7Hotfri4uLBwcHy8rKcnJy3G2OD4KmWh6BwWAQCoWJiYnr1q3TarVIeU4Cie//YTaby8vLo6KiQkNDdTqdf0a3uwzU7P4LGN1eWVmZkpKi1WppNJq7LfJ9kPgA+CG6ncVidXR0rFixwt3m+Av+Lr6urq7i4uIFCxacPn0aDWZdjP+Kb3BwUCQS3bhx4/Dhw5mZme42xx/xxwHH2NhYbm5uenr666+/rtPpkPLchX+Jz2w2i0Si2NjY5cuXDw0N7dy5EwUEuBF/ER8MCIiMjJycnBwYGCgvL0dzKG7HL/7v6+vr3333XS6Xi6LbPQofF19bW5tIJKJQKI2NjXCLCcJz8FnxqdXqoqIis9lcUVHB5/PdbQ7iEfhgnw9Gt2/atGnbtm19fX1IeR6LT4nPaDQWFRWtWbNm1apVQ0NDKLrdw/ER8U1PT8OAADKZPDQ0tHfvXjSY9Xy8XnwWi+XMmTORkZG3bt3q7e09fPgw2lfhLXh3q9Tc3CwSieh0ektLC4pu9zq8VXwKhUIkEk1OTp46dQoFBHgp3ic+LLr9wIEDjzsUBeEVeFOfz2AwvPnmm+vXr1+3bp1Op0PK83a8Q3wwup3JZL700ktarbawsBDNofgAnv4VWiyWEydOHD16lM/n63Q6FN3uS3i0+ORyeWlpKYvF6uzsRAEBPojD+a1kMhnMAH7hwgX4RCwWAwAISdHX2dnJZrN5PF5PTw/+0hCeiYOeb2RkpLu7e2hoKD4+/qOPPsrIyJBIJFFRUVbcaYfUarVIJLp582ZFRQWKMfZxcIpXKBQCAGQymVAoxFkUzDUWFhZ2+vTpmZkZnKUhPB+84pPJZACA2fk6n4nx8fG9e/fSaLSysrKpqSmcJiG8BbxTLfAc9ry8PMc+jkW3WywWmLsdBQT4D3jFV1FRQaVSOzs7n/WDFoulvr4+MjJSo9H09vZWV1eHhobiNAbhXeASX01NTXR0dGpqant7u+3zkZERPp8Pj6/QaDSxsbEkEsk2Y+7ly5djY2M//PDDlpaWhoYGNI3ipzjcYGODDKlUCgDo6emRyWRwnkUsFg8PD6elpWVnZ4vFYqPRCGdhsM+2tLRcvHgRf6cB4dU4Ij54QF52djY8kcJoNMK9OfCwCoyIiIi0tDR4LRQKsWsEAuKscziGh4cBANj8c0REBDzNEYHAcFZgwfXr1wEAGRkZAACNRjM8PGx3sjIC4SzxdXd3w+NDAQA6nQ4AwGQyJRKJyWRyUo0Ir8NZ4mtvb4+JiYHXcXFxVCo1Pj4+PT09JCTESTUivA4iD4FBIJ4J7wgmRfgkSHwIt4HEh3Ab/wecAl9Q+qe+SAAAAABJRU5ErkJggg==)\n",
        "\n",
        "\n",
        "```\n",
        "x는 입력값을 의미하며, w는 가중치(Weight), y는 출력값입니다. 그림 안의 원은 인공 뉴런에 해당됩니다. 실제 신경 세포 뉴런에서의 신호를 전달하는 축삭돌기의 역할을 퍼셉트론에서는 가중치가 대신합니다. 각각의 인공 뉴런에서 보내진 입력값 는 각각의 가중치 와 함께 종착지인 인공 뉴런에 전달되고 있습니다.\n",
        "\n",
        "각각의 입력값에는 각각의 가중치가 존재하는데, 이때 가중치의 값이 크면 클수록 해당 입력 값이 중요하다는 것을 의미합니다.\n",
        "\n",
        "각 입력값이 가중치와 곱해져서 인공 뉴런에 보내지고, 각 입력값과 그에 해당되는 가중치의 곱의 전체 합이 임계치(threshold)를 넘으면 종착지에 있는 인공 뉴런은 출력 신호로서 1을 출력하고, 그렇지 않을 경우에는 0을 출력합니다. 이러한 함수를 계단 함수(Step function)라고 하며, 아래는 그래프는 계단 함수의 하나의 예를 보여줍니다.\n",
        "```\n",
        "\n"
      ],
      "metadata": {
        "id": "hMYx30ww1dES"
      }
    },
    {
      "cell_type": "markdown",
      "source": [
        "#TFIDF"
      ],
      "metadata": {
        "id": "OcL3l7vn1c6I"
      }
    }
  ]
}