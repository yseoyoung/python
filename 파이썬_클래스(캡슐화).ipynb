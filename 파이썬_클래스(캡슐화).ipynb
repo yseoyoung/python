{
  "nbformat": 4,
  "nbformat_minor": 0,
  "metadata": {
    "colab": {
      "name": "파이썬 - 클래스(캡슐화).ipynb",
      "provenance": [],
      "include_colab_link": true
    },
    "kernelspec": {
      "name": "python3",
      "display_name": "Python 3"
    },
    "language_info": {
      "name": "python"
    }
  },
  "cells": [
    {
      "cell_type": "markdown",
      "metadata": {
        "id": "view-in-github",
        "colab_type": "text"
      },
      "source": [
        "<a href=\"https://colab.research.google.com/github/yseoyoung/python/blob/main/%ED%8C%8C%EC%9D%B4%EC%8D%AC_%ED%81%B4%EB%9E%98%EC%8A%A4(%EC%BA%A1%EC%8A%90%ED%99%94).ipynb\" target=\"_parent\"><img src=\"https://colab.research.google.com/assets/colab-badge.svg\" alt=\"Open In Colab\"/></a>"
      ]
    },
    {
      "cell_type": "markdown",
      "source": [
        "# 구조체 캡슐화\n",
        "데이터를 멤버로 구성하는 캡슐화\\\n",
        "절차식 언어에서 캡슐화하는 방법"
      ],
      "metadata": {
        "id": "7guUtCe7R9Vg"
      }
    },
    {
      "cell_type": "code",
      "execution_count": null,
      "metadata": {
        "id": "1BOTlv0vR6Iw"
      },
      "outputs": [],
      "source": [
        "from dataclasses import dataclass\n",
        "@dataclass\n",
        "class Product:\n",
        "  weight: int = None\n",
        "  price : int = None"
      ]
    },
    {
      "cell_type": "code",
      "source": [
        "pen = Product()\n",
        "pen.weight = 100\n",
        "pen.price = 1000\n",
        "print(\"무게:\",pen.weight, \"가격:\",pen.price)"
      ],
      "metadata": {
        "colab": {
          "base_uri": "https://localhost:8080/"
        },
        "id": "_f62KuGhSOD6",
        "outputId": "29f07b27-291b-42c3-ade6-1006e5bb2981"
      },
      "execution_count": null,
      "outputs": [
        {
          "output_type": "stream",
          "name": "stdout",
          "text": [
            "무게: 100 가격: 1000\n"
          ]
        }
      ]
    },
    {
      "cell_type": "markdown",
      "source": [
        "# 클래스 캡슐화\n",
        "멤버 데이터와 멤버 메소드를 캡슐화할 수 있음\\\n",
        "OOPL에서 캡슐화하는 방법"
      ],
      "metadata": {
        "id": "Zf82f-htSu72"
      }
    },
    {
      "cell_type": "code",
      "source": [
        "class Student:\n",
        "  def __init__(self,num,name):  #클래스 내부의 함수는 첫 번째 매개변수로 반드시 self를 입력해야 함\n",
        "    #self는 자기 자신을 나타내는 딕셔너리 / 키워드가 아니라 단순한 식별자  \n",
        "    self.num = num\n",
        "    self.name = name\n",
        "    self.iq = 0\n",
        "  def introduce(self):\n",
        "    print(f\"번호는 {self.num}, 이름은 {self.name} 아이큐는 {self.iq}\")\n",
        "  def study(self):\n",
        "    self.iq += 1\n",
        "    print(f\"{self.name} 공부하는 중\")"
      ],
      "metadata": {
        "id": "31Auaeh0Ssw_"
      },
      "execution_count": null,
      "outputs": []
    },
    {
      "cell_type": "code",
      "source": [
        "s1 = Student(1,\"홍길동\")\n",
        "s1.introduce()\n",
        "s1.study()\n",
        "s1.study()\n",
        "s1.study()\n",
        "s1.introduce()"
      ],
      "metadata": {
        "colab": {
          "base_uri": "https://localhost:8080/"
        },
        "id": "ob7qzuaOUD0W",
        "outputId": "936903f8-8d21-41c2-a68d-74c1d645e974"
      },
      "execution_count": null,
      "outputs": [
        {
          "output_type": "stream",
          "name": "stdout",
          "text": [
            "번호는 1, 이름은 홍길동 아이큐는 0\n",
            "홍길동 공부하는 중\n",
            "홍길동 공부하는 중\n",
            "홍길동 공부하는 중\n",
            "번호는 1, 이름은 홍길동 아이큐는 3\n"
          ]
        }
      ]
    },
    {
      "cell_type": "markdown",
      "source": [
        "# 정보 은닉\n",
        "캡슐화 과정에서 특정 멤버의 가시성을 차단하는 방법 - 멤버 앞에 __붙이면 은폐(private)\\\n",
        "사용하는 곳에서 직접 사용하지 못하여 형식 내부에서만 사용하게 하는 기법\\\n",
        "데이터 신뢰성을 높이는 방법으로 사용"
      ],
      "metadata": {
        "id": "EoR_39HlU-L6"
      }
    },
    {
      "cell_type": "code",
      "source": [
        "#시나리오 S:\n",
        "#   학생이 연속으로 5 회 공부하면 아이큐가 1 올라간다\n",
        "class Student:\n",
        "  def __init__(self,name):\n",
        "    self.name = name\n",
        "    self.iq = 100\n",
        "    self.__scnt=0 #연속으로 공부한 횟수 #__: 은폐시키는 방법\n",
        "  def study(self):\n",
        "    self.__scnt += 1\n",
        "    if self.__scnt == 5:\n",
        "      self.iq += 1\n",
        "      self.__scnt = 0\n",
        "  def introduce(self):\n",
        "    print(f\"이름은 {self.name} 아이큐는 {self.iq} 비밀인데 scnt:{self.__scnt}\")"
      ],
      "metadata": {
        "id": "PfHLXB7NVk3r"
      },
      "execution_count": null,
      "outputs": []
    },
    {
      "cell_type": "code",
      "source": [
        "s1 = Student(\"홍길동\")\n",
        "s1.introduce()\n",
        "s1.study()\n",
        "s1.study()\n",
        "s1.study()\n",
        "s1.study()\n",
        "s1.study()\n",
        "#print(s1.__iq) 정보 은닉한 멤버에 접근할 수 없음\n",
        "s1.introduce()"
      ],
      "metadata": {
        "colab": {
          "base_uri": "https://localhost:8080/"
        },
        "id": "KgOdQxX6W6Kw",
        "outputId": "07badffc-14d3-4543-d668-9d5e12318fc6"
      },
      "execution_count": null,
      "outputs": [
        {
          "output_type": "stream",
          "name": "stdout",
          "text": [
            "이름은 홍길동 아이큐는 100 비밀인데 scnt:0\n",
            "이름은 홍길동 아이큐는 101 비밀인데 scnt:0\n"
          ]
        }
      ]
    },
    {
      "cell_type": "markdown",
      "source": [
        "# 특별한 멤버 = 생성자, 소멸자\n",
        "\n",
        "개체를 생성할 때 생성자(__init__) 호출\\\n",
        "해당 개체를 소멸하는 것은 가비지 수집기가 알아서 수행함\\\n",
        "(C와 C++에서는 직접 소멸시켜야 하는 부담이 있음"
      ],
      "metadata": {
        "id": "XU9PZeyEX-en"
      }
    },
    {
      "cell_type": "code",
      "source": [
        "#시나리오 S:\n",
        "#   학생이 연속으로 5 회 공부하면 아이큐가 1 올라간다\n",
        "class Student:\n",
        "  def __init__(self):\n",
        "    print(\"__init__\")\n",
        "  def __del__(self):\n",
        "    print(\"__del__\")"
      ],
      "metadata": {
        "id": "1ihCTTQaX8c8"
      },
      "execution_count": null,
      "outputs": []
    },
    {
      "cell_type": "code",
      "source": [
        "print(\"==1==\")\n",
        "s1 = Student()\n",
        "print(\"===2===\")\n",
        "s2 = Student()\n",
        "print(\"===3===\")\n",
        "exit(0) #프로세서 스스로 죽을 때 exit 호출"
      ],
      "metadata": {
        "colab": {
          "base_uri": "https://localhost:8080/"
        },
        "id": "QXdR1n9LYPOB",
        "outputId": "ff82ac2c-f51a-46ef-d044-0c02f38d8ad8"
      },
      "execution_count": null,
      "outputs": [
        {
          "output_type": "stream",
          "name": "stdout",
          "text": [
            "==1==\n",
            "__init__\n",
            "===2===\n",
            "__init__\n",
            "===3===\n"
          ]
        }
      ]
    },
    {
      "cell_type": "markdown",
      "source": [
        "# 데이터 신뢰성을 높이는 멤버 - 설정자, 접근자\n",
        "멤버 필드의 가시성을 차단하고 필요하면 설정자와 접근자를 제공\\\n",
        "설정자 - 멤버 필드에 값을 설정하는 메소드, set_멤버필드명\\\n",
        "접근자 - 멤버 필드에 값을 확인하는 메소드, get_멤버필드명"
      ],
      "metadata": {
        "id": "jxDm-gnxahZn"
      }
    },
    {
      "cell_type": "code",
      "source": [
        "class Student:\n",
        "  def __init__(self,name,num):  #생성자 메소드\n",
        "    self.__name = name\n",
        "    self.__num = num\n",
        "    self.__kor = 0\n",
        "    self.__eng = 0\n",
        "    self.__math = 0\n",
        "  def get_name(self): #접근자 메소드 제공\n",
        "    return self.__name\n",
        "  def get_num(self):\n",
        "    return self.__num\n",
        "  def set_kor(self,score):\n",
        "    self.__kor = score\n",
        "  def set_eng(self,score):\n",
        "    self.__eng = score\n",
        "  def set_math(self,score):\n",
        "    self.__math = score\n",
        "  def get_kor(self):\n",
        "    return self.__kor\n",
        "  def get_eng(self):\n",
        "    return self.__eng\n",
        "  def get_math(self):\n",
        "    return self.__math\n",
        "  def tostr(self):\n",
        "    return f\"이름:{self.__name} 번호:{self.__num} 국어:{self.__kor} 영어:{self.__eng} 수학:{self.__math}\""
      ],
      "metadata": {
        "id": "Nz443fXBa6dr"
      },
      "execution_count": null,
      "outputs": []
    },
    {
      "cell_type": "code",
      "source": [
        "s1 = Student(\"홍길동\",3)\n",
        "print(s1.tostr())\n",
        "s1.set_kor(90)\n",
        "s1.set_eng(100)\n",
        "s1.set_math(89)\n",
        "print(s1.tostr())"
      ],
      "metadata": {
        "colab": {
          "base_uri": "https://localhost:8080/"
        },
        "id": "qklRLOAufm1d",
        "outputId": "97655106-c692-47e7-e81b-2d8194f20863"
      },
      "execution_count": null,
      "outputs": [
        {
          "output_type": "stream",
          "name": "stdout",
          "text": [
            "이름:홍길동 번호:3 국어:0 영어:0 수학:0\n",
            "이름:홍길동 번호:3 국어:90 영어:100 수학:89\n"
          ]
        }
      ]
    }
  ]
}