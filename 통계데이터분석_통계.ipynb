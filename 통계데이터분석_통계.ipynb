{
  "nbformat": 4,
  "nbformat_minor": 0,
  "metadata": {
    "colab": {
      "name": "통계데이터분석-통계.ipynb",
      "provenance": [],
      "collapsed_sections": [],
      "mount_file_id": "1O4m3_BaSAlCjWvdNbmJXxsmMZD2b8VNN",
      "authorship_tag": "ABX9TyOWfCj9VVfAcQqaheqsoswq",
      "include_colab_link": true
    },
    "kernelspec": {
      "name": "python3",
      "display_name": "Python 3"
    },
    "language_info": {
      "name": "python"
    }
  },
  "cells": [
    {
      "cell_type": "markdown",
      "metadata": {
        "id": "view-in-github",
        "colab_type": "text"
      },
      "source": [
        "<a href=\"https://colab.research.google.com/github/yseoyoung/python/blob/main/%ED%86%B5%EA%B3%84%EB%8D%B0%EC%9D%B4%ED%84%B0%EB%B6%84%EC%84%9D_%ED%86%B5%EA%B3%84.ipynb\" target=\"_parent\"><img src=\"https://colab.research.google.com/assets/colab-badge.svg\" alt=\"Open In Colab\"/></a>"
      ]
    },
    {
      "cell_type": "markdown",
      "source": [
        "##들여쓰기\n",
        "\n",
        "\n",
        "1.   C언어 예 : 들여쓰기는 문법 사항이 아니다\n",
        "1.   i=0\n",
        "2.   while (i<10) // i가 10보다 작다면\n",
        "     \n",
        "     { printf(\"%d\".i) // i값을 출력\n",
        "       \n",
        "       i+=1 // i를 1 증가\n",
        "\n",
        "     }\n",
        "\n",
        "\n",
        "\n",
        "\n",
        "\n",
        "\n",
        "\n",
        "\n"
      ],
      "metadata": {
        "id": "w2CRkGrosZs-"
      }
    },
    {
      "cell_type": "code",
      "execution_count": 1,
      "metadata": {
        "colab": {
          "base_uri": "https://localhost:8080/"
        },
        "id": "fKBMKm0IrnBD",
        "outputId": "651e9eea-7281-4cb8-bbe8-00e740621312"
      },
      "outputs": [
        {
          "output_type": "stream",
          "name": "stdout",
          "text": [
            "0 1 2 3 4 5 6 7 8 9 "
          ]
        }
      ],
      "source": [
        "i=0\n",
        "while i<10:\n",
        "  print(i,end=' ')\n",
        "  i+=1"
      ]
    },
    {
      "cell_type": "code",
      "source": [
        "import sys\n",
        "sys.path.append('/content/sample_data/')"
      ],
      "metadata": {
        "id": "Hw8iMMeoul3U"
      },
      "execution_count": 2,
      "outputs": []
    },
    {
      "cell_type": "code",
      "source": [
        "import demo as d# 명명한 파이썬 파일 명이 모듈명\n",
        "demo.print_n(3,7)"
      ],
      "metadata": {
        "colab": {
          "base_uri": "https://localhost:8080/"
        },
        "id": "Fs8xhEVrur_D",
        "outputId": "b3e8637b-f5f7-43d1-dbfa-89e8b1c66820"
      },
      "execution_count": 3,
      "outputs": [
        {
          "output_type": "stream",
          "name": "stdout",
          "text": [
            "3 3 3 3 3 3 3 3 "
          ]
        }
      ]
    },
    {
      "cell_type": "markdown",
      "source": [
        "#함수"
      ],
      "metadata": {
        "id": "Ge8KucFSwU0s"
      }
    },
    {
      "cell_type": "code",
      "source": [
        "#함수 정의\n",
        "\n",
        "#def 함수명(입력매개변수목록):\n",
        "#   수행할 구문\n",
        "def print_k(i,k=1):\n",
        "  \"\"\"\n",
        "  인용문 문법을 이용해서\n",
        "  한 줄 이상의 주석을 다는 것을 선호하고 있어요.\n",
        "  함수명: print_k\n",
        "  입력매개변수목록: l,k\n",
        "    i:출력할 인자\n",
        "    k:출력할 횟수, 디폴트값:1\n",
        "  반환: 없음\n",
        "  \"\"\"\n",
        "  for _ in range(k):\n",
        "    print(i,end=',')\n",
        "  print()"
      ],
      "metadata": {
        "id": "awr0K_-NwV-w"
      },
      "execution_count": 6,
      "outputs": []
    },
    {
      "cell_type": "code",
      "source": [
        "def apply_to_one(f):\n",
        "  \"\"\"\n",
        "  함수명:apply_to_one\n",
        "  입력매개변수목록:f\n",
        "    f:알고리즘(최소 한 개의 입력 인자를 갖는)\n",
        "  반환: f(1)\n",
        "  \"\"\"\n",
        "  return f(1) #입력 인자 f를 함수처럼 호출"
      ],
      "metadata": {
        "id": "090W7GmUxj-o"
      },
      "execution_count": 7,
      "outputs": []
    },
    {
      "cell_type": "code",
      "source": [
        "re = apply_to_one(print_k)\n",
        "print(re) #return 값이 없음"
      ],
      "metadata": {
        "colab": {
          "base_uri": "https://localhost:8080/"
        },
        "id": "n2fXkWkRyU9p",
        "outputId": "de4165c8-d57d-4905-d406-8259c93df8f2"
      },
      "execution_count": 9,
      "outputs": [
        {
          "output_type": "stream",
          "name": "stdout",
          "text": [
            "1,\n",
            "None\n"
          ]
        }
      ]
    },
    {
      "cell_type": "code",
      "source": [
        "def foo(a):\n",
        "  print(\"foo 수행...\")\n",
        "  return str(a)"
      ],
      "metadata": {
        "id": "hoCv5xkjylwi"
      },
      "execution_count": 11,
      "outputs": []
    },
    {
      "cell_type": "code",
      "source": [
        "re = apply_to_one(foo)\n",
        "print(re)\n",
        "print(type(re))"
      ],
      "metadata": {
        "colab": {
          "base_uri": "https://localhost:8080/"
        },
        "id": "9YJGWnYdyuFg",
        "outputId": "4d933771-7a8a-4d2d-90da-24b75407139c"
      },
      "execution_count": 26,
      "outputs": [
        {
          "output_type": "stream",
          "name": "stdout",
          "text": [
            "foo 수행...\n",
            "1\n",
            "<class 'str'>\n"
          ]
        }
      ]
    },
    {
      "cell_type": "code",
      "source": [
        "\"\"\"\n",
        "lambda x:x*2\n",
        "위 코드는 아리 코드와 같은 역할을 수행\n",
        "def foo(x): #입력매개변수\n",
        "  return x*2 #수행하고 반환할 값\n",
        "\"\"\"\n",
        "re = apply_to_one(lambda x:x*2)\n",
        "print(re)"
      ],
      "metadata": {
        "colab": {
          "base_uri": "https://localhost:8080/"
        },
        "id": "KN-byx0py7YK",
        "outputId": "9a751b77-c944-4067-98d9-1a277308be00"
      },
      "execution_count": 14,
      "outputs": [
        {
          "output_type": "stream",
          "name": "stdout",
          "text": [
            "2\n"
          ]
        }
      ]
    },
    {
      "cell_type": "markdown",
      "source": [
        "##문자열"
      ],
      "metadata": {
        "id": "C5U5Vpfuzzh7"
      }
    },
    {
      "cell_type": "code",
      "source": [
        "print(\"a\\tb\\n\\c\\\\hello\") #\\t: tab / \\n: 개행 / \\\\: \\"
      ],
      "metadata": {
        "colab": {
          "base_uri": "https://localhost:8080/"
        },
        "id": "QCJ9tAlIz056",
        "outputId": "f1b9cced-b1ed-4dd7-c1ff-86c34b847243"
      },
      "execution_count": 15,
      "outputs": [
        {
          "output_type": "stream",
          "name": "stdout",
          "text": [
            "a\tb\n",
            "\\c\\hello\n"
          ]
        }
      ]
    },
    {
      "cell_type": "code",
      "source": [
        "i = int(input(\"첫 번째 수:\"))\n",
        "j = int(input(\"두 번째 수:\"))\n",
        "re = i+j\n",
        "print(re)"
      ],
      "metadata": {
        "colab": {
          "base_uri": "https://localhost:8080/"
        },
        "id": "iE2MITun0jeE",
        "outputId": "4c9f2b89-2803-4e33-f5ba-01e79616d0f6"
      },
      "execution_count": 17,
      "outputs": [
        {
          "output_type": "stream",
          "name": "stdout",
          "text": [
            "첫 번째 수:4\n",
            "두 번째 수:2\n",
            "6\n"
          ]
        }
      ]
    },
    {
      "cell_type": "code",
      "source": [
        "i=24\n",
        "j=25\n",
        "#inex로 순서정하기(i를 계속 출력해야하면 0을 계속 쓰면 됨 - 불편)\n",
        "\"{0:03d} , {1:04d}\".format(i,j) #03d: 3칸을 채우되, 빈칸은 0으로 채우기 "
      ],
      "metadata": {
        "colab": {
          "base_uri": "https://localhost:8080/",
          "height": 35
        },
        "id": "mgLnUonh0tJ6",
        "outputId": "bbe19665-081b-4fdc-a832-54e550ea1e77"
      },
      "execution_count": 22,
      "outputs": [
        {
          "output_type": "execute_result",
          "data": {
            "application/vnd.google.colaboratory.intrinsic+json": {
              "type": "string"
            },
            "text/plain": [
              "'024 , 0025'"
            ]
          },
          "metadata": {},
          "execution_count": 22
        }
      ]
    },
    {
      "cell_type": "code",
      "source": [
        "f\"{i:03d} {j:04d}\" #개발자들이 자주 사용하는 포맷"
      ],
      "metadata": {
        "colab": {
          "base_uri": "https://localhost:8080/",
          "height": 35
        },
        "id": "adpBzSO300Pm",
        "outputId": "0a967b3f-bbc3-4bb3-a4f0-8d436b13d3a6"
      },
      "execution_count": 23,
      "outputs": [
        {
          "output_type": "execute_result",
          "data": {
            "application/vnd.google.colaboratory.intrinsic+json": {
              "type": "string"
            },
            "text/plain": [
              "'024 0025'"
            ]
          },
          "metadata": {},
          "execution_count": 23
        }
      ]
    },
    {
      "cell_type": "code",
      "source": [
        "pre=\"cap\"\n",
        "ext=\".png\"\n",
        "for cnt in range(1,20):\n",
        "  print(f\"{pre}{cnt}{ext}\")"
      ],
      "metadata": {
        "colab": {
          "base_uri": "https://localhost:8080/"
        },
        "id": "ZjzFLCLL1bnr",
        "outputId": "f08a26af-47ca-4afb-d89e-baf951de0ccb"
      },
      "execution_count": 24,
      "outputs": [
        {
          "output_type": "stream",
          "name": "stdout",
          "text": [
            "cap1.png\n",
            "cap2.png\n",
            "cap3.png\n",
            "cap4.png\n",
            "cap5.png\n",
            "cap6.png\n",
            "cap7.png\n",
            "cap8.png\n",
            "cap9.png\n",
            "cap10.png\n",
            "cap11.png\n",
            "cap12.png\n",
            "cap13.png\n",
            "cap14.png\n",
            "cap15.png\n",
            "cap16.png\n",
            "cap17.png\n",
            "cap18.png\n",
            "cap19.png\n"
          ]
        }
      ]
    },
    {
      "cell_type": "markdown",
      "source": [
        "##예외 처리"
      ],
      "metadata": {
        "id": "aDV8z2va2EPT"
      }
    },
    {
      "cell_type": "code",
      "source": [
        "try:\n",
        "  i = int(input(\"첫 번째 수:\"))\n",
        "except:\n",
        "  print(\"정수가 아닌 수를 입력하여 1로 처리합니다.\")\n",
        "  i = 1\n",
        "try:\n",
        "  j = int(input(\"두 번째 수:\"))\n",
        "except:\n",
        "  print(\"정수가 아닌 수를 입력하여 1로 처리합니다.\")  \n",
        "  j = 1  \n",
        "re = i+j\n",
        "print(f\"두 수의 합은 {re}\")"
      ],
      "metadata": {
        "colab": {
          "base_uri": "https://localhost:8080/"
        },
        "id": "RjI5JN1U2Fld",
        "outputId": "30a80811-8ccf-451e-960b-a3adaf6219ed"
      },
      "execution_count": 25,
      "outputs": [
        {
          "output_type": "stream",
          "name": "stdout",
          "text": [
            "첫 번째 수:4\n",
            "두 번째 수:s\n",
            "정수가 아닌 수를 입력하여 1로 처리합니다.\n",
            "두 수의 합은 5\n"
          ]
        }
      ]
    },
    {
      "cell_type": "markdown",
      "source": [
        "\n",
        "\n",
        "*   리스트\n",
        "*   튜플\n",
        "*   딕셔너리\n",
        "*   디폴트 딕셔너리\n",
        "*   집합\n",
        "*   맵\n",
        "\n",
        "\n",
        "\n",
        "\n",
        "\n"
      ],
      "metadata": {
        "id": "rOl8fGZ96ojE"
      }
    },
    {
      "cell_type": "code",
      "source": [
        "x = [1,2,3,4,5,6,7,8,9,10] #리스트\n",
        "print(\"길이:\",len(x))\n",
        "print(\"합계:\",sum(x))"
      ],
      "metadata": {
        "colab": {
          "base_uri": "https://localhost:8080/"
        },
        "id": "aALHQ1-q6xsg",
        "outputId": "a4775748-7968-4637-ab30-945c3e4907f0"
      },
      "execution_count": 27,
      "outputs": [
        {
          "output_type": "stream",
          "name": "stdout",
          "text": [
            "길이: 10\n",
            "합계: 55\n"
          ]
        }
      ]
    },
    {
      "cell_type": "code",
      "source": [
        "for i in range(len(x)):\n",
        "  print(x[i],end=',') #인덱스 연산으로 원소에 접근\n",
        "print()"
      ],
      "metadata": {
        "colab": {
          "base_uri": "https://localhost:8080/"
        },
        "id": "1Cbst7dX65sa",
        "outputId": "ce4b33ce-80a9-43ef-91bc-4ce61477b388"
      },
      "execution_count": 28,
      "outputs": [
        {
          "output_type": "stream",
          "name": "stdout",
          "text": [
            "1,2,3,4,5,6,7,8,9,10,\n"
          ]
        }
      ]
    },
    {
      "cell_type": "code",
      "source": [
        "for i in range(len(x)):\n",
        "  x[i] = i*i #리스트는 인덱스 연산을 = 좌항에 표현하여 값을 변경할 수 있다.\n",
        "\n",
        "for i in range(len(x)):\n",
        "  print(x[i],end=',') #인덱스 연산으로 원소에 접근\n",
        "print()"
      ],
      "metadata": {
        "colab": {
          "base_uri": "https://localhost:8080/"
        },
        "id": "2IX9uZ8z7RQH",
        "outputId": "55d15000-4abe-43e9-a3e5-4cd484052d68"
      },
      "execution_count": 29,
      "outputs": [
        {
          "output_type": "stream",
          "name": "stdout",
          "text": [
            "0,1,4,9,16,25,36,49,64,81,\n"
          ]
        }
      ]
    },
    {
      "cell_type": "code",
      "source": [
        "print(\"1:\",x[2:4])\n",
        "print(\"2:\",x[:4])\n",
        "print(\"3:\",x[2:])\n",
        "print(\"4:\",x[:])\n",
        "print(\"5:\",x[-1]) # 맨 뒤\n",
        "print(\"6:\",x[2:-1]) # 2에서부터 맨 마지막 원소-1까지"
      ],
      "metadata": {
        "colab": {
          "base_uri": "https://localhost:8080/"
        },
        "id": "jTYgmpNN7vTR",
        "outputId": "79d97ea2-5b41-417d-8100-eef9ecfbfbd4"
      },
      "execution_count": 30,
      "outputs": [
        {
          "output_type": "stream",
          "name": "stdout",
          "text": [
            "1: [4, 9]\n",
            "2: [0, 1, 4, 9]\n",
            "3: [4, 9, 16, 25, 36, 49, 64, 81]\n",
            "4: [0, 1, 4, 9, 16, 25, 36, 49, 64, 81]\n",
            "5: 81\n",
            "6: [4, 9, 16, 25, 36, 49, 64]\n"
          ]
        }
      ]
    },
    {
      "cell_type": "code",
      "source": [
        "print(x)\n",
        "for i in range(20):\n",
        "  if i in x:\n",
        "    print(f\"{i}는 리스트에 있습니다\")\n",
        "  else:\n",
        "    print(f\"{i}는 없습니다\")"
      ],
      "metadata": {
        "colab": {
          "base_uri": "https://localhost:8080/"
        },
        "id": "Gx1161kZ8sMw",
        "outputId": "4f92a00a-0f91-4bc1-d12c-974a4a02046f"
      },
      "execution_count": 31,
      "outputs": [
        {
          "output_type": "stream",
          "name": "stdout",
          "text": [
            "[0, 1, 4, 9, 16, 25, 36, 49, 64, 81]\n",
            "0는 리스트에 있습니다\n",
            "1는 리스트에 있습니다\n",
            "2는 없습니다\n",
            "3는 없습니다\n",
            "4는 리스트에 있습니다\n",
            "5는 없습니다\n",
            "6는 없습니다\n",
            "7는 없습니다\n",
            "8는 없습니다\n",
            "9는 리스트에 있습니다\n",
            "10는 없습니다\n",
            "11는 없습니다\n",
            "12는 없습니다\n",
            "13는 없습니다\n",
            "14는 없습니다\n",
            "15는 없습니다\n",
            "16는 리스트에 있습니다\n",
            "17는 없습니다\n",
            "18는 없습니다\n",
            "19는 없습니다\n"
          ]
        }
      ]
    },
    {
      "cell_type": "code",
      "source": [
        "ls = [3,4,5]\n",
        "_,b,_ = ls\n",
        "print(f\" b:{b}\")"
      ],
      "metadata": {
        "colab": {
          "base_uri": "https://localhost:8080/"
        },
        "id": "Z-iDBkom8_jP",
        "outputId": "20a50bf4-cf28-4b9a-85e0-75ffdbdbfca4"
      },
      "execution_count": 32,
      "outputs": [
        {
          "output_type": "stream",
          "name": "stdout",
          "text": [
            " b:4\n"
          ]
        }
      ]
    },
    {
      "cell_type": "code",
      "source": [
        "def getcal(ls):\n",
        "  sum=0\n",
        "  for i in range(len(ls)):\n",
        "    sum += ls[i]\n",
        "  aver = sum/len(ls)\n",
        "  return [sum,aver] #반환은 1개만 됨!"
      ],
      "metadata": {
        "id": "ukyOgDK29Htf"
      },
      "execution_count": 33,
      "outputs": []
    },
    {
      "cell_type": "code",
      "source": [
        "x = [3,4,8,1,9]\n",
        "sum,aver = getcal(x)\n",
        "print(\"합계:\",sum)\n",
        "print(\"평균:\",aver)"
      ],
      "metadata": {
        "colab": {
          "base_uri": "https://localhost:8080/"
        },
        "id": "-VEIauX__DLv",
        "outputId": "ea01e95e-6362-4778-d861-382141aabfde"
      },
      "execution_count": 40,
      "outputs": [
        {
          "output_type": "stream",
          "name": "stdout",
          "text": [
            "합계: 25\n",
            "평균: 5.0\n"
          ]
        }
      ]
    },
    {
      "cell_type": "code",
      "source": [
        "x = (1,2,3,4,5) #튜플\n",
        "for i in range(len(x)):\n",
        "  print(x[i],end=',')\n",
        "print()"
      ],
      "metadata": {
        "colab": {
          "base_uri": "https://localhost:8080/"
        },
        "id": "QipSRj2c9_kL",
        "outputId": "00b0fd5e-1e23-4d47-be2c-2d052d7ac897"
      },
      "execution_count": 34,
      "outputs": [
        {
          "output_type": "stream",
          "name": "stdout",
          "text": [
            "1,2,3,4,5,\n"
          ]
        }
      ]
    },
    {
      "cell_type": "code",
      "source": [
        "try:\n",
        "  for i in range(len(x)):\n",
        "    x[i]=i*i #튜플은 원소의 값을 바꿀 수가 없다. (l-value로 사용할 수 없다.)\n",
        "except:\n",
        "  print(\"예외 발생\")"
      ],
      "metadata": {
        "colab": {
          "base_uri": "https://localhost:8080/"
        },
        "id": "MOktaQGd-ME5",
        "outputId": "948f6484-3e6c-4bbf-d4a7-ad99563b1eec"
      },
      "execution_count": 35,
      "outputs": [
        {
          "output_type": "stream",
          "name": "stdout",
          "text": [
            "예외 발생\n"
          ]
        }
      ]
    },
    {
      "cell_type": "code",
      "source": [
        "x = (2,3,4)\n",
        "a,b,c = x\n",
        "print(f\"a:{a}, b:{b}, c:{c}\")"
      ],
      "metadata": {
        "colab": {
          "base_uri": "https://localhost:8080/"
        },
        "id": "Sbgx19FQ-lM6",
        "outputId": "f3e8bb1d-4e4e-4095-dadd-b64441dfc967"
      },
      "execution_count": 36,
      "outputs": [
        {
          "output_type": "stream",
          "name": "stdout",
          "text": [
            "a:2, b:3, c:4\n"
          ]
        }
      ]
    },
    {
      "cell_type": "code",
      "source": [
        "x = 1,2,3,4\n",
        "print(type(x))"
      ],
      "metadata": {
        "colab": {
          "base_uri": "https://localhost:8080/"
        },
        "id": "mnNytTMx-xA4",
        "outputId": "ededb67c-d9b7-4240-d39a-de9a1334573d"
      },
      "execution_count": 37,
      "outputs": [
        {
          "output_type": "stream",
          "name": "stdout",
          "text": [
            "<class 'tuple'>\n"
          ]
        }
      ]
    },
    {
      "cell_type": "code",
      "source": [
        "def getcal2(ls):\n",
        "  sum=0\n",
        "  for i in range(len(ls)):\n",
        "    sum += ls[i]\n",
        "  aver = sum/len(ls)\n",
        "  return sum,aver #대괄호를 붙이지 않으면 튜플!"
      ],
      "metadata": {
        "id": "I4RiyLty-1XF"
      },
      "execution_count": 38,
      "outputs": []
    },
    {
      "cell_type": "code",
      "source": [
        "re = getcal2([1,2,3,4])\n",
        "print(type(re))\n",
        "s, aver = re\n",
        "print(f\"합계:{s} 평균:{aver}\")"
      ],
      "metadata": {
        "colab": {
          "base_uri": "https://localhost:8080/"
        },
        "id": "UYE0GF3e-6v8",
        "outputId": "3174b82b-e8f4-4c4b-eb97-d3c3882e4342"
      },
      "execution_count": 41,
      "outputs": [
        {
          "output_type": "stream",
          "name": "stdout",
          "text": [
            "<class 'tuple'>\n",
            "합계:10 평균:2.5\n"
          ]
        }
      ]
    },
    {
      "cell_type": "code",
      "source": [
        "mem_dic = {} #딕셔너리\n",
        "try:\n",
        "  mem_dic[0] += 1\n",
        "except:\n",
        "  print(\"예외 발생\")\n",
        "print(\"===========\")\n",
        "mem_dic2={\"홍길동\":[90,84,88],\n",
        "          \"강감찬\":[80,75,45]}\n",
        "print(mem_dic2[\"홍길동\"])\n",
        "my_attr={\"이름\":\"홍길동\",\n",
        "         \"나이\":23,\n",
        "         \"키\":189,\n",
        "         \"몸무게\":95\n",
        "         }\n",
        "print(f'{my_attr[\"이름\"]}:{my_attr[\"키\"]}')    "
      ],
      "metadata": {
        "colab": {
          "base_uri": "https://localhost:8080/"
        },
        "id": "vsVsTTjj_hNP",
        "outputId": "3cac9ffb-aa00-4960-9237-d0c06fb73af8"
      },
      "execution_count": 48,
      "outputs": [
        {
          "output_type": "stream",
          "name": "stdout",
          "text": [
            "예외 발생\n",
            "===========\n",
            "[90, 84, 88]\n",
            "홍길동:189\n"
          ]
        }
      ]
    },
    {
      "cell_type": "code",
      "source": [
        "from collections import defaultdict\n",
        "word_counts = defaultdict(int)\n",
        "try:\n",
        "  word_counts[0]+=1\n",
        "  print(\"나 살아있어요.\")\n",
        "except:\n",
        "  print(\"예외 발생\")"
      ],
      "metadata": {
        "colab": {
          "base_uri": "https://localhost:8080/"
        },
        "id": "arY7Nv3CBOYe",
        "outputId": "3faaaf4e-d014-44cd-9bae-64ef1638a3e2"
      },
      "execution_count": 49,
      "outputs": [
        {
          "output_type": "stream",
          "name": "stdout",
          "text": [
            "나 살아있어요.\n"
          ]
        }
      ]
    },
    {
      "cell_type": "code",
      "source": [
        "from collections import Counter\n",
        "c = Counter([0,1,2,1,1,2,3,4,1,2,0])\n",
        "print(c)"
      ],
      "metadata": {
        "colab": {
          "base_uri": "https://localhost:8080/"
        },
        "id": "I2TPNXFvCFHr",
        "outputId": "00681d62-1fd5-4ece-bb87-0abcad99af27"
      },
      "execution_count": 50,
      "outputs": [
        {
          "output_type": "stream",
          "name": "stdout",
          "text": [
            "Counter({1: 4, 2: 3, 0: 2, 3: 1, 4: 1})\n"
          ]
        }
      ]
    },
    {
      "cell_type": "code",
      "source": [
        "s = set() #집합(내부적으로 이진 트리 구조와 유사하여 빠른 검색이 가능, 같은 값 보관 안함(중복 X))\n",
        "s.add(1)\n",
        "print(len(s)) # 원소:1\n",
        "s.add(3)\n",
        "print(len(s)) # 원소:1,3\n",
        "s.add(3)\n",
        "print(len(s)) #원소:1,3 \n",
        "\n",
        "#빠른 검색을 위한 자료구조이다 보니까 같은 값 중복 불가 (특정 항목의 존재여부 확인할 때!)\n",
        "\n",
        "print(1 in s)\n",
        "print(2 in s)\n",
        "print(3 in s)"
      ],
      "metadata": {
        "colab": {
          "base_uri": "https://localhost:8080/"
        },
        "id": "1IZ-NfyzDcR2",
        "outputId": "76b29a54-04aa-43f9-c75b-fc85812e2c17"
      },
      "execution_count": 55,
      "outputs": [
        {
          "output_type": "stream",
          "name": "stdout",
          "text": [
            "1\n",
            "2\n",
            "2\n",
            "True\n",
            "False\n",
            "True\n"
          ]
        }
      ]
    },
    {
      "cell_type": "code",
      "source": [
        "x=[3,5,2,4,7]\n",
        "sc = sorted(x) #원본개체를 복제해 정렬 --> 리스트를 변경하고 싶지 않을 때!\n",
        "print(sc)\n",
        "print(x) #원본은 그대로\n",
        "\n",
        "x.sort() #원본을 변경\n",
        "print(x)"
      ],
      "metadata": {
        "colab": {
          "base_uri": "https://localhost:8080/"
        },
        "id": "vTmGAbG2HCR5",
        "outputId": "5f569459-d0f3-4aff-b09e-7cee7b0b4e2b"
      },
      "execution_count": 57,
      "outputs": [
        {
          "output_type": "stream",
          "name": "stdout",
          "text": [
            "[2, 3, 4, 5, 7]\n",
            "[3, 5, 2, 4, 7]\n",
            "[2, 3, 4, 5, 7]\n"
          ]
        }
      ]
    },
    {
      "cell_type": "code",
      "source": [
        "#리스트 컴프리헨션 : 기존의 리스트에서 특정 항목을 선택하거나 변환시킨 결과를 새로운 리스트에 저장해야 하는 경우\n",
        "zeros = [0 for _ in range(10)]\n",
        "print(zeros)\n",
        "\n",
        "zeros2 = []\n",
        "for _ in range(10):\n",
        "  zeros2.append(0)\n",
        "print(zeros2)"
      ],
      "metadata": {
        "colab": {
          "base_uri": "https://localhost:8080/"
        },
        "id": "sbYKAabNIEdh",
        "outputId": "c6d78687-1822-43fa-926e-16f85af75c26"
      },
      "execution_count": 59,
      "outputs": [
        {
          "output_type": "stream",
          "name": "stdout",
          "text": [
            "[0, 0, 0, 0, 0, 0, 0, 0, 0, 0]\n",
            "[0, 0, 0, 0, 0, 0, 0, 0, 0, 0]\n"
          ]
        }
      ]
    },
    {
      "cell_type": "code",
      "source": [
        "evens = [x for x in range(10) if x%2==0 ]\n",
        "print(evens)\n",
        "\n",
        "evens2 = []\n",
        "for x in range(10):\n",
        "  if x%2 == 0:\n",
        "    evens2.append(x)\n",
        "print(evens2)"
      ],
      "metadata": {
        "colab": {
          "base_uri": "https://localhost:8080/"
        },
        "id": "RclquLFqIuw_",
        "outputId": "36faf794-a361-4fc2-f3c2-0be9cbedbef7"
      },
      "execution_count": 61,
      "outputs": [
        {
          "output_type": "stream",
          "name": "stdout",
          "text": [
            "[0, 2, 4, 6, 8]\n",
            "[0, 2, 4, 6, 8]\n"
          ]
        }
      ]
    },
    {
      "cell_type": "code",
      "source": [
        "def fibonacci(n):\n",
        "  if n<=0:\n",
        "    return 0\n",
        "  if n==1 or n==2 :\n",
        "    return 1\n",
        "  return fibonacci(n-1) +fibonacci(n-2)\n",
        "#단위 테스트\n",
        "print(\"fibonacci(1):\",fibonacci(1))\n",
        "print(\"fibonacci(2):\",fibonacci(2))\n",
        "print(\"fibonacci(3):\",fibonacci(3))"
      ],
      "metadata": {
        "colab": {
          "base_uri": "https://localhost:8080/"
        },
        "id": "J9U-L9pPD3p5",
        "outputId": "0bc07a7b-921f-4ffa-b7d7-22182e67d459"
      },
      "execution_count": 62,
      "outputs": [
        {
          "output_type": "stream",
          "name": "stdout",
          "text": [
            "fibonacci(1): 1\n",
            "fibonacci(2): 1\n",
            "fibonacci(3): 2\n"
          ]
        }
      ]
    },
    {
      "cell_type": "code",
      "source": [
        "import demo2"
      ],
      "metadata": {
        "colab": {
          "base_uri": "https://localhost:8080/"
        },
        "id": "gdDnP-QvJ6N8",
        "outputId": "87ee598b-a9a3-4914-8589-51f2e84c6df9"
      },
      "execution_count": 63,
      "outputs": [
        {
          "output_type": "stream",
          "name": "stdout",
          "text": [
            "fibonacci(1): 1\n",
            "fibonacci(2): 1\n",
            "fibonacci(3): 2\n"
          ]
        }
      ]
    },
    {
      "cell_type": "code",
      "source": [
        "def fibonacci2(n):\n",
        "  if n<=0:\n",
        "    return 0\n",
        "  if n==1 or n==2 :\n",
        "    return 1\n",
        "  return fibonacci2(n-1) +fibonacci2(n-2)\n",
        "#단위 테스트\n",
        "#assert 구문이 true면 아무것도 발생하지 않음 --> 코드가 제대로 작성되었는 지 체크할 때!\n",
        "assert fibonacci(1) == 1, \"오류\"\n",
        "assert fibonacci(2) == 1, \"오류\"\n",
        "assert fibonacci(3) == 2, \"오류\"\n",
        "assert fibonacci(4) == 3, \"오류\"\n",
        "assert fibonacci(5) == 5, \"오류\""
      ],
      "metadata": {
        "id": "AFcIjG2oKEzB"
      },
      "execution_count": 67,
      "outputs": []
    },
    {
      "cell_type": "code",
      "source": [
        "#제너레이터 : 주로 for문을 통해 반복할 수 있으며 각 항목은 필요한 순간 그때그때 생성\n",
        "#함수와 yield 활용\n",
        "\n",
        "def mygen(ls):\n",
        "  cnt=0\n",
        "  for item in ls:\n",
        "    yield cnt, item #yield가 호출될 때마다 제너레이터에 해당 값 생성\n",
        "    cnt+=1"
      ],
      "metadata": {
        "id": "S2jBrKW6K2HP"
      },
      "execution_count": 70,
      "outputs": []
    },
    {
      "cell_type": "code",
      "source": [
        "for i,e in mygen(['a','b','c']):\n",
        "  print(i,e)"
      ],
      "metadata": {
        "colab": {
          "base_uri": "https://localhost:8080/"
        },
        "id": "JXeJhK6bLHDH",
        "outputId": "011af011-d37f-4200-f46d-40261baec3c8"
      },
      "execution_count": 71,
      "outputs": [
        {
          "output_type": "stream",
          "name": "stdout",
          "text": [
            "0 a\n",
            "1 b\n",
            "2 c\n"
          ]
        }
      ]
    },
    {
      "cell_type": "code",
      "source": [
        "#제너레이터보다 enumerate를 더 자주 사용!\n",
        "\n",
        "for i,e in enumerate(['a','b','c']):\n",
        "  print(i,e)"
      ],
      "metadata": {
        "colab": {
          "base_uri": "https://localhost:8080/"
        },
        "id": "uuJ17Ii1Lq6Q",
        "outputId": "8e54698e-4bc9-45f6-cd65-2afa4c5c2773"
      },
      "execution_count": 72,
      "outputs": [
        {
          "output_type": "stream",
          "name": "stdout",
          "text": [
            "0 a\n",
            "1 b\n",
            "2 c\n"
          ]
        }
      ]
    },
    {
      "cell_type": "code",
      "source": [
        "#두 개 이상의 리스트를 서로 묶어주고 싶을 때\n",
        "ls1=[1,2,3,4,5]\n",
        "ls2=['a','b','c','d','e']\n",
        "for e1,e2 in zip(ls1,ls2): #zip은 실행 속도가 느린 함수\n",
        "  print(e1,e2)\n",
        "\n",
        "print(\"======\") \n",
        "for i,e in enumerate(ls1): #속도적인 측면에서 유리\n",
        "  print(e,ls2[i])"
      ],
      "metadata": {
        "colab": {
          "base_uri": "https://localhost:8080/"
        },
        "id": "QVyJRJjVMwYU",
        "outputId": "a811d174-c142-41a9-fcee-edc8f8ad72b3"
      },
      "execution_count": 75,
      "outputs": [
        {
          "output_type": "stream",
          "name": "stdout",
          "text": [
            "1 a\n",
            "2 b\n",
            "3 c\n",
            "4 d\n",
            "5 e\n",
            "======\n",
            "1 a\n",
            "2 b\n",
            "3 c\n",
            "4 d\n",
            "5 e\n"
          ]
        }
      ]
    },
    {
      "cell_type": "code",
      "source": [
        "#명시적으로 함수 생성\n",
        "def add(a:int, b:int)->int: #입력매개변수와 리턴타입을 int로 지정(int가 아닐 시 에러)\n",
        "  return a+b"
      ],
      "metadata": {
        "id": "8gD3q9btNdYR"
      },
      "execution_count": 76,
      "outputs": []
    },
    {
      "cell_type": "code",
      "source": [
        "add(2,4)"
      ],
      "metadata": {
        "colab": {
          "base_uri": "https://localhost:8080/"
        },
        "id": "xqCTYY6ENh3e",
        "outputId": "8ca5a679-aaed-445d-a22d-345c2c1b9fa0"
      },
      "execution_count": 78,
      "outputs": [
        {
          "output_type": "execute_result",
          "data": {
            "text/plain": [
              "6"
            ]
          },
          "metadata": {},
          "execution_count": 78
        }
      ]
    },
    {
      "cell_type": "code",
      "source": [
        "def foo(a):\n",
        "  \"\"\"\n",
        "  전달받은 값을 10으로 나누었을 때 몫을 반환하는 함수\n",
        "  \"\"\"\n",
        "  return a//10"
      ],
      "metadata": {
        "id": "H6YN6yVeVSE8"
      },
      "execution_count": 86,
      "outputs": []
    },
    {
      "cell_type": "code",
      "source": [
        "src=[18,23,54,67,99]\n",
        "dst1=[foo(n) for n in src]\n",
        "print(dst1)"
      ],
      "metadata": {
        "colab": {
          "base_uri": "https://localhost:8080/"
        },
        "id": "2xS0JXJTVZP3",
        "outputId": "cf24a09d-78b5-4350-9bea-d206d80e980d"
      },
      "execution_count": 87,
      "outputs": [
        {
          "output_type": "stream",
          "name": "stdout",
          "text": [
            "[1, 2, 5, 6, 9]\n"
          ]
        }
      ]
    },
    {
      "cell_type": "code",
      "source": [
        "mo = map(foo,src)\n",
        "ls = list(mo)\n",
        "print(ls)"
      ],
      "metadata": {
        "colab": {
          "base_uri": "https://localhost:8080/"
        },
        "id": "j7aHiypfVpVN",
        "outputId": "4f759c04-a0b3-4995-d69e-abd4e22d9776"
      },
      "execution_count": 88,
      "outputs": [
        {
          "output_type": "stream",
          "name": "stdout",
          "text": [
            "[1, 2, 5, 6, 9]\n"
          ]
        }
      ]
    },
    {
      "cell_type": "code",
      "source": [
        "ls = list(map(foo,src))\n",
        "print(ls)"
      ],
      "metadata": {
        "colab": {
          "base_uri": "https://localhost:8080/"
        },
        "id": "WT32OgJaV3ak",
        "outputId": "5c5d997f-9e34-447e-854b-c24de365f2f2"
      },
      "execution_count": 89,
      "outputs": [
        {
          "output_type": "stream",
          "name": "stdout",
          "text": [
            "[1, 2, 5, 6, 9]\n"
          ]
        }
      ]
    },
    {
      "cell_type": "markdown",
      "source": [
        "#통계\n",
        "\n",
        "\n",
        "*   평균\n",
        "*   중간값\n",
        "*   사분위값\n",
        "*   최빈값\n",
        "*   분산\n",
        "*   표준편차\n",
        "*   공분산\n",
        "*   상관관계\n",
        "\n"
      ],
      "metadata": {
        "id": "RnLne_8QvSwv"
      }
    },
    {
      "cell_type": "code",
      "source": [
        "import numpy as np\n",
        "#친구의 수\n",
        "num_friends = np.array([100.0,49,41,40,25,21,21,19,19,18,18,16,15,15,15,15,14,14,13,13,13,13,12,12,11,10,10,10,10,10,10,10,10,10,10,10,10,10,10,10,9,9,9,9,9,9,9,9,9,9,9,9,9,9,9,9,9,9,8,8,8,8,8,8,8,8,8,8,8,8,8,7,7,7,7,7,7,7,7,7,7,7,7,7,7,7,6,6,6,6,6,6,6,6,6,6,6,6,6,6,6,6,6,6,6,6,6,6,5,5,5,5,5,5,5,5,5,5,5,5,5,5,5,5,5,4,4,4,4,4,4,4,4,4,4,4,4,4,4,4,4,4,4,4,4,3,3,3,3,3,3,3,3,3,3,3,3,3,3,3,3,3,3,3,3,2,2,2,2,2,2,2,2,2,2,2,2,2,2,2,2,2,1,1,1,1,1,1,1,1,1,1,1,1,1,1,1,1,1,1,1,1,1,1])\n",
        "#웹서핑 소요 시간(분)\n",
        "daily_minutes = np.array([1,68.77,51.25,52.08,38.36,44.54,57.13,51.4,41.42,31.22,34.76,54.01,38.79,47.59,49.1,27.66,41.03,36.73,48.65,28.12,46.62,35.57,32.98,35,26.07,23.77,39.73,40.57,31.65,31.21,36.32,20.45,21.93,26.02,27.34,23.49,46.94,30.5,33.8,24.23,21.4,27.94,32.24,40.57,25.07,19.42,22.39,18.42,46.96,23.72,26.41,26.97,36.76,40.32,35.02,29.47,30.2,31,38.11,38.18,36.31,21.03,30.86,36.07,28.66,29.08,37.28,15.28,24.17,22.31,30.17,25.53,19.85,35.37,44.6,17.23,13.47,26.33,35.02,32.09,24.81,19.33,28.77,24.26,31.98,25.73,24.86,16.28,34.51,15.23,39.72,40.8,26.06,35.76,34.76,16.13,44.04,18.03,19.65,32.62,35.59,39.43,14.18,35.24,40.13,41.82,35.45,36.07,43.67,24.61,20.9,21.9,18.79,27.61,27.21,26.61,29.77,20.59,27.53,13.82,33.2,25,33.1,36.65,18.63,14.87,22.2,36.81,25.53,24.62,26.25,18.21,28.08,19.42,29.79,32.8,35.99,28.32,27.79,35.88,29.06,36.28,14.1,36.63,37.49,26.9,18.58,38.48,24.48,18.95,33.55,14.24,29.04,32.51,25.63,22.22,19,32.73,15.16,13.9,27.2,32.01,29.27,33,13.74,20.42,27.32,18.23,35.35,28.48,9.08,24.62,20.12,35.26,19.92,31.02,16.49,12.16,30.7,31.22,34.65,13.13,27.51,33.2,31.57,14.1,33.42,17.44,10.12,24.42,9.82,23.39,30.93,15.03,21.67,31.09,33.29,22.61,26.89,23.48,8.38,27.81,32.35,23.84])\n"
      ],
      "metadata": {
        "id": "Y_L7mkYCvmhU"
      },
      "execution_count": 80,
      "outputs": []
    },
    {
      "cell_type": "code",
      "source": [
        "import matplotlib.pyplot as plt"
      ],
      "metadata": {
        "id": "_WDyiG_MQdd_"
      },
      "execution_count": 81,
      "outputs": []
    },
    {
      "cell_type": "code",
      "source": [
        "plt.plot(num_friends,\"bo\")\n",
        "plt.xlabel(\"index\")\n",
        "plt.ylabel(\"num of friends\")\n",
        "plt.title(\"number of friends\")\n",
        "plt.show()"
      ],
      "metadata": {
        "colab": {
          "base_uri": "https://localhost:8080/",
          "height": 295
        },
        "id": "rokhS2yLQhky",
        "outputId": "8fbe806e-7893-4569-c2b6-dd35d29f8bf1"
      },
      "execution_count": 82,
      "outputs": [
        {
          "output_type": "display_data",
          "data": {
            "image/png": "[encoded data removed]",
            "text/plain": [
              "<Figure size 432x288 with 1 Axes>"
            ]
          },
          "metadata": {
            "needs_background": "light"
          }
        }
      ]
    },
    {
      "cell_type": "code",
      "source": [
        "plt.plot(daily_minutes,\"ro\")\n",
        "plt.xlabel(\"index\")\n",
        "plt.ylabel(\"min of web\")\n",
        "plt.title(\"minutes of web\")\n",
        "plt.show()"
      ],
      "metadata": {
        "colab": {
          "base_uri": "https://localhost:8080/",
          "height": 295
        },
        "id": "9jD9WULvQs7L",
        "outputId": "e57e9f81-d747-4b37-cd1a-4c641b566ef5"
      },
      "execution_count": 83,
      "outputs": [
        {
          "output_type": "display_data",
          "data": {
            "image/png": "[encoded data removed]",
            "text/plain": [
              "<Figure size 432x288 with 1 Axes>"
            ]
          },
          "metadata": {
            "needs_background": "light"
          }
        }
      ]
    },
    {
      "cell_type": "code",
      "source": [
        "plt.plot(num_friends,\"bo\")\n",
        "plt.xlabel(\"index\")\n",
        "plt.ylabel(\"num of friends and min of web\")\n",
        "plt.plot(daily_minutes,\"ro\")\n",
        "plt.title(\"number of friends and minutes of web\")\n",
        "plt.show()"
      ],
      "metadata": {
        "colab": {
          "base_uri": "https://localhost:8080/",
          "height": 295
        },
        "id": "HGpUsmvLRECF",
        "outputId": "402d9e3b-095e-49fc-c3f4-5dbf81c4aaf1"
      },
      "execution_count": 84,
      "outputs": [
        {
          "output_type": "display_data",
          "data": {
            "image/png": "[encoded data removed]",
            "text/plain": [
              "<Figure size 432x288 with 1 Axes>"
            ]
          },
          "metadata": {
            "needs_background": "light"
          }
        }
      ]
    },
    {
      "cell_type": "code",
      "source": [
        "import pandas as pd"
      ],
      "metadata": {
        "id": "fd0D4X-YWJiR"
      },
      "execution_count": 90,
      "outputs": []
    },
    {
      "cell_type": "code",
      "source": [
        "friends_se = pd.Series(num_friends)\n",
        "fvc = friends_se.value_counts()\n",
        "plt.bar(fvc.index,fvc.values)\n",
        "plt.show()"
      ],
      "metadata": {
        "colab": {
          "base_uri": "https://localhost:8080/",
          "height": 265
        },
        "id": "gy_YZRfXWJdg",
        "outputId": "48e8230c-9de6-4a9a-c148-29bf61e34cee"
      },
      "execution_count": 91,
      "outputs": [
        {
          "output_type": "display_data",
          "data": {
            "image/png": "[encoded data removed]",
            "text/plain": [
              "<Figure size 432x288 with 1 Axes>"
            ]
          },
          "metadata": {
            "needs_background": "light"
          }
        }
      ]
    },
    {
      "cell_type": "code",
      "source": [
        "friends_se = pd.Series(num_friends)\n",
        "fvc = friends_se.value_counts()\n",
        "#실수형 -> 정수형 ->문자열 형식으로 형변환-> 그 자체로 틱으로 사용됨. #정수형으로 하면 범주형으로 값이 들어가게 된다.\n",
        "fvc_ind_str = [str(int(fc)) for fc in fvc.index] \n",
        "plt.bar(fvc_ind_str,fvc.values)\n",
        "plt.grid(True)\n",
        "plt.show()"
      ],
      "metadata": {
        "colab": {
          "base_uri": "https://localhost:8080/",
          "height": 265
        },
        "id": "lF315eHIWeO3",
        "outputId": "9966704c-9f70-4f54-be16-44b4f25c9336"
      },
      "execution_count": 100,
      "outputs": [
        {
          "output_type": "display_data",
          "data": {
            "image/png": "[encoded data removed]",
            "text/plain": [
              "<Figure size 432x288 with 1 Axes>"
            ]
          },
          "metadata": {
            "needs_background": "light"
          }
        }
      ]
    },
    {
      "cell_type": "code",
      "source": [
        "print(\"친구 수===\")\n",
        "print(\"평균:\",num_friends.mean())\n",
        "print(\"중간값:\",np.median(num_friends))\n",
        "print(\"분산:\",num_friends.var())\n",
        "print(\"표준편차:\",num_friends.std())\n",
        "print(\"1/4 분위\",np.quantile(num_friends,0.25))\n",
        "print(\"1/2 분위\",np.quantile(num_friends,0.5))\n",
        "print(\"3/4 분위\",np.quantile(num_friends,0.75))\n",
        "\n",
        "#통계에 관한 별도의 모듈\n",
        "from scipy.stats import mode\n",
        "mf = mode(num_friends)\n",
        "print(f\"최빈값:{mf[0]} 빈도수:{mf[1]}\")"
      ],
      "metadata": {
        "colab": {
          "base_uri": "https://localhost:8080/"
        },
        "id": "Rs6S7XBUW5-j",
        "outputId": "c1972d13-954c-4dd9-bbb6-4b51ccf28a25"
      },
      "execution_count": 97,
      "outputs": [
        {
          "output_type": "stream",
          "name": "stdout",
          "text": [
            "친구 수===\n",
            "평균: 7.333333333333333\n",
            "중간값: 6.0\n",
            "분산: 81.14379084967321\n",
            "표준편차: 9.007984838446012\n",
            "1/4 분위 3.0\n",
            "1/2 분위 6.0\n",
            "3/4 분위 9.0\n",
            "최빈값:[1.] 빈도수:[22]\n"
          ]
        }
      ]
    },
    {
      "cell_type": "markdown",
      "source": [
        "##공분산\n",
        "![image.png](data:image/png;base64,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)"
      ],
      "metadata": {
        "id": "oLK0WqTRY1OY"
      }
    },
    {
      "cell_type": "code",
      "source": [
        "def cov(x,y):\n",
        "  dx = x-x.mean()\n",
        "  dy = y-y.mean()\n",
        "  return np.dot(dx,dy)/(len(x)-1)"
      ],
      "metadata": {
        "id": "-e57sDugYp3-"
      },
      "execution_count": 102,
      "outputs": []
    },
    {
      "cell_type": "code",
      "source": [
        "print(\"공분산(친구수,웹서핑시간(분)):\", cov(num_friends,daily_minutes))"
      ],
      "metadata": {
        "colab": {
          "base_uri": "https://localhost:8080/"
        },
        "id": "ZTCswBqoZO4V",
        "outputId": "20fa598e-76bb-4cd7-c6f0-cc8757a01fc3"
      },
      "execution_count": 103,
      "outputs": [
        {
          "output_type": "stream",
          "name": "stdout",
          "text": [
            "공분산(친구수,웹서핑시간(분)): 22.425435139573057\n"
          ]
        }
      ]
    },
    {
      "cell_type": "code",
      "source": [
        "np.cov(num_friends,daily_minutes)"
      ],
      "metadata": {
        "colab": {
          "base_uri": "https://localhost:8080/"
        },
        "id": "rOvsi_boZWF3",
        "outputId": "9b8edc38-6721-4775-82ae-934dceee81af"
      },
      "execution_count": 104,
      "outputs": [
        {
          "output_type": "execute_result",
          "data": {
            "text/plain": [
              "array([[ 81.54351396,  22.42543514],\n",
              "       [ 22.42543514, 100.78589895]])"
            ]
          },
          "metadata": {},
          "execution_count": 104
        }
      ]
    },
    {
      "cell_type": "code",
      "source": [
        "print(\"0:\",cov(num_friends,num_friends))\n",
        "print(\"1:\",cov(num_friends,daily_minutes))\n",
        "print(\"2:\",cov(daily_minutes,num_friends))\n",
        "print(\"3:\",cov(daily_minutes,daily_minutes))"
      ],
      "metadata": {
        "colab": {
          "base_uri": "https://localhost:8080/"
        },
        "id": "VZIn7PQYZaxj",
        "outputId": "02e4d645-2691-4962-f0e4-a5f43902d40d"
      },
      "execution_count": 105,
      "outputs": [
        {
          "output_type": "stream",
          "name": "stdout",
          "text": [
            "0: 81.54351395730706\n",
            "1: 22.425435139573057\n",
            "2: 22.425435139573057\n",
            "3: 100.78589895440932\n"
          ]
        }
      ]
    },
    {
      "cell_type": "markdown",
      "source": [
        "##상관관계\n",
        "![image.png](data:image/png;base64,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)"
      ],
      "metadata": {
        "id": "A-ZU4N1-a1Lz"
      }
    },
    {
      "cell_type": "code",
      "source": [
        "def correlation(x,y):\n",
        "  std_x = x.std()\n",
        "  std_y = y.std()\n",
        "  if std_x>0 and std_y>0:\n",
        "    return cov(x,y)/std_x/std_y\n",
        "  else:\n",
        "    return 0"
      ],
      "metadata": {
        "id": "XXNiQoZ1aVDj"
      },
      "execution_count": 106,
      "outputs": []
    },
    {
      "cell_type": "code",
      "source": [
        "print(\"친구 수와 웹서핑시간(분)의 상관관계:\",correlation(num_friends,daily_minutes))"
      ],
      "metadata": {
        "colab": {
          "base_uri": "https://localhost:8080/"
        },
        "id": "yPtWrLbiakX1",
        "outputId": "fe6e9f98-9f65-4239-fd12-a1cb3f4c4e81"
      },
      "execution_count": 107,
      "outputs": [
        {
          "output_type": "stream",
          "name": "stdout",
          "text": [
            "친구 수와 웹서핑시간(분)의 상관관계: 0.24858814299318005\n"
          ]
        }
      ]
    },
    {
      "cell_type": "code",
      "source": [
        "cv = correlation(num_friends,daily_minutes)\n",
        "plt.figure(figsize=(4,4))\n",
        "plt.plot(num_friends,daily_minutes,\".\")\n",
        "plt.plot([0,100],[0,100*cv])\n",
        "plt.xlim(0,110)\n",
        "plt.ylim(0,110)\n",
        "plt.show()\n",
        "print(cv)"
      ],
      "metadata": {
        "colab": {
          "base_uri": "https://localhost:8080/",
          "height": 283
        },
        "id": "RdkOURwicUrP",
        "outputId": "4514ae0f-0197-4760-dd3b-5ccc116ea347"
      },
      "execution_count": 115,
      "outputs": [
        {
          "output_type": "display_data",
          "data": {
            "image/png": "[encoded data removed]",
            "text/plain": [
              "<Figure size 288x288 with 1 Axes>"
            ]
          },
          "metadata": {
            "needs_background": "light"
          }
        },
        {
          "output_type": "stream",
          "name": "stdout",
          "text": [
            "0.24858814299318005\n"
          ]
        }
      ]
    },
    {
      "cell_type": "code",
      "source": [
        "num_friends2 = num_friends[1:] #num_friends[0]의 데이터가 튀어서 빼서 실행해본 것! 혼자 100임;\n",
        "daily_minutes2 = daily_minutes[1:]"
      ],
      "metadata": {
        "id": "4UtBNf65dIHA"
      },
      "execution_count": 111,
      "outputs": []
    },
    {
      "cell_type": "code",
      "source": [
        "# cv : 상관관계 \n",
        "cv2 = correlation(num_friends2,daily_minutes2)\n",
        "plt.figure(figsize=(4,4))\n",
        "plt.plot(num_friends2,daily_minutes2,\".\",label='num_fr,daily_min')\n",
        "plt.plot([0,100],[0,100*cv2],label='corr')\n",
        "plt.xlabel(\"num of friends\")\n",
        "plt.ylabel(\"min of web\")\n",
        "plt.xlim(0,110)\n",
        "plt.ylim(0,110)\n",
        "plt.legend()\n",
        "plt.show()\n",
        "print(cv2)"
      ],
      "metadata": {
        "colab": {
          "base_uri": "https://localhost:8080/",
          "height": 297
        },
        "id": "0ZGDlyWGdThe",
        "outputId": "a81c871e-536f-4e7f-9581-5bb1b48a6fb9"
      },
      "execution_count": 118,
      "outputs": [
        {
          "output_type": "display_data",
          "data": {
            "image/png": "[encoded data removed]",
            "text/plain": [
              "<Figure size 288x288 with 1 Axes>"
            ]
          },
          "metadata": {
            "needs_background": "light"
          }
        },
        {
          "output_type": "stream",
          "name": "stdout",
          "text": [
            "0.5765192076634241\n"
          ]
        }
      ]
    },
    {
      "cell_type": "code",
      "source": [
        "plt.figure(figsize=(4,4))\n",
        "plt.plot(num_friends,daily_minutes,\"ro\",label='original')\n",
        "plt.plot(num_friends2,daily_minutes2,\"b.\",label='filtering')\n",
        "plt.plot([0,100],[0,100*cv],\"r-\",label='original corr')\n",
        "plt.plot([0,100],[0,100*cv2],\"b-\",label='filtering corr')\n",
        "plt.xlabel(\"num of friends\")\n",
        "plt.ylabel(\"min of web\")\n",
        "plt.xlim(0,110)\n",
        "plt.ylim(0,110)\n",
        "plt.legend()\n",
        "plt.show()"
      ],
      "metadata": {
        "colab": {
          "base_uri": "https://localhost:8080/",
          "height": 279
        },
        "id": "i5NmtbgVwY3o",
        "outputId": "3385e0a2-376d-483d-cc92-b065a9e8110b"
      },
      "execution_count": 120,
      "outputs": [
        {
          "output_type": "display_data",
          "data": {
            "image/png": "[encoded data removed]",
            "text/plain": [
              "<Figure size 288x288 with 1 Axes>"
            ]
          },
          "metadata": {
            "needs_background": "light"
          }
        }
      ]
    },
    {
      "cell_type": "markdown",
      "source": [
        "##경사하강법과 선형회귀 - 로지스틱 회귀\n",
        "\n",
        "KNN - 정규분포, 표준정규분포, rescale\n",
        "\n",
        "KMeans\n",
        "\n",
        "퍼셉트론 - 활성화함수의 필요성"
      ],
      "metadata": {
        "id": "6Q4XdTWNbyy3"
      }
    }
  ]
}