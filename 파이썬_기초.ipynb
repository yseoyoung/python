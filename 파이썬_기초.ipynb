{
  "nbformat": 4,
  "nbformat_minor": 0,
  "metadata": {
    "colab": {
      "name": "파이썬_기초.ipynb",
      "provenance": [],
      "collapsed_sections": [],
      "mount_file_id": "1FKi-FrOVPfPi1iU1efy3d5IDSVk98-94",
      "authorship_tag": "ABX9TyMuwte4i0nUKXRMY5LdjWtm",
      "include_colab_link": true
    },
    "kernelspec": {
      "name": "python3",
      "display_name": "Python 3"
    },
    "language_info": {
      "name": "python"
    }
  },
  "cells": [
    {
      "cell_type": "markdown",
      "metadata": {
        "id": "view-in-github",
        "colab_type": "text"
      },
      "source": [
        "<a href=\"https://colab.research.google.com/github/yseoyoung/python/blob/main/%ED%8C%8C%EC%9D%B4%EC%8D%AC_%EA%B8%B0%EC%B4%88.ipynb\" target=\"_parent\"><img src=\"https://colab.research.google.com/assets/colab-badge.svg\" alt=\"Open In Colab\"/></a>"
      ]
    },
    {
      "cell_type": "markdown",
      "source": [
        "#예외처리"
      ],
      "metadata": {
        "id": "515XHUQM-L8O"
      }
    },
    {
      "cell_type": "markdown",
      "source": [
        "구문오류: 코드의 문법적 잘못에 의해 발생하는 오류\n",
        "\n",
        "런타임오류: 실행 시점에서 발생하는 오류"
      ],
      "metadata": {
        "id": "kO7fRCav-SvO"
      }
    },
    {
      "cell_type": "code",
      "source": [
        "#구문오류\n",
        "print(\"Hello)"
      ],
      "metadata": {
        "colab": {
          "base_uri": "https://localhost:8080/",
          "height": 137
        },
        "id": "fBY-oPR0-Pvn",
        "outputId": "2284f8dc-9e8c-4521-9215-b58e7f62bd07"
      },
      "execution_count": 1,
      "outputs": [
        {
          "output_type": "error",
          "ename": "SyntaxError",
          "evalue": "ignored",
          "traceback": [
            "\u001b[0;36m  File \u001b[0;32m\"<ipython-input-1-d85449db3b6b>\"\u001b[0;36m, line \u001b[0;32m2\u001b[0m\n\u001b[0;31m    print(\"Hello)\u001b[0m\n\u001b[0m                 ^\u001b[0m\n\u001b[0;31mSyntaxError\u001b[0m\u001b[0;31m:\u001b[0m EOL while scanning string literal\n"
          ]
        }
      ]
    },
    {
      "cell_type": "code",
      "source": [
        "num1 = int(input(\"정수:\"))\n",
        "num2 = int(input(\"정수:\"))\n",
        "print(num1/num2)"
      ],
      "metadata": {
        "colab": {
          "base_uri": "https://localhost:8080/"
        },
        "id": "PMgedSwa-VFp",
        "outputId": "71a4fcbc-02e5-4329-d447-f8965a192e22"
      },
      "execution_count": 2,
      "outputs": [
        {
          "output_type": "stream",
          "name": "stdout",
          "text": [
            "정수:3\n",
            "정수:2\n",
            "1.5\n"
          ]
        }
      ]
    },
    {
      "cell_type": "markdown",
      "source": [
        "예외를 확인하여 원하는 형태로 처리하기"
      ],
      "metadata": {
        "id": "ESQRDPiO-XFe"
      }
    },
    {
      "cell_type": "code",
      "source": [
        "num1 = int(input(\"정수:\"))\n",
        "num2 = int(input(\"정수:\"))\n",
        "try:\n",
        "    print(num1/num2)\n",
        "except:\n",
        "    print(\"pass\")\n",
        "else:\n",
        "    print(\"수고하셨습니다\")\n",
        "finally:\n",
        "    print(\"end\")"
      ],
      "metadata": {
        "colab": {
          "base_uri": "https://localhost:8080/"
        },
        "id": "gpWOwhM7-WY-",
        "outputId": "2bc2de17-6fb2-4f99-d2d0-257cf87fd694"
      },
      "execution_count": 3,
      "outputs": [
        {
          "output_type": "stream",
          "name": "stdout",
          "text": [
            "정수:5\n",
            "정수:1\n",
            "5.0\n",
            "수고하셨습니다\n",
            "end\n"
          ]
        }
      ]
    },
    {
      "cell_type": "code",
      "source": [
        "2num1 = int(input(\"정수:\"))\n",
        "num2 = int(input(\"정수:\"))\n",
        "try:\n",
        "    print(num1/num2)\n",
        "except Exception as ex:\n",
        "    print(ex)\n",
        "    print(type(ex))\n",
        "else:\n",
        "    print(\"수고하셨습니다\")"
      ],
      "metadata": {
        "colab": {
          "base_uri": "https://localhost:8080/"
        },
        "id": "u_K03WNC-ZNk",
        "outputId": "e7a9979a-2e60-4f1f-c982-291541a4f460"
      },
      "execution_count": 4,
      "outputs": [
        {
          "output_type": "stream",
          "name": "stdout",
          "text": [
            "정수:4\n",
            "정수:2\n",
            "2.0\n",
            "수고하셨습니다\n"
          ]
        }
      ]
    },
    {
      "cell_type": "markdown",
      "source": [
        "예외 개체 사용"
      ],
      "metadata": {
        "id": "_ptISBnh-b4j"
      }
    },
    {
      "cell_type": "code",
      "source": [
        "try:\n",
        "    num1 = int(input(\"정수:\"))\n",
        "    num2 = int(input(\"정수:\"))\n",
        "    print(num1/num2)\n",
        "    ls = [1, 2, 3]\n",
        "    n = int(input(\"1~3 중에서 고르세요.\"))\n",
        "    print(ls[n-1])\n",
        "\n",
        "except ValueError as ex:\n",
        "    print(\"입력한 값은 문제가 있네요.\", ex)\n",
        "except ZeroDivisionError:\n",
        "    print(\"젯수가 0이네요.\")\n",
        "except Exception:\n",
        "    print(\"어딘가 문제가 있네요.\")\n",
        "else:\n",
        "    print(\"수고하셨습니다\")"
      ],
      "metadata": {
        "colab": {
          "base_uri": "https://localhost:8080/"
        },
        "id": "YpNnD3jc-aY0",
        "outputId": "e1fc25d2-7c00-4069-906c-3a1d2a39ae86"
      },
      "execution_count": 5,
      "outputs": [
        {
          "output_type": "stream",
          "name": "stdout",
          "text": [
            "정수:0\n",
            "정수:0\n",
            "젯수가 0이네요.\n"
          ]
        }
      ]
    },
    {
      "cell_type": "markdown",
      "source": [
        "# 예외를 발생시키기"
      ],
      "metadata": {
        "id": "Fsf_h2_j-dtI"
      }
    },
    {
      "cell_type": "code",
      "source": [
        "def getsum(start, end, step=1):\n",
        "    if start > end:\n",
        "        raise ValueError  #예외 발생시킴\n",
        "    s = 0\n",
        "    for i in range(start, end+1, step):\n",
        "        s += i\n",
        "    return s"
      ],
      "metadata": {
        "id": "0ChMx0p_-fOS"
      },
      "execution_count": 6,
      "outputs": []
    },
    {
      "cell_type": "code",
      "source": [
        "try:\n",
        "    print(getsum(2, 10))\n",
        "    print(getsum(10, 2))\n",
        "except:\n",
        "    print(\"예외 발생\")"
      ],
      "metadata": {
        "colab": {
          "base_uri": "https://localhost:8080/"
        },
        "id": "fgHAt3lD-gM0",
        "outputId": "e17c2f18-984c-40dd-ba05-8d9661679aad"
      },
      "execution_count": 7,
      "outputs": [
        {
          "output_type": "stream",
          "name": "stdout",
          "text": [
            "54\n",
            "예외 발생\n"
          ]
        }
      ]
    },
    {
      "cell_type": "markdown",
      "source": [
        "#파일 처리"
      ],
      "metadata": {
        "id": "uv-KupUz-iLx"
      }
    },
    {
      "cell_type": "code",
      "source": [
        "#기존 파일 내용 읽어오기\n",
        "\n",
        "fp = '/content/drive/MyDrive/Python Files/demo.txt'\n",
        "fs = open(fp,'r')\n",
        "data = fs.read()\n",
        "fs.close()\n",
        "print(data)"
      ],
      "metadata": {
        "id": "sYGW5qU1-xPh"
      },
      "execution_count": null,
      "outputs": []
    },
    {
      "cell_type": "code",
      "source": [
        "#파일 생성하기\n",
        "\n",
        "fp = '/content/drive/MyDrive/Python Files/demo2.txt'\n",
        "fs = open(fp,'w')\n",
        "fs.write(\"Plz\")\n",
        "fs.close()"
      ],
      "metadata": {
        "id": "oojJQFc7-yaa"
      },
      "execution_count": null,
      "outputs": []
    },
    {
      "cell_type": "markdown",
      "source": [
        "#맛보기\n",
        "Mushroom Classification DataSet  \n",
        "csv file 다운 가능  \n",
        "->파일 입출력  \n",
        ".  \n",
        "데이터 분석을 위한 numpy pandas 사용"
      ],
      "metadata": {
        "id": "GDreT49q-0QU"
      }
    },
    {
      "cell_type": "code",
      "source": [
        "import pandas as pd\n",
        "mr= pd.read_csv('/content/drive/MyDrive/mushrooms.csv')\n",
        "mr"
      ],
      "metadata": {
        "colab": {
          "base_uri": "https://localhost:8080/",
          "height": 539
        },
        "id": "4EaU8auu-0z8",
        "outputId": "d0fd2934-3112-4840-bc79-57ecfd4e8814"
      },
      "execution_count": 9,
      "outputs": [
        {
          "output_type": "execute_result",
          "data": {
            "text/html": [
              "\n",
              "  <div id=\"df-6379f171-6ad3-45b0-b476-d360df15dc13\">\n",
              "    <div class=\"colab-df-container\">\n",
              "      <div>\n",
              "<style scoped>\n",
              "    .dataframe tbody tr th:only-of-type {\n",
              "        vertical-align: middle;\n",
              "    }\n",
              "\n",
              "    .dataframe tbody tr th {\n",
              "        vertical-align: top;\n",
              "    }\n",
              "\n",
              "    .dataframe thead th {\n",
              "        text-align: right;\n",
              "    }\n",
              "</style>\n",
              "<table border=\"1\" class=\"dataframe\">\n",
              "  <thead>\n",
              "    <tr style=\"text-align: right;\">\n",
              "      <th></th>\n",
              "      <th>class</th>\n",
              "      <th>cap-shape</th>\n",
              "      <th>cap-surface</th>\n",
              "      <th>cap-color</th>\n",
              "      <th>bruises</th>\n",
              "      <th>odor</th>\n",
              "      <th>gill-attachment</th>\n",
              "      <th>gill-spacing</th>\n",
              "      <th>gill-size</th>\n",
              "      <th>gill-color</th>\n",
              "      <th>stalk-shape</th>\n",
              "      <th>stalk-root</th>\n",
              "      <th>stalk-surface-above-ring</th>\n",
              "      <th>stalk-surface-below-ring</th>\n",
              "      <th>stalk-color-above-ring</th>\n",
              "      <th>stalk-color-below-ring</th>\n",
              "      <th>veil-type</th>\n",
              "      <th>veil-color</th>\n",
              "      <th>ring-number</th>\n",
              "      <th>ring-type</th>\n",
              "      <th>spore-print-color</th>\n",
              "      <th>population</th>\n",
              "      <th>habitat</th>\n",
              "    </tr>\n",
              "  </thead>\n",
              "  <tbody>\n",
              "    <tr>\n",
              "      <th>0</th>\n",
              "      <td>p</td>\n",
              "      <td>x</td>\n",
              "      <td>s</td>\n",
              "      <td>n</td>\n",
              "      <td>t</td>\n",
              "      <td>p</td>\n",
              "      <td>f</td>\n",
              "      <td>c</td>\n",
              "      <td>n</td>\n",
              "      <td>k</td>\n",
              "      <td>e</td>\n",
              "      <td>e</td>\n",
              "      <td>s</td>\n",
              "      <td>s</td>\n",
              "      <td>w</td>\n",
              "      <td>w</td>\n",
              "      <td>p</td>\n",
              "      <td>w</td>\n",
              "      <td>o</td>\n",
              "      <td>p</td>\n",
              "      <td>k</td>\n",
              "      <td>s</td>\n",
              "      <td>u</td>\n",
              "    </tr>\n",
              "    <tr>\n",
              "      <th>1</th>\n",
              "      <td>e</td>\n",
              "      <td>x</td>\n",
              "      <td>s</td>\n",
              "      <td>y</td>\n",
              "      <td>t</td>\n",
              "      <td>a</td>\n",
              "      <td>f</td>\n",
              "      <td>c</td>\n",
              "      <td>b</td>\n",
              "      <td>k</td>\n",
              "      <td>e</td>\n",
              "      <td>c</td>\n",
              "      <td>s</td>\n",
              "      <td>s</td>\n",
              "      <td>w</td>\n",
              "      <td>w</td>\n",
              "      <td>p</td>\n",
              "      <td>w</td>\n",
              "      <td>o</td>\n",
              "      <td>p</td>\n",
              "      <td>n</td>\n",
              "      <td>n</td>\n",
              "      <td>g</td>\n",
              "    </tr>\n",
              "    <tr>\n",
              "      <th>2</th>\n",
              "      <td>e</td>\n",
              "      <td>b</td>\n",
              "      <td>s</td>\n",
              "      <td>w</td>\n",
              "      <td>t</td>\n",
              "      <td>l</td>\n",
              "      <td>f</td>\n",
              "      <td>c</td>\n",
              "      <td>b</td>\n",
              "      <td>n</td>\n",
              "      <td>e</td>\n",
              "      <td>c</td>\n",
              "      <td>s</td>\n",
              "      <td>s</td>\n",
              "      <td>w</td>\n",
              "      <td>w</td>\n",
              "      <td>p</td>\n",
              "      <td>w</td>\n",
              "      <td>o</td>\n",
              "      <td>p</td>\n",
              "      <td>n</td>\n",
              "      <td>n</td>\n",
              "      <td>m</td>\n",
              "    </tr>\n",
              "    <tr>\n",
              "      <th>3</th>\n",
              "      <td>p</td>\n",
              "      <td>x</td>\n",
              "      <td>y</td>\n",
              "      <td>w</td>\n",
              "      <td>t</td>\n",
              "      <td>p</td>\n",
              "      <td>f</td>\n",
              "      <td>c</td>\n",
              "      <td>n</td>\n",
              "      <td>n</td>\n",
              "      <td>e</td>\n",
              "      <td>e</td>\n",
              "      <td>s</td>\n",
              "      <td>s</td>\n",
              "      <td>w</td>\n",
              "      <td>w</td>\n",
              "      <td>p</td>\n",
              "      <td>w</td>\n",
              "      <td>o</td>\n",
              "      <td>p</td>\n",
              "      <td>k</td>\n",
              "      <td>s</td>\n",
              "      <td>u</td>\n",
              "    </tr>\n",
              "    <tr>\n",
              "      <th>4</th>\n",
              "      <td>e</td>\n",
              "      <td>x</td>\n",
              "      <td>s</td>\n",
              "      <td>g</td>\n",
              "      <td>f</td>\n",
              "      <td>n</td>\n",
              "      <td>f</td>\n",
              "      <td>w</td>\n",
              "      <td>b</td>\n",
              "      <td>k</td>\n",
              "      <td>t</td>\n",
              "      <td>e</td>\n",
              "      <td>s</td>\n",
              "      <td>s</td>\n",
              "      <td>w</td>\n",
              "      <td>w</td>\n",
              "      <td>p</td>\n",
              "      <td>w</td>\n",
              "      <td>o</td>\n",
              "      <td>e</td>\n",
              "      <td>n</td>\n",
              "      <td>a</td>\n",
              "      <td>g</td>\n",
              "    </tr>\n",
              "    <tr>\n",
              "      <th>...</th>\n",
              "      <td>...</td>\n",
              "      <td>...</td>\n",
              "      <td>...</td>\n",
              "      <td>...</td>\n",
              "      <td>...</td>\n",
              "      <td>...</td>\n",
              "      <td>...</td>\n",
              "      <td>...</td>\n",
              "      <td>...</td>\n",
              "      <td>...</td>\n",
              "      <td>...</td>\n",
              "      <td>...</td>\n",
              "      <td>...</td>\n",
              "      <td>...</td>\n",
              "      <td>...</td>\n",
              "      <td>...</td>\n",
              "      <td>...</td>\n",
              "      <td>...</td>\n",
              "      <td>...</td>\n",
              "      <td>...</td>\n",
              "      <td>...</td>\n",
              "      <td>...</td>\n",
              "      <td>...</td>\n",
              "    </tr>\n",
              "    <tr>\n",
              "      <th>8119</th>\n",
              "      <td>e</td>\n",
              "      <td>k</td>\n",
              "      <td>s</td>\n",
              "      <td>n</td>\n",
              "      <td>f</td>\n",
              "      <td>n</td>\n",
              "      <td>a</td>\n",
              "      <td>c</td>\n",
              "      <td>b</td>\n",
              "      <td>y</td>\n",
              "      <td>e</td>\n",
              "      <td>?</td>\n",
              "      <td>s</td>\n",
              "      <td>s</td>\n",
              "      <td>o</td>\n",
              "      <td>o</td>\n",
              "      <td>p</td>\n",
              "      <td>o</td>\n",
              "      <td>o</td>\n",
              "      <td>p</td>\n",
              "      <td>b</td>\n",
              "      <td>c</td>\n",
              "      <td>l</td>\n",
              "    </tr>\n",
              "    <tr>\n",
              "      <th>8120</th>\n",
              "      <td>e</td>\n",
              "      <td>x</td>\n",
              "      <td>s</td>\n",
              "      <td>n</td>\n",
              "      <td>f</td>\n",
              "      <td>n</td>\n",
              "      <td>a</td>\n",
              "      <td>c</td>\n",
              "      <td>b</td>\n",
              "      <td>y</td>\n",
              "      <td>e</td>\n",
              "      <td>?</td>\n",
              "      <td>s</td>\n",
              "      <td>s</td>\n",
              "      <td>o</td>\n",
              "      <td>o</td>\n",
              "      <td>p</td>\n",
              "      <td>n</td>\n",
              "      <td>o</td>\n",
              "      <td>p</td>\n",
              "      <td>b</td>\n",
              "      <td>v</td>\n",
              "      <td>l</td>\n",
              "    </tr>\n",
              "    <tr>\n",
              "      <th>8121</th>\n",
              "      <td>e</td>\n",
              "      <td>f</td>\n",
              "      <td>s</td>\n",
              "      <td>n</td>\n",
              "      <td>f</td>\n",
              "      <td>n</td>\n",
              "      <td>a</td>\n",
              "      <td>c</td>\n",
              "      <td>b</td>\n",
              "      <td>n</td>\n",
              "      <td>e</td>\n",
              "      <td>?</td>\n",
              "      <td>s</td>\n",
              "      <td>s</td>\n",
              "      <td>o</td>\n",
              "      <td>o</td>\n",
              "      <td>p</td>\n",
              "      <td>o</td>\n",
              "      <td>o</td>\n",
              "      <td>p</td>\n",
              "      <td>b</td>\n",
              "      <td>c</td>\n",
              "      <td>l</td>\n",
              "    </tr>\n",
              "    <tr>\n",
              "      <th>8122</th>\n",
              "      <td>p</td>\n",
              "      <td>k</td>\n",
              "      <td>y</td>\n",
              "      <td>n</td>\n",
              "      <td>f</td>\n",
              "      <td>y</td>\n",
              "      <td>f</td>\n",
              "      <td>c</td>\n",
              "      <td>n</td>\n",
              "      <td>b</td>\n",
              "      <td>t</td>\n",
              "      <td>?</td>\n",
              "      <td>s</td>\n",
              "      <td>k</td>\n",
              "      <td>w</td>\n",
              "      <td>w</td>\n",
              "      <td>p</td>\n",
              "      <td>w</td>\n",
              "      <td>o</td>\n",
              "      <td>e</td>\n",
              "      <td>w</td>\n",
              "      <td>v</td>\n",
              "      <td>l</td>\n",
              "    </tr>\n",
              "    <tr>\n",
              "      <th>8123</th>\n",
              "      <td>e</td>\n",
              "      <td>x</td>\n",
              "      <td>s</td>\n",
              "      <td>n</td>\n",
              "      <td>f</td>\n",
              "      <td>n</td>\n",
              "      <td>a</td>\n",
              "      <td>c</td>\n",
              "      <td>b</td>\n",
              "      <td>y</td>\n",
              "      <td>e</td>\n",
              "      <td>?</td>\n",
              "      <td>s</td>\n",
              "      <td>s</td>\n",
              "      <td>o</td>\n",
              "      <td>o</td>\n",
              "      <td>p</td>\n",
              "      <td>o</td>\n",
              "      <td>o</td>\n",
              "      <td>p</td>\n",
              "      <td>o</td>\n",
              "      <td>c</td>\n",
              "      <td>l</td>\n",
              "    </tr>\n",
              "  </tbody>\n",
              "</table>\n",
              "<p>8124 rows × 23 columns</p>\n",
              "</div>\n",
              "      <button class=\"colab-df-convert\" onclick=\"convertToInteractive('df-6379f171-6ad3-45b0-b476-d360df15dc13')\"\n",
              "              title=\"Convert this dataframe to an interactive table.\"\n",
              "              style=\"display:none;\">\n",
              "        \n",
              "  <svg xmlns=\"http://www.w3.org/2000/svg\" height=\"24px\"viewBox=\"0 0 24 24\"\n",
              "       width=\"24px\">\n",
              "    <path d=\"M0 0h24v24H0V0z\" fill=\"none\"/>\n",
              "    <path d=\"M18.56 5.44l.94 2.06.94-2.06 2.06-.94-2.06-.94-.94-2.06-.94 2.06-2.06.94zm-11 1L8.5 8.5l.94-2.06 2.06-.94-2.06-.94L8.5 2.5l-.94 2.06-2.06.94zm10 10l.94 2.06.94-2.06 2.06-.94-2.06-.94-.94-2.06-.94 2.06-2.06.94z\"/><path d=\"M17.41 7.96l-1.37-1.37c-.4-.4-.92-.59-1.43-.59-.52 0-1.04.2-1.43.59L10.3 9.45l-7.72 7.72c-.78.78-.78 2.05 0 2.83L4 21.41c.39.39.9.59 1.41.59.51 0 1.02-.2 1.41-.59l7.78-7.78 2.81-2.81c.8-.78.8-2.07 0-2.86zM5.41 20L4 18.59l7.72-7.72 1.47 1.35L5.41 20z\"/>\n",
              "  </svg>\n",
              "      </button>\n",
              "      \n",
              "  <style>\n",
              "    .colab-df-container {\n",
              "      display:flex;\n",
              "      flex-wrap:wrap;\n",
              "      gap: 12px;\n",
              "    }\n",
              "\n",
              "    .colab-df-convert {\n",
              "      background-color: #E8F0FE;\n",
              "      border: none;\n",
              "      border-radius: 50%;\n",
              "      cursor: pointer;\n",
              "      display: none;\n",
              "      fill: #1967D2;\n",
              "      height: 32px;\n",
              "      padding: 0 0 0 0;\n",
              "      width: 32px;\n",
              "    }\n",
              "\n",
              "    .colab-df-convert:hover {\n",
              "      background-color: #E2EBFA;\n",
              "      box-shadow: 0px 1px 2px rgba(60, 64, 67, 0.3), 0px 1px 3px 1px rgba(60, 64, 67, 0.15);\n",
              "      fill: #174EA6;\n",
              "    }\n",
              "\n",
              "    [theme=dark] .colab-df-convert {\n",
              "      background-color: #3B4455;\n",
              "      fill: #D2E3FC;\n",
              "    }\n",
              "\n",
              "    [theme=dark] .colab-df-convert:hover {\n",
              "      background-color: #434B5C;\n",
              "      box-shadow: 0px 1px 3px 1px rgba(0, 0, 0, 0.15);\n",
              "      filter: drop-shadow(0px 1px 2px rgba(0, 0, 0, 0.3));\n",
              "      fill: #FFFFFF;\n",
              "    }\n",
              "  </style>\n",
              "\n",
              "      <script>\n",
              "        const buttonEl =\n",
              "          document.querySelector('#df-6379f171-6ad3-45b0-b476-d360df15dc13 button.colab-df-convert');\n",
              "        buttonEl.style.display =\n",
              "          google.colab.kernel.accessAllowed ? 'block' : 'none';\n",
              "\n",
              "        async function convertToInteractive(key) {\n",
              "          const element = document.querySelector('#df-6379f171-6ad3-45b0-b476-d360df15dc13');\n",
              "          const dataTable =\n",
              "            await google.colab.kernel.invokeFunction('convertToInteractive',\n",
              "                                                     [key], {});\n",
              "          if (!dataTable) return;\n",
              "\n",
              "          const docLinkHtml = 'Like what you see? Visit the ' +\n",
              "            '<a target=\"_blank\" href=https://colab.research.google.com/notebooks/data_table.ipynb>data table notebook</a>'\n",
              "            + ' to learn more about interactive tables.';\n",
              "          element.innerHTML = '';\n",
              "          dataTable['output_type'] = 'display_data';\n",
              "          await google.colab.output.renderOutput(dataTable, element);\n",
              "          const docLink = document.createElement('div');\n",
              "          docLink.innerHTML = docLinkHtml;\n",
              "          element.appendChild(docLink);\n",
              "        }\n",
              "      </script>\n",
              "    </div>\n",
              "  </div>\n",
              "  "
            ],
            "text/plain": [
              "     class cap-shape cap-surface  ... spore-print-color population habitat\n",
              "0        p         x           s  ...                 k          s       u\n",
              "1        e         x           s  ...                 n          n       g\n",
              "2        e         b           s  ...                 n          n       m\n",
              "3        p         x           y  ...                 k          s       u\n",
              "4        e         x           s  ...                 n          a       g\n",
              "...    ...       ...         ...  ...               ...        ...     ...\n",
              "8119     e         k           s  ...                 b          c       l\n",
              "8120     e         x           s  ...                 b          v       l\n",
              "8121     e         f           s  ...                 b          c       l\n",
              "8122     p         k           y  ...                 w          v       l\n",
              "8123     e         x           s  ...                 o          c       l\n",
              "\n",
              "[8124 rows x 23 columns]"
            ]
          },
          "metadata": {},
          "execution_count": 9
        }
      ]
    },
    {
      "cell_type": "code",
      "source": [
        "mcs = mr['class'] #원하는 열의 정보만 출력 가능\n",
        "mcs"
      ],
      "metadata": {
        "colab": {
          "base_uri": "https://localhost:8080/"
        },
        "id": "4qiWnF5M-2nn",
        "outputId": "49c66ff8-cdfc-4ae2-ea86-336c67210818"
      },
      "execution_count": 10,
      "outputs": [
        {
          "output_type": "execute_result",
          "data": {
            "text/plain": [
              "0       p\n",
              "1       e\n",
              "2       e\n",
              "3       p\n",
              "4       e\n",
              "       ..\n",
              "8119    e\n",
              "8120    e\n",
              "8121    e\n",
              "8122    p\n",
              "8123    e\n",
              "Name: class, Length: 8124, dtype: object"
            ]
          },
          "metadata": {},
          "execution_count": 10
        }
      ]
    },
    {
      "cell_type": "code",
      "source": [
        "folder = '/content/drive/MyDrive/' #폴더 경로 저장"
      ],
      "metadata": {
        "id": "iinPhTj4-3BC"
      },
      "execution_count": 11,
      "outputs": []
    },
    {
      "cell_type": "code",
      "source": [
        "members = [\n",
        "           [\"홍길동\",90,85,88],\n",
        "           [\"을지문덕\",80,88,90],\n",
        "           [\"강감찬\",90,95,100]\n",
        "           ]"
      ],
      "metadata": {
        "id": "qAAfPUvH-5Qc"
      },
      "execution_count": 12,
      "outputs": []
    },
    {
      "cell_type": "code",
      "source": [
        "fname = folder+\"mscores.csv\"\n",
        "fname"
      ],
      "metadata": {
        "colab": {
          "base_uri": "https://localhost:8080/",
          "height": 35
        },
        "id": "Mq88mR5G-6Md",
        "outputId": "aba6ef67-9b80-4b41-81bf-6ce151829f4b"
      },
      "execution_count": 13,
      "outputs": [
        {
          "output_type": "execute_result",
          "data": {
            "application/vnd.google.colaboratory.intrinsic+json": {
              "type": "string"
            },
            "text/plain": [
              "'/content/drive/MyDrive/mscores.csv'"
            ]
          },
          "metadata": {},
          "execution_count": 13
        }
      ]
    },
    {
      "cell_type": "code",
      "source": [
        "fs = open(fname,'w') #-> close()를 꼭 해줘야 함\n",
        "for member in members:\n",
        "  fs.write(f\"{member[0]},{member[1]},{member[2]},{member[3]}\\n\")\n",
        "fs.close()\n",
        "#with as 를 사용하면 자동으로 닫아줌\n",
        "\n",
        "# with open(fname,'w') as fs:\n",
        "#   print(\"umm\")\n",
        "\n",
        "#csv파일 생성, 내용 입력 방법1"
      ],
      "metadata": {
        "id": "2ydc_Qxu-69o"
      },
      "execution_count": 19,
      "outputs": []
    },
    {
      "cell_type": "code",
      "source": [
        "#csv파일 생성, 내용 입력 방법2\n",
        "\n",
        "import csv #csv모듈을 이용해서 작성할 수 있음\n",
        "fname2 = folder+\"mscores2.csv\"\n",
        "with open(fname2, 'w', newline='') as csvfile:\n",
        "    sw = csv.writer(csvfile, delimiter=',')\n",
        "    for member in members:\n",
        "      sw.writerow(member)"
      ],
      "metadata": {
        "id": "_B92LOnN-7xz"
      },
      "execution_count": 20,
      "outputs": []
    },
    {
      "cell_type": "code",
      "source": [
        "#비교\n",
        "fs.write(f\"{member[0]},{member[1]},{member[2]},{member[3]}\\n\")\n",
        "sw.writerow(member)\n",
        "#복잡해 보이지만,\n",
        "#데이터에 기록한 코드 자체는 두번째 방법이 훨씬 간단함을 알 수 있다"
      ],
      "metadata": {
        "colab": {
          "base_uri": "https://localhost:8080/",
          "height": 248
        },
        "id": "ztL5aF29-8sE",
        "outputId": "d0689a5f-fcc7-4760-b90b-cace2efb6668"
      },
      "execution_count": 21,
      "outputs": [
        {
          "output_type": "error",
          "ename": "ValueError",
          "evalue": "ignored",
          "traceback": [
            "\u001b[0;31m---------------------------------------------------------------------------\u001b[0m",
            "\u001b[0;31mValueError\u001b[0m                                Traceback (most recent call last)",
            "\u001b[0;32m<ipython-input-21-7150745dfc2a>\u001b[0m in \u001b[0;36m<module>\u001b[0;34m()\u001b[0m\n\u001b[1;32m      1\u001b[0m \u001b[0;31m#비교\u001b[0m\u001b[0;34m\u001b[0m\u001b[0;34m\u001b[0m\u001b[0;34m\u001b[0m\u001b[0m\n\u001b[0;32m----> 2\u001b[0;31m \u001b[0mfs\u001b[0m\u001b[0;34m.\u001b[0m\u001b[0mwrite\u001b[0m\u001b[0;34m(\u001b[0m\u001b[0;34mf\"{member[0]},{member[1]},{member[2]},{member[3]}\\n\"\u001b[0m\u001b[0;34m)\u001b[0m\u001b[0;34m\u001b[0m\u001b[0;34m\u001b[0m\u001b[0m\n\u001b[0m\u001b[1;32m      3\u001b[0m \u001b[0msw\u001b[0m\u001b[0;34m.\u001b[0m\u001b[0mwriterow\u001b[0m\u001b[0;34m(\u001b[0m\u001b[0mmember\u001b[0m\u001b[0;34m)\u001b[0m\u001b[0;34m\u001b[0m\u001b[0;34m\u001b[0m\u001b[0m\n\u001b[1;32m      4\u001b[0m \u001b[0;31m#복잡해 보이지만,\u001b[0m\u001b[0;34m\u001b[0m\u001b[0;34m\u001b[0m\u001b[0;34m\u001b[0m\u001b[0m\n\u001b[1;32m      5\u001b[0m \u001b[0;31m#데이터에 기록한 코드 자체는 두번째 방법이 훨씬 간단함을 알 수 있다\u001b[0m\u001b[0;34m\u001b[0m\u001b[0;34m\u001b[0m\u001b[0;34m\u001b[0m\u001b[0m\n",
            "\u001b[0;31mValueError\u001b[0m: I/O operation on closed file."
          ]
        }
      ]
    },
    {
      "cell_type": "code",
      "source": [
        "#읽어오기\n",
        "\n",
        "fs = open(fname,'r')\n",
        "data = fs.read()\n",
        "fs.close()\n",
        "print(data)"
      ],
      "metadata": {
        "colab": {
          "base_uri": "https://localhost:8080/"
        },
        "id": "So4GHToJ-9kD",
        "outputId": "08205e15-2082-480b-a9ac-52e8ed9677ab"
      },
      "execution_count": 22,
      "outputs": [
        {
          "output_type": "stream",
          "name": "stdout",
          "text": [
            "홍길동,90,85,88\n",
            "을지문덕,80,88,90\n",
            "강감찬,90,95,100\n",
            "\n"
          ]
        }
      ]
    },
    {
      "cell_type": "code",
      "source": [
        "#한 줄씩 읽기\n",
        "\n",
        "fs = open(fname,'r')\n",
        "while True:\n",
        "  record = fs.readline()\n",
        "  if not record: #if record==\"\" 사용 가능\n",
        "    break\n",
        "  record = record.replace(\"\\n\",\"\") #개행문자 지우기\n",
        "  sdata = record.split(',') #,를 기준으로 분리\n",
        "  rs=[]\n",
        "  rs.append(sdata[0]) #이름 추가\n",
        "  for i in range(1,4): #점수 리스트 추가\n",
        "    rs.append(int(sdata[i]))\n",
        "  #print(rs)\n",
        "  members.append(rs)\n",
        "fs.close()\n",
        "print(members)"
      ],
      "metadata": {
        "colab": {
          "base_uri": "https://localhost:8080/"
        },
        "id": "vzPZCK7o--dr",
        "outputId": "23d05189-c55f-4d3a-e7e1-4108441cb11a"
      },
      "execution_count": 23,
      "outputs": [
        {
          "output_type": "stream",
          "name": "stdout",
          "text": [
            "[['홍길동', 90, 85, 88], ['을지문덕', 80, 88, 90], ['강감찬', 90, 95, 100], ['홍길동', 90, 85, 88], ['을지문덕', 80, 88, 90], ['강감찬', 90, 95, 100]]\n"
          ]
        }
      ]
    },
    {
      "cell_type": "code",
      "source": [
        "import csv\n",
        "fs = open(fname,'r', newline='')\n",
        "reader = csv.reader(fs) #reader를 사용해서 읽어오는 방법\n",
        "for row in reader:\n",
        "  rs=[]\n",
        "  rs.append(row[0])\n",
        "  for i in range(1,4):\n",
        "    rs.append(int(row[i]))\n",
        "  members.append(rs)\n",
        "fs.close()\n",
        "print(members)"
      ],
      "metadata": {
        "colab": {
          "base_uri": "https://localhost:8080/"
        },
        "id": "UusWhMl2-_bn",
        "outputId": "0a95d8f3-163e-45a1-f25d-b8873d8fb10b"
      },
      "execution_count": 24,
      "outputs": [
        {
          "output_type": "stream",
          "name": "stdout",
          "text": [
            "[['홍길동', 90, 85, 88], ['을지문덕', 80, 88, 90], ['강감찬', 90, 95, 100], ['홍길동', 90, 85, 88], ['을지문덕', 80, 88, 90], ['강감찬', 90, 95, 100], ['홍길동', 90, 85, 88], ['을지문덕', 80, 88, 90], ['강감찬', 90, 95, 100]]\n"
          ]
        }
      ]
    },
    {
      "cell_type": "code",
      "source": [
        "import pandas as pd\n",
        "members = pd.read_csv(fname,header=None)\n",
        "#members\n",
        "#members.info()\n",
        "members.describe()"
      ],
      "metadata": {
        "colab": {
          "base_uri": "https://localhost:8080/",
          "height": 300
        },
        "id": "dSS7zveV_AOg",
        "outputId": "56962dd7-fab4-42a9-b75b-d14c95a7bf02"
      },
      "execution_count": 25,
      "outputs": [
        {
          "output_type": "execute_result",
          "data": {
            "text/html": [
              "\n",
              "  <div id=\"df-37952073-0b51-4bf0-935c-44581648acf0\">\n",
              "    <div class=\"colab-df-container\">\n",
              "      <div>\n",
              "<style scoped>\n",
              "    .dataframe tbody tr th:only-of-type {\n",
              "        vertical-align: middle;\n",
              "    }\n",
              "\n",
              "    .dataframe tbody tr th {\n",
              "        vertical-align: top;\n",
              "    }\n",
              "\n",
              "    .dataframe thead th {\n",
              "        text-align: right;\n",
              "    }\n",
              "</style>\n",
              "<table border=\"1\" class=\"dataframe\">\n",
              "  <thead>\n",
              "    <tr style=\"text-align: right;\">\n",
              "      <th></th>\n",
              "      <th>1</th>\n",
              "      <th>2</th>\n",
              "      <th>3</th>\n",
              "    </tr>\n",
              "  </thead>\n",
              "  <tbody>\n",
              "    <tr>\n",
              "      <th>count</th>\n",
              "      <td>3.000000</td>\n",
              "      <td>3.000000</td>\n",
              "      <td>3.000000</td>\n",
              "    </tr>\n",
              "    <tr>\n",
              "      <th>mean</th>\n",
              "      <td>86.666667</td>\n",
              "      <td>89.333333</td>\n",
              "      <td>92.666667</td>\n",
              "    </tr>\n",
              "    <tr>\n",
              "      <th>std</th>\n",
              "      <td>5.773503</td>\n",
              "      <td>5.131601</td>\n",
              "      <td>6.429101</td>\n",
              "    </tr>\n",
              "    <tr>\n",
              "      <th>min</th>\n",
              "      <td>80.000000</td>\n",
              "      <td>85.000000</td>\n",
              "      <td>88.000000</td>\n",
              "    </tr>\n",
              "    <tr>\n",
              "      <th>25%</th>\n",
              "      <td>85.000000</td>\n",
              "      <td>86.500000</td>\n",
              "      <td>89.000000</td>\n",
              "    </tr>\n",
              "    <tr>\n",
              "      <th>50%</th>\n",
              "      <td>90.000000</td>\n",
              "      <td>88.000000</td>\n",
              "      <td>90.000000</td>\n",
              "    </tr>\n",
              "    <tr>\n",
              "      <th>75%</th>\n",
              "      <td>90.000000</td>\n",
              "      <td>91.500000</td>\n",
              "      <td>95.000000</td>\n",
              "    </tr>\n",
              "    <tr>\n",
              "      <th>max</th>\n",
              "      <td>90.000000</td>\n",
              "      <td>95.000000</td>\n",
              "      <td>100.000000</td>\n",
              "    </tr>\n",
              "  </tbody>\n",
              "</table>\n",
              "</div>\n",
              "      <button class=\"colab-df-convert\" onclick=\"convertToInteractive('df-37952073-0b51-4bf0-935c-44581648acf0')\"\n",
              "              title=\"Convert this dataframe to an interactive table.\"\n",
              "              style=\"display:none;\">\n",
              "        \n",
              "  <svg xmlns=\"http://www.w3.org/2000/svg\" height=\"24px\"viewBox=\"0 0 24 24\"\n",
              "       width=\"24px\">\n",
              "    <path d=\"M0 0h24v24H0V0z\" fill=\"none\"/>\n",
              "    <path d=\"M18.56 5.44l.94 2.06.94-2.06 2.06-.94-2.06-.94-.94-2.06-.94 2.06-2.06.94zm-11 1L8.5 8.5l.94-2.06 2.06-.94-2.06-.94L8.5 2.5l-.94 2.06-2.06.94zm10 10l.94 2.06.94-2.06 2.06-.94-2.06-.94-.94-2.06-.94 2.06-2.06.94z\"/><path d=\"M17.41 7.96l-1.37-1.37c-.4-.4-.92-.59-1.43-.59-.52 0-1.04.2-1.43.59L10.3 9.45l-7.72 7.72c-.78.78-.78 2.05 0 2.83L4 21.41c.39.39.9.59 1.41.59.51 0 1.02-.2 1.41-.59l7.78-7.78 2.81-2.81c.8-.78.8-2.07 0-2.86zM5.41 20L4 18.59l7.72-7.72 1.47 1.35L5.41 20z\"/>\n",
              "  </svg>\n",
              "      </button>\n",
              "      \n",
              "  <style>\n",
              "    .colab-df-container {\n",
              "      display:flex;\n",
              "      flex-wrap:wrap;\n",
              "      gap: 12px;\n",
              "    }\n",
              "\n",
              "    .colab-df-convert {\n",
              "      background-color: #E8F0FE;\n",
              "      border: none;\n",
              "      border-radius: 50%;\n",
              "      cursor: pointer;\n",
              "      display: none;\n",
              "      fill: #1967D2;\n",
              "      height: 32px;\n",
              "      padding: 0 0 0 0;\n",
              "      width: 32px;\n",
              "    }\n",
              "\n",
              "    .colab-df-convert:hover {\n",
              "      background-color: #E2EBFA;\n",
              "      box-shadow: 0px 1px 2px rgba(60, 64, 67, 0.3), 0px 1px 3px 1px rgba(60, 64, 67, 0.15);\n",
              "      fill: #174EA6;\n",
              "    }\n",
              "\n",
              "    [theme=dark] .colab-df-convert {\n",
              "      background-color: #3B4455;\n",
              "      fill: #D2E3FC;\n",
              "    }\n",
              "\n",
              "    [theme=dark] .colab-df-convert:hover {\n",
              "      background-color: #434B5C;\n",
              "      box-shadow: 0px 1px 3px 1px rgba(0, 0, 0, 0.15);\n",
              "      filter: drop-shadow(0px 1px 2px rgba(0, 0, 0, 0.3));\n",
              "      fill: #FFFFFF;\n",
              "    }\n",
              "  </style>\n",
              "\n",
              "      <script>\n",
              "        const buttonEl =\n",
              "          document.querySelector('#df-37952073-0b51-4bf0-935c-44581648acf0 button.colab-df-convert');\n",
              "        buttonEl.style.display =\n",
              "          google.colab.kernel.accessAllowed ? 'block' : 'none';\n",
              "\n",
              "        async function convertToInteractive(key) {\n",
              "          const element = document.querySelector('#df-37952073-0b51-4bf0-935c-44581648acf0');\n",
              "          const dataTable =\n",
              "            await google.colab.kernel.invokeFunction('convertToInteractive',\n",
              "                                                     [key], {});\n",
              "          if (!dataTable) return;\n",
              "\n",
              "          const docLinkHtml = 'Like what you see? Visit the ' +\n",
              "            '<a target=\"_blank\" href=https://colab.research.google.com/notebooks/data_table.ipynb>data table notebook</a>'\n",
              "            + ' to learn more about interactive tables.';\n",
              "          element.innerHTML = '';\n",
              "          dataTable['output_type'] = 'display_data';\n",
              "          await google.colab.output.renderOutput(dataTable, element);\n",
              "          const docLink = document.createElement('div');\n",
              "          docLink.innerHTML = docLinkHtml;\n",
              "          element.appendChild(docLink);\n",
              "        }\n",
              "      </script>\n",
              "    </div>\n",
              "  </div>\n",
              "  "
            ],
            "text/plain": [
              "               1          2           3\n",
              "count   3.000000   3.000000    3.000000\n",
              "mean   86.666667  89.333333   92.666667\n",
              "std     5.773503   5.131601    6.429101\n",
              "min    80.000000  85.000000   88.000000\n",
              "25%    85.000000  86.500000   89.000000\n",
              "50%    90.000000  88.000000   90.000000\n",
              "75%    90.000000  91.500000   95.000000\n",
              "max    90.000000  95.000000  100.000000"
            ]
          },
          "metadata": {},
          "execution_count": 25
        }
      ]
    },
    {
      "cell_type": "markdown",
      "source": [
        "#함수 고급"
      ],
      "metadata": {
        "id": "MuSu6ujd_LH1"
      }
    },
    {
      "cell_type": "markdown",
      "source": [
        "#튜플\n",
        "\n",
        "여러 개의 요소로 구성한 컬렉션  \n",
        "요소의 값을 변경할 수 없다."
      ],
      "metadata": {
        "id": "jpiTxLQ3_N9p"
      }
    },
    {
      "cell_type": "code",
      "source": [
        "t1 = (1,2,3)\n",
        "print(type(t1))"
      ],
      "metadata": {
        "colab": {
          "base_uri": "https://localhost:8080/"
        },
        "id": "romHpJpt_MO_",
        "outputId": "b822512c-1a88-4778-c707-9808ff091581"
      },
      "execution_count": 26,
      "outputs": [
        {
          "output_type": "stream",
          "name": "stdout",
          "text": [
            "<class 'tuple'>\n"
          ]
        }
      ]
    },
    {
      "cell_type": "code",
      "source": [
        "print(t1[0]) #인덱스 접근 가능"
      ],
      "metadata": {
        "colab": {
          "base_uri": "https://localhost:8080/"
        },
        "id": "NXesp5xR_PyF",
        "outputId": "cf227c08-00bc-459d-9249-ff36c614865e"
      },
      "execution_count": 27,
      "outputs": [
        {
          "output_type": "stream",
          "name": "stdout",
          "text": [
            "1\n"
          ]
        }
      ]
    },
    {
      "cell_type": "code",
      "source": [
        "a,b = (2,3)\n",
        "print(a,b)"
      ],
      "metadata": {
        "colab": {
          "base_uri": "https://localhost:8080/"
        },
        "id": "xC-Gr7nb_Qpo",
        "outputId": "ac078e45-e252-4428-a132-624b733b169a"
      },
      "execution_count": 28,
      "outputs": [
        {
          "output_type": "stream",
          "name": "stdout",
          "text": [
            "2 3\n"
          ]
        }
      ]
    },
    {
      "cell_type": "code",
      "source": [
        "t = 1,2,3,4 #굳이 소괄호를 추가하지 않아도 튜플로 인식한다\n",
        "print(type(t))"
      ],
      "metadata": {
        "colab": {
          "base_uri": "https://localhost:8080/"
        },
        "id": "a_eqnTL-_SL-",
        "outputId": "edb11d1e-70df-4566-fdf6-b77e1555f3f2"
      },
      "execution_count": 29,
      "outputs": [
        {
          "output_type": "stream",
          "name": "stdout",
          "text": [
            "<class 'tuple'>\n"
          ]
        }
      ]
    },
    {
      "cell_type": "code",
      "source": [
        "a,b,c = 1,2,3 #1,2,3은 튜플이 맞지만 원소 하나를 출력하면 int값\n",
        "print(type(a))"
      ],
      "metadata": {
        "colab": {
          "base_uri": "https://localhost:8080/"
        },
        "id": "KMa-4v1h_TA4",
        "outputId": "59ab2822-a92f-4750-ccea-84f0bd792de0"
      },
      "execution_count": 30,
      "outputs": [
        {
          "output_type": "stream",
          "name": "stdout",
          "text": [
            "<class 'int'>\n"
          ]
        }
      ]
    },
    {
      "cell_type": "code",
      "source": [
        "#t1[0] = 7\n",
        "#'tuple' object does not support item assignment"
      ],
      "metadata": {
        "id": "oq1Zhcbc_T3t"
      },
      "execution_count": 31,
      "outputs": []
    },
    {
      "cell_type": "code",
      "source": [
        "def get_sum_average(numbers):\n",
        "  s=0\n",
        "  for number in numbers:\n",
        "    s += number\n",
        "  return s, s/len(numbers)"
      ],
      "metadata": {
        "id": "dV_n4sIz_UoH"
      },
      "execution_count": 32,
      "outputs": []
    },
    {
      "cell_type": "code",
      "source": [
        "s,aver = get_sum_average([1,2,3,54,5,6])\n",
        "print(f\"합계:{s} 평균:{aver:.2f}\") #여러개 값을 반환하여 출력할 수 있다"
      ],
      "metadata": {
        "colab": {
          "base_uri": "https://localhost:8080/"
        },
        "id": "LxPkPBbN_VWV",
        "outputId": "155b3c90-4edf-4725-a9d3-ecb9caaf6d15"
      },
      "execution_count": 33,
      "outputs": [
        {
          "output_type": "stream",
          "name": "stdout",
          "text": [
            "합계:71 평균:11.83\n"
          ]
        }
      ]
    },
    {
      "cell_type": "code",
      "source": [
        "re = get_sum_average([1,2,3,54,5,6])\n",
        "print(re)"
      ],
      "metadata": {
        "colab": {
          "base_uri": "https://localhost:8080/"
        },
        "id": "DkqLw9Y-_WPM",
        "outputId": "6f311f9a-1ce6-45c7-9ee9-6ecca5eef74d"
      },
      "execution_count": 34,
      "outputs": [
        {
          "output_type": "stream",
          "name": "stdout",
          "text": [
            "(71, 11.833333333333334)\n"
          ]
        }
      ]
    },
    {
      "cell_type": "markdown",
      "source": [
        "#람다"
      ],
      "metadata": {
        "id": "IxU1x10r_Xfi"
      }
    },
    {
      "cell_type": "code",
      "source": [
        "def square(x):\n",
        "  return x*x"
      ],
      "metadata": {
        "id": "XE2QJCyP_X3J"
      },
      "execution_count": 35,
      "outputs": []
    },
    {
      "cell_type": "code",
      "source": [
        "sq = lambda x:x*x #람다식을 변수에 전달 가능"
      ],
      "metadata": {
        "id": "_ueSz0z0_Yvb"
      },
      "execution_count": 36,
      "outputs": []
    },
    {
      "cell_type": "code",
      "source": [
        "def foo(x):\n",
        "  print(f\"foo({x})\")\n",
        "  return 2*x"
      ],
      "metadata": {
        "id": "OlX3vTNL_ZkE"
      },
      "execution_count": 37,
      "outputs": []
    },
    {
      "cell_type": "code",
      "source": [
        "#map(함수, 리스트)\n",
        "#: 리스트의 요소를 함수에 넣고 리턴된 값으로 새로운 리스트를 구성해주는 함수\n",
        "\n",
        "re = map(foo,[1,2,3,4]) #각 원소 순서대로 -> 함수 실행 -> 리턴한 값이 반환된다\n",
        "for e in re:\n",
        "  print(e)"
      ],
      "metadata": {
        "colab": {
          "base_uri": "https://localhost:8080/"
        },
        "id": "38_-5DEr_aa3",
        "outputId": "6c299370-10a9-4887-84bd-61861a8275e7"
      },
      "execution_count": 38,
      "outputs": [
        {
          "output_type": "stream",
          "name": "stdout",
          "text": [
            "foo(1)\n",
            "2\n",
            "foo(2)\n",
            "4\n",
            "foo(3)\n",
            "6\n",
            "foo(4)\n",
            "8\n"
          ]
        }
      ]
    },
    {
      "cell_type": "code",
      "source": [
        "re = map(sq,[1,2,3,4]) #함수명, 호출 가능한 코드면 모두 가능 -> 람다식도 가능\n",
        "for e in re:\n",
        "  print(e)"
      ],
      "metadata": {
        "colab": {
          "base_uri": "https://localhost:8080/"
        },
        "id": "BzKeOJHQ_bzf",
        "outputId": "0f8b1286-ca50-416a-a734-b3bd9c51292f"
      },
      "execution_count": 39,
      "outputs": [
        {
          "output_type": "stream",
          "name": "stdout",
          "text": [
            "1\n",
            "4\n",
            "9\n",
            "16\n"
          ]
        }
      ]
    },
    {
      "cell_type": "code",
      "source": [
        "re = map(lambda x:x+2,[1,2,3,4])\n",
        "for e in re:\n",
        "  print(e)"
      ],
      "metadata": {
        "colab": {
          "base_uri": "https://localhost:8080/"
        },
        "id": "JSkXMRCR_buT",
        "outputId": "85050516-9949-4e0d-a109-827d05bbd112"
      },
      "execution_count": 40,
      "outputs": [
        {
          "output_type": "stream",
          "name": "stdout",
          "text": [
            "3\n",
            "4\n",
            "5\n",
            "6\n"
          ]
        }
      ]
    },
    {
      "cell_type": "code",
      "source": [
        "#filter(함수, 리스트)\n",
        "#: 리스트의 요소를 함수에 넣고 리턴된 값이 True인 것으로 새로운 리스트를 구성해주는 함수\n",
        "\n",
        "def is_odd(x):\n",
        "  return x%2==1"
      ],
      "metadata": {
        "id": "cg9Le9tQ_dJ9"
      },
      "execution_count": 41,
      "outputs": []
    },
    {
      "cell_type": "code",
      "source": [
        "re = filter(is_odd,[1,2,3,4,5,6,7,8,10,23,4,23,11])\n",
        "for e in re:\n",
        "  print(e) #참인 값=홀수 만 리스트에 남는다"
      ],
      "metadata": {
        "colab": {
          "base_uri": "https://localhost:8080/"
        },
        "id": "yDCGEwZo_d6r",
        "outputId": "6bf51390-d2bd-40cc-c4b5-7d176276f2c6"
      },
      "execution_count": 42,
      "outputs": [
        {
          "output_type": "stream",
          "name": "stdout",
          "text": [
            "1\n",
            "3\n",
            "5\n",
            "7\n",
            "23\n",
            "23\n",
            "11\n"
          ]
        }
      ]
    },
    {
      "cell_type": "code",
      "source": [
        "re = filter(lambda x:x%2==1,[1,2,3,4,5,6,7,8,10,23,4,23,11]) #람다식도 가능\n",
        "for e in re:\n",
        "  print(e)"
      ],
      "metadata": {
        "colab": {
          "base_uri": "https://localhost:8080/"
        },
        "id": "8RB8qBi2_fQY",
        "outputId": "53c81c93-2c0d-4dc2-824a-bd587a08f75a"
      },
      "execution_count": 43,
      "outputs": [
        {
          "output_type": "stream",
          "name": "stdout",
          "text": [
            "1\n",
            "3\n",
            "5\n",
            "7\n",
            "23\n",
            "23\n",
            "11\n"
          ]
        }
      ]
    },
    {
      "cell_type": "markdown",
      "source": [
        "#함수 실습"
      ],
      "metadata": {
        "id": "4YPCM-XAAI3r"
      }
    },
    {
      "cell_type": "markdown",
      "source": [
        "##회원 관리 프로그램을 작성하시오.\n",
        "\n",
        "프로그램은 메뉴 선택에 의해 동작하는 콘솔 응용입니다.\n",
        "\n",
        "1: 회원 데이터 추가\n",
        "\n",
        "2: 회원 데이터 삭제\n",
        "\n",
        "3: 회원 데이터 검색\n",
        "\n",
        "4: 전체 회원 데이터 정보 출력\n",
        "\n",
        "0: 프로그램 종료\n"
      ],
      "metadata": {
        "id": "9514f3mKALv1"
      }
    },
    {
      "cell_type": "markdown",
      "source": [
        "회원 관리 프로그램을 작성하시오.\n",
        "\n",
        "프로그램은 메뉴 선택에 의해 동작하는 콘솔 응용입니다.\n",
        "\n",
        "###1: 회원 데이터 추가  \n",
        "   회원 아이디를 입력받는다.  \n",
        "   이미 존재하면 기능 종료  \n",
        "   이름, 이메일, 나이, 키를 입력받는다.  \n",
        "\n",
        "###2: 회원 데이터 삭제  \n",
        "   회원 아이디를 입력받는다.  \n",
        "   아이디가 존재하지 않으면 없다고 출력하고 기능 종료  \n",
        "   존재하면 삭제하고 삭제하였다고 출력  \n",
        "\n",
        "###3: 회원 데이터 검색  \n",
        "   회원 아이디를 입력받는다.  \n",
        "   아이디가 존재하지 않으면 없다고 출력하고 기능 종료  \n",
        "   존재하면 회원 정보 출력  \n",
        "\n",
        "###4: 전체 회원 데이터 정보 출력  \n",
        "   아이디 순으로 전체 회원 정보 출력  \n",
        "\n",
        "###0: 프로그램 종료  \n",
        "\n",
        "프로그램 종료 시 회원 정보를 members.csv파일로 기록  \n",
        "프로그램 시작 시 members.csv 파일에 정보를 로딩  \n"
      ],
      "metadata": {
        "id": "4qMR0r5bAOEU"
      }
    },
    {
      "cell_type": "code",
      "source": [
        "members={}\n",
        "def load(fname):\n",
        "  try:\n",
        "    fs = open(fname,'r')\n",
        "  except:\n",
        "    print(\"처음 사용하시는군요. Welcome~\")\n",
        "    return\n",
        "  all = fs.read()\n",
        "  fs.close()\n",
        "  k_datas = all.split('\\n')\n",
        "  for i in range(1,len(k_datas)):\n",
        "    k_data = k_datas[i]\n",
        "    kds = k_data.split(',')\n",
        "\n",
        "    if(len(kds)!=5):\n",
        "      break\n",
        "    data=[]\n",
        "    for i in range(1,5):\n",
        "      data.append(kds[i])\n",
        "    members[kds[0]] = data"
      ],
      "metadata": {
        "id": "WLKrbpDYAKI2"
      },
      "execution_count": 44,
      "outputs": []
    },
    {
      "cell_type": "code",
      "source": [
        "members={}\n",
        "def load(fname):\n",
        "  try:\n",
        "    fs = open(fname,'r')\n",
        "  except:\n",
        "    print(\"처음 사용하시는군요. Welcome~\")\n",
        "    return\n",
        "  all = fs.read()\n",
        "  fs.close()\n",
        "  k_datas = all.split('\\n')\n",
        "  for i in range(1,len(k_datas)):\n",
        "    k_data = k_datas[i]\n",
        "    kds = k_data.split(',')\n",
        "\n",
        "    if(len(kds)!=5):\n",
        "      break\n",
        "    data=[]\n",
        "    for i in range(1,5):\n",
        "      data.append(kds[i])\n",
        "    members[kds[0]] = data"
      ],
      "metadata": {
        "id": "-b-uD-KYARhy"
      },
      "execution_count": 45,
      "outputs": []
    },
    {
      "cell_type": "code",
      "source": [
        "def add_member():\n",
        "  id = input(\"추가할 회원 아이디: \") #회원 아이디 입력\n",
        "  if id in members: #이미 존재 시, 기능 종료\n",
        "    print(\"이미 존재하는 아이디입니다.\")\n",
        "    return #기능 종료\n",
        "  data = [] #이름, 이메일, 나이, 키를 입력받기\n",
        "  data.append(input(\"이름: \"))\n",
        "  data.append(input(\"이메일: \"))\n",
        "  try:\n",
        "    data.append(int(input(\"나이: \")))\n",
        "  except:\n",
        "    print(\"잘못 입력하여 나이를 0으로 설정합니다.\")\n",
        "    data.append(0)\n",
        "  try:\n",
        "    data.append(float(input(\"키: \")))\n",
        "  except:\n",
        "    print(\"잘못 입력하여 나이를 0으로 설정합니다.\")\n",
        "    data.append(0)\n",
        "  members[id] = data"
      ],
      "metadata": {
        "id": "AZG1bZPMASqL"
      },
      "execution_count": 46,
      "outputs": []
    },
    {
      "cell_type": "code",
      "source": [
        "def remove_member():\n",
        "  id = input(\"삭제할 회원 아이디: \") #회원 아이디 입력\n",
        "  if id not in members: #존재하지 않으면, 기능 종료\n",
        "    print(\"존재하지 않는 아이디입니다.\")\n",
        "    return #기능 종료\n",
        "  del members[id]\n",
        "  print(\"삭제 완료!\")"
      ],
      "metadata": {
        "id": "F9YxCzWMATc1"
      },
      "execution_count": 47,
      "outputs": []
    },
    {
      "cell_type": "code",
      "source": [
        "def find_member():\n",
        "  id = input(\"검색할 회원 아이디: \") #회원 아이디 입력\n",
        "  if id not in members: #존재하지 않으면, 기능 종료\n",
        "    print(\"존재하지 않는 아이디입니다.\")\n",
        "    return #기능 종료\n",
        "  print(members[id])"
      ],
      "metadata": {
        "id": "p_E1y8onAUHM"
      },
      "execution_count": 48,
      "outputs": []
    },
    {
      "cell_type": "code",
      "source": [
        "def view_members():\n",
        "  print(members)"
      ],
      "metadata": {
        "id": "swqgEjILAU4Z"
      },
      "execution_count": 49,
      "outputs": []
    },
    {
      "cell_type": "code",
      "source": [
        "def select_menu():\n",
        "  print(\"--회원 관리 프로그램--\")\n",
        "  print(\"1번. 회원 데이터 추가\")\n",
        "  print(\"2번. 회원 데이터 삭제\")\n",
        "  print(\"3번. 회원 데이터 검색\")\n",
        "  print(\"4번. 전체 회원 데이터 보기\")\n",
        "  print(\"0번. 프로그램 종료\")\n",
        "  try: #예외처리\n",
        "    key = int(input(\"선택: \"))\n",
        "  except:\n",
        "    key = 5\n",
        "  return key"
      ],
      "metadata": {
        "id": "4DSq5HW2AVqT"
      },
      "execution_count": 50,
      "outputs": []
    },
    {
      "cell_type": "code",
      "source": [
        "fname='/content/drive/MyDrive/members.csv'\n",
        "load(fname)\n",
        "\n",
        "while True:\n",
        "  key = select_menu()\n",
        "  if key == 0:\n",
        "    print(\"프로그램을 종료합니다.\")\n",
        "    break\n",
        "  if key == 1:\n",
        "    add_member()\n",
        "  elif key == 2:\n",
        "    remove_member()\n",
        "  elif key == 3:\n",
        "    find_member()\n",
        "  elif key == 4:\n",
        "    view_members()\n",
        "  else:\n",
        "    print(\"잘못 선택하였습니다.\")\n",
        "save(fname)"
      ],
      "metadata": {
        "colab": {
          "base_uri": "https://localhost:8080/",
          "height": 357
        },
        "id": "CzFoYRXMAWxb",
        "outputId": "879ae2c6-164e-497c-80d2-242c04b43eea"
      },
      "execution_count": 52,
      "outputs": [
        {
          "output_type": "stream",
          "name": "stdout",
          "text": [
            "--회원 관리 프로그램--\n",
            "1번. 회원 데이터 추가\n",
            "2번. 회원 데이터 삭제\n",
            "3번. 회원 데이터 검색\n",
            "4번. 전체 회원 데이터 보기\n",
            "0번. 프로그램 종료\n",
            "선택: 0\n",
            "프로그램을 종료합니다.\n"
          ]
        },
        {
          "output_type": "error",
          "ename": "NameError",
          "evalue": "ignored",
          "traceback": [
            "\u001b[0;31m---------------------------------------------------------------------------\u001b[0m",
            "\u001b[0;31mNameError\u001b[0m                                 Traceback (most recent call last)",
            "\u001b[0;32m<ipython-input-52-67d9717c0342>\u001b[0m in \u001b[0;36m<module>\u001b[0;34m()\u001b[0m\n\u001b[1;32m     17\u001b[0m   \u001b[0;32melse\u001b[0m\u001b[0;34m:\u001b[0m\u001b[0;34m\u001b[0m\u001b[0;34m\u001b[0m\u001b[0m\n\u001b[1;32m     18\u001b[0m     \u001b[0mprint\u001b[0m\u001b[0;34m(\u001b[0m\u001b[0;34m\"잘못 선택하였습니다.\"\u001b[0m\u001b[0;34m)\u001b[0m\u001b[0;34m\u001b[0m\u001b[0;34m\u001b[0m\u001b[0m\n\u001b[0;32m---> 19\u001b[0;31m \u001b[0msave\u001b[0m\u001b[0;34m(\u001b[0m\u001b[0mfname\u001b[0m\u001b[0;34m)\u001b[0m\u001b[0;34m\u001b[0m\u001b[0;34m\u001b[0m\u001b[0m\n\u001b[0m",
            "\u001b[0;31mNameError\u001b[0m: name 'save' is not defined"
          ]
        }
      ]
    }
  ]
}