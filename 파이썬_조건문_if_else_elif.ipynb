{
  "nbformat": 4,
  "nbformat_minor": 0,
  "metadata": {
    "colab": {
      "name": "파이썬 조건문-if else elif.ipynb",
      "provenance": [],
      "collapsed_sections": [],
      "authorship_tag": "ABX9TyMtyaKqs6/dc2QFbBM4cwyo",
      "include_colab_link": true
    },
    "kernelspec": {
      "name": "python3",
      "display_name": "Python 3"
    },
    "language_info": {
      "name": "python"
    }
  },
  "cells": [
    {
      "cell_type": "markdown",
      "metadata": {
        "id": "view-in-github",
        "colab_type": "text"
      },
      "source": [
        "<a href=\"https://colab.research.google.com/github/yseoyoung/python/blob/main/%ED%8C%8C%EC%9D%B4%EC%8D%AC_%EC%A1%B0%EA%B1%B4%EB%AC%B8_if_else_elif.ipynb\" target=\"_parent\"><img src=\"https://colab.research.google.com/assets/colab-badge.svg\" alt=\"Open In Colab\"/></a>"
      ]
    },
    {
      "cell_type": "markdown",
      "source": [
        "#if else\n",
        "\n",
        "if 조건:\n",
        "\n",
        "...조건이 참일 때 수행할 구문\n",
        "\n",
        "else:\n",
        "\n",
        "...조건이 거짓일 때 수행할 구문"
      ],
      "metadata": {
        "id": "EMSD2nVptMkj"
      }
    },
    {
      "cell_type": "code",
      "execution_count": null,
      "metadata": {
        "colab": {
          "base_uri": "https://localhost:8080/"
        },
        "id": "HEWwKt-ktIkG",
        "outputId": "fcb62cf9-356e-4fde-a0ce-c6bb50120883"
      },
      "outputs": [
        {
          "output_type": "stream",
          "name": "stdout",
          "text": [
            "정수:44\n",
            "짝수\n",
            "...\n"
          ]
        }
      ],
      "source": [
        "num = int(input(\"정수:\"))\n",
        "if num%2==0:\n",
        "  print(\"짝수\")\n",
        "else:\n",
        "  print(\"홀수\")\n",
        "print(\"...\")"
      ]
    },
    {
      "cell_type": "markdown",
      "source": [
        "# if elif else\n",
        "if 조건1:\n",
        "\n",
        "...조건1이 참일 때 수행할 구문\n",
        "\n",
        "elif 조건2:\n",
        "\n",
        "...조건2가 참일 때 수행할 구문\n",
        "\n",
        "\n",
        "\n",
        "\n",
        "\n",
        "else:\n",
        "\n",
        "...모든 조건이 거짓일 때 수행할 구문"
      ],
      "metadata": {
        "id": "QZ52VqJAtaWn"
      }
    },
    {
      "cell_type": "code",
      "source": [
        "score = int(input(\"국어점수:\"))\n",
        "if score>=90:\n",
        "  print(\"A\")\n",
        "elif score>=80:\n",
        "  print(\"B\")\n",
        "elif score>=70:\n",
        "  print(\"C\")\n",
        "elif score>=60:\n",
        " print(\"D\")\n",
        "else:\n",
        "  print(\"F\")\n",
        "print(\"....\")"
      ],
      "metadata": {
        "colab": {
          "base_uri": "https://localhost:8080/"
        },
        "id": "0Da11O-Hyhld",
        "outputId": "511ac4c0-78aa-4c64-8830-dff2d195467d"
      },
      "execution_count": null,
      "outputs": [
        {
          "output_type": "stream",
          "name": "stdout",
          "text": [
            "국어점수:99\n",
            "A\n",
            "....\n"
          ]
        }
      ]
    },
    {
      "cell_type": "code",
      "source": [
        "print(\"Hello! \"*3)"
      ],
      "metadata": {
        "colab": {
          "base_uri": "https://localhost:8080/"
        },
        "id": "-yWNbzHRyGWV",
        "outputId": "fc2bf51d-d1f2-4800-9ea6-1504f5c61cfe"
      },
      "execution_count": null,
      "outputs": [
        {
          "output_type": "stream",
          "name": "stdout",
          "text": [
            "Hello Hello Hello \n"
          ]
        }
      ]
    },
    {
      "cell_type": "code",
      "source": [
        "print(\"a\".isidentifier())\n",
        "print(\"hello\".isidentifier())\n",
        "print(\"$hello\".isidentifier())\n",
        "print(\"10_hello\".isidentifier())\n",
        "print(\"bye\".isidentifier())"
      ],
      "metadata": {
        "colab": {
          "base_uri": "https://localhost:8080/"
        },
        "id": "Em4CEp04yRAg",
        "outputId": "14e12da8-f1bf-4f5a-bfa2-e4a9137fd90f"
      },
      "execution_count": null,
      "outputs": [
        {
          "output_type": "stream",
          "name": "stdout",
          "text": [
            "True\n",
            "True\n",
            "False\n",
            "False\n",
            "True\n"
          ]
        }
      ]
    }
  ]
}