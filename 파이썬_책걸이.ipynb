{
  "nbformat": 4,
  "nbformat_minor": 0,
  "metadata": {
    "colab": {
      "name": "파이썬 - 책걸이.ipynb",
      "provenance": [],
      "collapsed_sections": [],
      "mount_file_id": "1N_F_XvGt93V4J2dpLVX-D2SU0gE98_ll",
      "authorship_tag": "ABX9TyPfXA0sOLKd8JRhc+OUx7BR",
      "include_colab_link": true
    },
    "kernelspec": {
      "name": "python3",
      "display_name": "Python 3"
    },
    "language_info": {
      "name": "python"
    }
  },
  "cells": [
    {
      "cell_type": "markdown",
      "metadata": {
        "id": "view-in-github",
        "colab_type": "text"
      },
      "source": [
        "<a href=\"https://colab.research.google.com/github/yseoyoung/python/blob/main/%ED%8C%8C%EC%9D%B4%EC%8D%AC_%EC%B1%85%EA%B1%B8%EC%9D%B4.ipynb\" target=\"_parent\"><img src=\"https://colab.research.google.com/assets/colab-badge.svg\" alt=\"Open In Colab\"/></a>"
      ]
    },
    {
      "cell_type": "code",
      "execution_count": null,
      "metadata": {
        "colab": {
          "base_uri": "https://localhost:8080/",
          "height": 54
        },
        "id": "KI4iHOxYwT1v",
        "outputId": "3f8a3e2d-8034-4459-d6d0-ad565b3ad64d"
      },
      "outputs": [
        {
          "output_type": "execute_result",
          "data": {
            "application/vnd.google.colaboratory.intrinsic+json": {
              "type": "string"
            },
            "text/plain": [
              "'http://api.odcloud.kr/api/15098910/v1/uddi:a5ff8a87-db3e-4317-bc95-9283aa1dd4a2?page=1&perPage=10&returnType=JSON&serviceKey=qC%2BXu3jXPc5Z1Car8YEhY8e3ZMPvegAeIyDrwcDtasih7l7ZWor3gcvWaJyM7b6RZL9YdhVVSYNYtWW3P7Wz%2Fw%3D%3D'"
            ]
          },
          "metadata": {},
          "execution_count": 4
        }
      ],
      "source": [
        "url = 'http://api.odcloud.kr/api/15098910/v1/uddi:a5ff8a87-db3e-4317-bc95-9283aa1dd4a2'\n",
        "page_param = \"page=1\"\n",
        "size_param = \"perPage=10\"\n",
        "rt_param = \"returnType=JSON\" # or XML\n",
        "auth_param = \"serviceKey=qC%2BXu3jXPc5Z1Car8YEhY8e3ZMPvegAeIyDrwcDtasih7l7ZWor3gcvWaJyM7b6RZL9YdhVVSYNYtWW3P7Wz%2Fw%3D%3D\"\n",
        "query_str = url+\"?\"+page_param+\"&\"+size_param+\"&\"+rt_param+\"&\"+auth_param\n",
        "query_str"
      ]
    },
    {
      "cell_type": "code",
      "source": [
        "import urllib.request"
      ],
      "metadata": {
        "id": "Lr0eKV2nxkI8"
      },
      "execution_count": null,
      "outputs": []
    },
    {
      "cell_type": "code",
      "source": [
        "req = urllib.request.Request(query_str)\n",
        "#헤더 추가\n",
        "res = urllib.request.urlopen(req)\n",
        "data = res.read().decode('utf-8')\n",
        "print(data)"
      ],
      "metadata": {
        "colab": {
          "base_uri": "https://localhost:8080/"
        },
        "id": "n1J6lvn0xmMn",
        "outputId": "c8ac4438-ac3d-4705-da5b-acb007a7189e"
      },
      "execution_count": null,
      "outputs": [
        {
          "output_type": "stream",
          "name": "stdout",
          "text": [
            "{\"currentCount\":10,\"data\":[{\"구분\":\"2020-01-31\",\"사망자\":0,\"확진자\":0},{\"구분\":\"2020-02-29\",\"사망자\":0,\"확진자\":1},{\"구분\":\"2020-03-31\",\"사망자\":0,\"확진자\":45},{\"구분\":\"2020-04-30\",\"사망자\":0,\"확진자\":0},{\"구분\":\"2020-05-31\",\"사망자\":0,\"확진자\":1},{\"구분\":\"2020-06-30\",\"사망자\":0,\"확진자\":3},{\"구분\":\"2020-07-31\",\"사망자\":0,\"확진자\":0},{\"구분\":\"2020-08-31\",\"사망자\":0,\"확진자\":17},{\"구분\":\"2020-09-30\",\"사망자\":0,\"확진자\":9},{\"구분\":\"2020-10-31\",\"사망자\":0,\"확진자\":6}],\"matchCount\":24,\"page\":1,\"perPage\":10,\"totalCount\":24}\n",
            "\n"
          ]
        }
      ]
    },
    {
      "cell_type": "code",
      "source": [
        "from datetime import datetime\n",
        "class CovidData:\n",
        "  def __init__(self,dt,dcnt,ccnt):\n",
        "    self.dt = dt\n",
        "    self.dcnt = dcnt\n",
        "    self.ccnt = ccnt\n",
        "  @staticmethod\n",
        "  def make_covid_data(src):\n",
        "    dt = datetime.strptime(src['구분'],'%Y-%m-%d')\n",
        "    dt = src['구분']\n",
        "    dcnt = src['사망자']\n",
        "    ccnt = src['확진자']\n",
        "    return CovidData(dt,dcnt,ccnt)      "
      ],
      "metadata": {
        "id": "Cw4lWj8DJN1B"
      },
      "execution_count": null,
      "outputs": []
    },
    {
      "cell_type": "code",
      "source": [
        "#dt = datetime.strptime('2020-01-31', '%Y-%m-%d')\n",
        "#print(dt)\n",
        "#print(type(dt))\n",
        "#def make_covid_data(src):\n",
        "#  dt = src['구분']\n",
        "#  dcnt = src['사망자']\n",
        "#  ccnt = src['확진자']\n",
        "#  return CovidData(dt,dcnt,ccnt)"
      ],
      "metadata": {
        "id": "ZlygZtjrKtfn"
      },
      "execution_count": null,
      "outputs": []
    },
    {
      "cell_type": "code",
      "source": [
        "import json\n",
        "jres = json.loads(data)\n",
        "cdata = jres['data']\n",
        "cds = []\n",
        "for raw_cd in cdata:\n",
        "  cds.append(CovidData.make_covid_data(raw_cd))\n",
        "for cd in cds:\n",
        "  print(f\"일자:{cd.dt} 사망자:{cd.dcnt} 확진자:{cd.ccnt}\")\n"
      ],
      "metadata": {
        "colab": {
          "base_uri": "https://localhost:8080/"
        },
        "id": "Zi2QttRuJlQ0",
        "outputId": "cee118b7-e9fd-4211-d430-7a1d77726553"
      },
      "execution_count": null,
      "outputs": [
        {
          "output_type": "stream",
          "name": "stdout",
          "text": [
            "일자:2020-01-31 사망자:0 확진자:0\n",
            "일자:2020-02-29 사망자:0 확진자:1\n",
            "일자:2020-03-31 사망자:0 확진자:45\n",
            "일자:2020-04-30 사망자:0 확진자:0\n",
            "일자:2020-05-31 사망자:0 확진자:1\n",
            "일자:2020-06-30 사망자:0 확진자:3\n",
            "일자:2020-07-31 사망자:0 확진자:0\n",
            "일자:2020-08-31 사망자:0 확진자:17\n",
            "일자:2020-09-30 사망자:0 확진자:9\n",
            "일자:2020-10-31 사망자:0 확진자:6\n"
          ]
        }
      ]
    },
    {
      "cell_type": "code",
      "source": [
        "import sys\n",
        "sys.path.append('/content/drive/MyDrive/module')"
      ],
      "metadata": {
        "id": "bpUubx3dNw6D"
      },
      "execution_count": null,
      "outputs": []
    },
    {
      "cell_type": "code",
      "source": [
        "from coviddata import CovidData"
      ],
      "metadata": {
        "id": "JFGsGW-DN1Zv"
      },
      "execution_count": null,
      "outputs": []
    },
    {
      "cell_type": "code",
      "source": [
        "import json\n",
        "jres = json.loads(data)\n",
        "cdata = jres['data']\n",
        "cds = []\n",
        "for raw_cd in cdata:\n",
        "  cds.append(CovidData.make_covid_data(raw_cd))\n",
        "for cd in cds:\n",
        "  print(f\"일자:{cd.dt} 사망자:{cd.dcnt} 확진자:{cd.ccnt}\")"
      ],
      "metadata": {
        "colab": {
          "base_uri": "https://localhost:8080/"
        },
        "id": "-8OTweMON7FH",
        "outputId": "505d457c-322f-499b-c373-d78c761e16fc"
      },
      "execution_count": null,
      "outputs": [
        {
          "output_type": "stream",
          "name": "stdout",
          "text": [
            "일자:2020-01-31 사망자:0 확진자:0\n",
            "일자:2020-02-29 사망자:0 확진자:1\n",
            "일자:2020-03-31 사망자:0 확진자:45\n",
            "일자:2020-04-30 사망자:0 확진자:0\n",
            "일자:2020-05-31 사망자:0 확진자:1\n",
            "일자:2020-06-30 사망자:0 확진자:3\n",
            "일자:2020-07-31 사망자:0 확진자:0\n",
            "일자:2020-08-31 사망자:0 확진자:17\n",
            "일자:2020-09-30 사망자:0 확진자:9\n",
            "일자:2020-10-31 사망자:0 확진자:6\n"
          ]
        }
      ]
    }
  ]
}