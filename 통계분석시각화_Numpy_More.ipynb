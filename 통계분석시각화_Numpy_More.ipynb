{
  "nbformat": 4,
  "nbformat_minor": 0,
  "metadata": {
    "colab": {
      "name": "통계분석시각화-Numpy More.ipynb",
      "provenance": [],
      "collapsed_sections": [],
      "authorship_tag": "ABX9TyNuN9s6XYSkBsw3+T/4BUaP",
      "include_colab_link": true
    },
    "kernelspec": {
      "name": "python3",
      "display_name": "Python 3"
    },
    "language_info": {
      "name": "python"
    }
  },
  "cells": [
    {
      "cell_type": "markdown",
      "metadata": {
        "id": "view-in-github",
        "colab_type": "text"
      },
      "source": [
        "<a href=\"https://colab.research.google.com/github/yseoyoung/python/blob/main/%ED%86%B5%EA%B3%84%EB%B6%84%EC%84%9D%EC%8B%9C%EA%B0%81%ED%99%94_Numpy_More.ipynb\" target=\"_parent\"><img src=\"https://colab.research.google.com/assets/colab-badge.svg\" alt=\"Open In Colab\"/></a>"
      ]
    },
    {
      "cell_type": "markdown",
      "source": [
        "#행렬의 기본 연산"
      ],
      "metadata": {
        "id": "bz5aVtFZnepK"
      }
    },
    {
      "cell_type": "code",
      "execution_count": null,
      "metadata": {
        "id": "ASaq0Q4TnEOQ"
      },
      "outputs": [],
      "source": [
        "import numpy as np"
      ]
    },
    {
      "cell_type": "code",
      "source": [
        "ls1 = [1,2]\n",
        "ls2 = [3.4]\n",
        "ls3 = ls1 + ls2\n",
        "print(ls3)"
      ],
      "metadata": {
        "colab": {
          "base_uri": "https://localhost:8080/"
        },
        "id": "y-MJzo8fn28y",
        "outputId": "30661474-80fb-4870-fb2f-5f93a3b39315"
      },
      "execution_count": null,
      "outputs": [
        {
          "output_type": "stream",
          "name": "stdout",
          "text": [
            "[1, 2, 3.4]\n"
          ]
        }
      ]
    },
    {
      "cell_type": "code",
      "source": [
        "s=0\n",
        "for i in range(10):\n",
        "  s += i\n",
        "\n",
        "assert s == 45, \"s는 45여야 합니다.\" # assert: 반드시 ~해야 한다. \"\"메세지 생략 가능\n",
        "# 정답이면 no operation(작동X), 틀리면 assertationError"
      ],
      "metadata": {
        "id": "NDwJE2BDoXB9"
      },
      "execution_count": null,
      "outputs": []
    },
    {
      "cell_type": "code",
      "source": [
        "# ls목록에 있는 요소의 합계를 구하는 함수\n",
        "def calsum(ls):\n",
        "  s = 0\n",
        "  for e in ls:\n",
        "    s+=e\n",
        "  return s"
      ],
      "metadata": {
        "id": "tsO7G0ZeouTA"
      },
      "execution_count": null,
      "outputs": []
    },
    {
      "cell_type": "code",
      "source": [
        "assert calsum([1,2,3,2])==8, \"calsum([1,2,3,2]) 값은 8이어야 합니다.\" #테스트용으로 자주 사용(정상적으로 만들어졌는지 확인하기 위한 목적)"
      ],
      "metadata": {
        "id": "U-z2csK_pD85"
      },
      "execution_count": null,
      "outputs": []
    },
    {
      "cell_type": "code",
      "source": [
        "def add(l1,l2):\n",
        "  assert len(l1)==len(l2), \"더하기 연산을 위해서는 요소의 길이가 같아야 합니다.\"\n",
        "  re=[]\n",
        "  for i in range(len(l1)):\n",
        "    re.append(l1[i]+l2[i])\n",
        "  return re"
      ],
      "metadata": {
        "id": "eI7rXfa_oFx0"
      },
      "execution_count": null,
      "outputs": []
    },
    {
      "cell_type": "code",
      "source": [
        "ls1 = [1,2]\n",
        "ls2 = [3,4]\n",
        "ls3 = add(ls1,ls2)\n",
        "print(ls3)"
      ],
      "metadata": {
        "colab": {
          "base_uri": "https://localhost:8080/"
        },
        "id": "jqeZ50eMp7ew",
        "outputId": "ae20f05b-7aa0-435c-b045-d83a10cded21"
      },
      "execution_count": null,
      "outputs": [
        {
          "output_type": "stream",
          "name": "stdout",
          "text": [
            "[4, 6]\n"
          ]
        }
      ]
    },
    {
      "cell_type": "code",
      "source": [
        "n1 = np.array([1,2])\n",
        "n2 = np.array([3,4])\n",
        "n3 = n1 + n2\n",
        "print(n3) # numpy는 실제 더하기 연산자를 사용할 수 있어서 list보다 직관적으로 보기에 편리"
      ],
      "metadata": {
        "colab": {
          "base_uri": "https://localhost:8080/"
        },
        "id": "tJ_KJAEpqBEL",
        "outputId": "bef3d78e-b1d3-44b9-8b1c-d12294aeaa35"
      },
      "execution_count": null,
      "outputs": [
        {
          "output_type": "stream",
          "name": "stdout",
          "text": [
            "[4 6]\n"
          ]
        }
      ]
    },
    {
      "cell_type": "code",
      "source": [
        "n3 = n1 - n2\n",
        "print(n3)"
      ],
      "metadata": {
        "colab": {
          "base_uri": "https://localhost:8080/"
        },
        "id": "3J0bN7TEq8Up",
        "outputId": "c22aa4b1-e6e7-4af5-9237-cbc8218ae48f"
      },
      "execution_count": null,
      "outputs": [
        {
          "output_type": "stream",
          "name": "stdout",
          "text": [
            "[-2 -2]\n"
          ]
        }
      ]
    },
    {
      "cell_type": "code",
      "source": [
        "ls1 = [1,2,3,4]\n",
        "ls2 = ls1 * 3\n",
        "print(ls2) # 반복 연산자 but 각각의 요소에 3을 곱하고 싶다면?"
      ],
      "metadata": {
        "colab": {
          "base_uri": "https://localhost:8080/"
        },
        "id": "slB_zSqnq_gi",
        "outputId": "2ad466b9-dab0-4980-a64d-f9cba0783ec6"
      },
      "execution_count": null,
      "outputs": [
        {
          "output_type": "stream",
          "name": "stdout",
          "text": [
            "[1, 2, 3, 4, 1, 2, 3, 4, 1, 2, 3, 4]\n"
          ]
        }
      ]
    },
    {
      "cell_type": "code",
      "source": [
        "n1 = np.array([1,2,3,4])\n",
        "n2 = n1 * 3\n",
        "print(n2)"
      ],
      "metadata": {
        "colab": {
          "base_uri": "https://localhost:8080/"
        },
        "id": "78QEv6W5rLKr",
        "outputId": "15bac147-ffd7-4934-a688-ef9afc623fda"
      },
      "execution_count": null,
      "outputs": [
        {
          "output_type": "stream",
          "name": "stdout",
          "text": [
            "[ 3  6  9 12]\n"
          ]
        }
      ]
    },
    {
      "cell_type": "markdown",
      "source": [
        "평균이 0이고 표준편차가 1인 정규분포 = 표준정규분포"
      ],
      "metadata": {
        "id": "MuuAdiMars8P"
      }
    },
    {
      "cell_type": "code",
      "source": [
        "n2 = n1/3\n",
        "print(n2)"
      ],
      "metadata": {
        "colab": {
          "base_uri": "https://localhost:8080/"
        },
        "id": "4e3_MyTlsQe7",
        "outputId": "ba819199-896a-4b6d-ffa3-290c5c1bbbb0"
      },
      "execution_count": null,
      "outputs": [
        {
          "output_type": "stream",
          "name": "stdout",
          "text": [
            "[0.33333333 0.66666667 1.         1.33333333]\n"
          ]
        }
      ]
    },
    {
      "cell_type": "code",
      "source": [
        "n1 = np.random.randint(1,1000,100,dtype=int)\n",
        "print(n1)"
      ],
      "metadata": {
        "colab": {
          "base_uri": "https://localhost:8080/"
        },
        "id": "l0LVYSWSsiIU",
        "outputId": "051e5421-2740-4be5-fb27-a1369c5dbf58"
      },
      "execution_count": null,
      "outputs": [
        {
          "output_type": "stream",
          "name": "stdout",
          "text": [
            "[729 748 474 289 886 200 920 949 542 803 865 851 219 469 164 235  29 550\n",
            " 525 459 999 453 406 333 623 857 305 876 653 452 759 506 841 343 699 298\n",
            " 163 396 712 130 829 499 367 299 228  42 589 873 368  22 678 270 475 546\n",
            " 918  16 670 314  77 558  14 973 219 104 929 831 633 657 153 741  56 644\n",
            " 661 770 555 753 794 381 573 718 838 562  51 435 596 117 703 846 663 528\n",
            " 508 178  10 810 220 435 209 940 196 259]\n"
          ]
        }
      ]
    },
    {
      "cell_type": "code",
      "source": [
        "n2 = n1>500\n",
        "print(n2)"
      ],
      "metadata": {
        "colab": {
          "base_uri": "https://localhost:8080/"
        },
        "id": "Hki0Pzaxsq0S",
        "outputId": "7883ad54-33a9-404f-d3ed-98d9d79cf0a5"
      },
      "execution_count": null,
      "outputs": [
        {
          "output_type": "stream",
          "name": "stdout",
          "text": [
            "[ True  True False False  True False  True  True  True  True  True  True\n",
            " False False False False False  True  True False  True False False False\n",
            "  True  True False  True  True False  True  True  True False  True False\n",
            " False False  True False  True False False False False False  True  True\n",
            " False False  True False False  True  True False  True False False  True\n",
            " False  True False False  True  True  True  True False  True False  True\n",
            "  True  True  True  True  True False  True  True  True  True False False\n",
            "  True False  True  True  True  True  True False False  True False False\n",
            " False  True False False]\n"
          ]
        }
      ]
    },
    {
      "cell_type": "code",
      "source": [
        "n3 = n1[n2]\n",
        "print(n3)"
      ],
      "metadata": {
        "colab": {
          "base_uri": "https://localhost:8080/"
        },
        "id": "jtoGOobYs4qJ",
        "outputId": "5facc396-18f6-4c4c-f8ef-fa1a25e9e0d5"
      },
      "execution_count": null,
      "outputs": [
        {
          "output_type": "stream",
          "name": "stdout",
          "text": [
            "[729 748 886 920 949 542 803 865 851 550 525 999 623 857 876 653 759 506\n",
            " 841 699 712 829 589 873 678 546 918 670 558 973 929 831 633 657 741 644\n",
            " 661 770 555 753 794 573 718 838 562 596 703 846 663 528 508 810 940]\n"
          ]
        }
      ]
    },
    {
      "cell_type": "code",
      "source": [
        "n1 = np.array([[1,2],[3,4]])\n",
        "n2 = np.array([4,5])\n",
        "n3 = np.dot(n1,n2)\n",
        "print(n3) #행렬의 곱 : 내적(inner product)"
      ],
      "metadata": {
        "colab": {
          "base_uri": "https://localhost:8080/"
        },
        "id": "Uuo6UbyEvJjM",
        "outputId": "43f28f34-e81c-4f4b-f80f-eeee5eb2af34"
      },
      "execution_count": null,
      "outputs": [
        {
          "output_type": "stream",
          "name": "stdout",
          "text": [
            "[14 32]\n"
          ]
        }
      ]
    },
    {
      "cell_type": "code",
      "source": [
        "n1 = np.array([1,2,3,4])\n",
        "n2 = n1.reshape((2,2))\n",
        "print(n2)"
      ],
      "metadata": {
        "colab": {
          "base_uri": "https://localhost:8080/"
        },
        "id": "Q534ozDjwKjk",
        "outputId": "80070d11-ff5c-4f27-be6b-dd4495c40e7c"
      },
      "execution_count": null,
      "outputs": [
        {
          "output_type": "stream",
          "name": "stdout",
          "text": [
            "[[1 2]\n",
            " [3 4]]\n"
          ]
        }
      ]
    },
    {
      "cell_type": "code",
      "source": [
        "n3 = np.transpose(n2) #행렬의 대각선을 기준으로 180도 회전 : 전치 행령\n",
        "print(n3) "
      ],
      "metadata": {
        "colab": {
          "base_uri": "https://localhost:8080/"
        },
        "id": "-UdHVeZYwQ2Y",
        "outputId": "33921407-4614-4922-89fb-b4592912a93b"
      },
      "execution_count": null,
      "outputs": [
        {
          "output_type": "stream",
          "name": "stdout",
          "text": [
            "[[1 3]\n",
            " [2 4]]\n"
          ]
        }
      ]
    },
    {
      "cell_type": "code",
      "source": [
        "n3 = np.invert(n2) #반전함수\n",
        "print(n3)"
      ],
      "metadata": {
        "colab": {
          "base_uri": "https://localhost:8080/"
        },
        "id": "cAvII20Aw4Sy",
        "outputId": "d8a738c5-0a4b-47f2-9598-fd558fe805a6"
      },
      "execution_count": null,
      "outputs": [
        {
          "output_type": "stream",
          "name": "stdout",
          "text": [
            "[[-2 -3]\n",
            " [-4 -5]]\n"
          ]
        }
      ]
    },
    {
      "cell_type": "code",
      "source": [
        "n3 = np.linalg.inv(n2) #역행렬\n",
        "print(n3)"
      ],
      "metadata": {
        "colab": {
          "base_uri": "https://localhost:8080/"
        },
        "id": "TGs9-e2Hw8ZO",
        "outputId": "811942f4-d6d1-47f1-c65c-38bf93c76b46"
      },
      "execution_count": null,
      "outputs": [
        {
          "output_type": "stream",
          "name": "stdout",
          "text": [
            "[[-2.   1. ]\n",
            " [ 1.5 -0.5]]\n"
          ]
        }
      ]
    },
    {
      "cell_type": "code",
      "source": [
        "n4 = n2.dot(n3)\n",
        "print(n4)"
      ],
      "metadata": {
        "colab": {
          "base_uri": "https://localhost:8080/"
        },
        "id": "WUcBfYf21kmW",
        "outputId": "3781a2c7-3355-4abb-fcf8-7aab0f4ae875"
      },
      "execution_count": null,
      "outputs": [
        {
          "output_type": "stream",
          "name": "stdout",
          "text": [
            "[[1.0000000e+00 0.0000000e+00]\n",
            " [8.8817842e-16 1.0000000e+00]]\n"
          ]
        }
      ]
    },
    {
      "cell_type": "code",
      "source": [
        "n1 = np.array([1,2,3,4])\n",
        "n2 = n1 - 3\n",
        "print(n2)"
      ],
      "metadata": {
        "colab": {
          "base_uri": "https://localhost:8080/"
        },
        "id": "5pVQx8T33epa",
        "outputId": "f2c7f699-1896-4589-a8d3-2a4feb076107"
      },
      "execution_count": null,
      "outputs": [
        {
          "output_type": "stream",
          "name": "stdout",
          "text": [
            "[-2 -1  0  1]\n"
          ]
        }
      ]
    },
    {
      "cell_type": "code",
      "source": [
        "n2 = n1/3\n",
        "print(n2)"
      ],
      "metadata": {
        "colab": {
          "base_uri": "https://localhost:8080/"
        },
        "id": "okKW1b4Q3sF8",
        "outputId": "dd5bdc90-d04e-42f2-ce5d-806a8ddf4c69"
      },
      "execution_count": null,
      "outputs": [
        {
          "output_type": "stream",
          "name": "stdout",
          "text": [
            "[0.33333333 0.66666667 1.         1.33333333]\n"
          ]
        }
      ]
    },
    {
      "cell_type": "markdown",
      "source": [
        "통계 관련"
      ],
      "metadata": {
        "id": "apUTGvYe73od"
      }
    },
    {
      "cell_type": "code",
      "source": [
        "n1 = np.random.randint(1,100,30,dtype=int)\n",
        "print(n1)"
      ],
      "metadata": {
        "colab": {
          "base_uri": "https://localhost:8080/"
        },
        "id": "UamlWK9972zc",
        "outputId": "1d221553-dd51-419f-ba6a-53244c7cd6fc"
      },
      "execution_count": null,
      "outputs": [
        {
          "output_type": "stream",
          "name": "stdout",
          "text": [
            "[47 38 43 22 43 14 50 82 60 20 46  7 29 96 50 47 47 85 35 15 69 42  1 85\n",
            " 84  9  5 60 73 50]\n"
          ]
        }
      ]
    },
    {
      "cell_type": "code",
      "source": [
        "print(\"길이:\", len(n1))"
      ],
      "metadata": {
        "colab": {
          "base_uri": "https://localhost:8080/"
        },
        "id": "KYxbZjeT7X4p",
        "outputId": "7189efdd-508c-46ea-82d4-bc364701534b"
      },
      "execution_count": null,
      "outputs": [
        {
          "output_type": "stream",
          "name": "stdout",
          "text": [
            "길이: 30\n"
          ]
        }
      ]
    },
    {
      "cell_type": "code",
      "source": [
        "print(\"평균:\", n1.mean())"
      ],
      "metadata": {
        "colab": {
          "base_uri": "https://localhost:8080/"
        },
        "id": "GsXIj54z7fYr",
        "outputId": "a54aafd6-44d9-4a0b-c53e-9ced6845527c"
      },
      "execution_count": null,
      "outputs": [
        {
          "output_type": "stream",
          "name": "stdout",
          "text": [
            "평균: 45.13333333333333\n"
          ]
        }
      ]
    },
    {
      "cell_type": "code",
      "source": [
        "n2 = n1 - n1.mean()\n",
        "print(\"수평 이동한 후 평균:\", n2.mean())"
      ],
      "metadata": {
        "colab": {
          "base_uri": "https://localhost:8080/"
        },
        "id": "9bpZrBUV7hxK",
        "outputId": "2d11a3f5-5f90-4ea5-db39-8e58c28a96d7"
      },
      "execution_count": null,
      "outputs": [
        {
          "output_type": "stream",
          "name": "stdout",
          "text": [
            "수평 이동한 후 평균: 0.0\n"
          ]
        }
      ]
    },
    {
      "cell_type": "code",
      "source": [
        "print(\"최대값 위치:\", n1.argmax())\n",
        "print(\"최대값:\", n1[16])\n",
        "print(\"최대값:\", n1.max())"
      ],
      "metadata": {
        "colab": {
          "base_uri": "https://localhost:8080/"
        },
        "id": "XO1KmQs-7nd6",
        "outputId": "b79a75cd-c6fd-4caa-ad8d-f63ddd2b00f0"
      },
      "execution_count": null,
      "outputs": [
        {
          "output_type": "stream",
          "name": "stdout",
          "text": [
            "최대값 위치: 13\n",
            "최대값: 47\n",
            "최대값: 96\n"
          ]
        }
      ]
    },
    {
      "cell_type": "code",
      "source": [
        "print(\"분산:\",n1.var())"
      ],
      "metadata": {
        "colab": {
          "base_uri": "https://localhost:8080/"
        },
        "id": "0RuPO66C7x3r",
        "outputId": "7a0165b2-cd97-4187-a6d9-5854bd07c66f"
      },
      "execution_count": null,
      "outputs": [
        {
          "output_type": "stream",
          "name": "stdout",
          "text": [
            "분산: 676.7155555555556\n"
          ]
        }
      ]
    },
    {
      "cell_type": "code",
      "source": [
        "print(\"표준편차:\",n1.std())"
      ],
      "metadata": {
        "colab": {
          "base_uri": "https://localhost:8080/"
        },
        "id": "gS9Rq93P8KzE",
        "outputId": "f035bd58-679c-4e3d-a313-6d3f201face4"
      },
      "execution_count": null,
      "outputs": [
        {
          "output_type": "stream",
          "name": "stdout",
          "text": [
            "표준편차: 26.013757044217115\n"
          ]
        }
      ]
    },
    {
      "cell_type": "code",
      "source": [
        "n2 = n1/n1.std()\n",
        "print(\"스케일 조절한 후 표준 편차:\",n2.std())"
      ],
      "metadata": {
        "colab": {
          "base_uri": "https://localhost:8080/"
        },
        "id": "JFgV0_W88PPu",
        "outputId": "518e67a8-2b96-4c4c-cbb1-8108c95e21d9"
      },
      "execution_count": null,
      "outputs": [
        {
          "output_type": "stream",
          "name": "stdout",
          "text": [
            "스케일 조절한 후 표준 편차: 0.9999999999999999\n"
          ]
        }
      ]
    },
    {
      "cell_type": "code",
      "source": [
        "n1 = np.random.randint(1,100,30,dtype=int)\n",
        "print(\"최솟값:\", n1.min())\n",
        "print(\"중앙값:\", np.median(n1))\n",
        "print(\"1/4분위값:\", np.percentile(n1,25))\n",
        "print(\"3/4분위값:\", np.percentile(n1,75))"
      ],
      "metadata": {
        "colab": {
          "base_uri": "https://localhost:8080/"
        },
        "id": "A0TVdyW28r0W",
        "outputId": "c2189c2e-1d6a-4711-adf5-a68beffa30d2"
      },
      "execution_count": null,
      "outputs": [
        {
          "output_type": "stream",
          "name": "stdout",
          "text": [
            "최솟값: 1\n",
            "중앙값: 40.0\n",
            "1/4분위값: 23.25\n",
            "3/4분위값: 69.25\n"
          ]
        }
      ]
    },
    {
      "cell_type": "code",
      "source": [
        "print(n1)\n",
        "print(\"누적 합:\", np.cumsum(n1))"
      ],
      "metadata": {
        "colab": {
          "base_uri": "https://localhost:8080/"
        },
        "id": "JSGxiBia9Abu",
        "outputId": "fb57882a-14e2-461e-c1dd-a6ef76b37ca7"
      },
      "execution_count": null,
      "outputs": [
        {
          "output_type": "stream",
          "name": "stdout",
          "text": [
            "[47 38 43 22 43 14 50 82 60 20 46  7 29 96 50 47 47 85 35 15 69 42  1 85\n",
            " 84  9  5 60 73 50]\n",
            "누적 합: [  47   85  128  150  193  207  257  339  399  419  465  472  501  597\n",
            "  647  694  741  826  861  876  945  987  988 1073 1157 1166 1171 1231\n",
            " 1304 1354]\n"
          ]
        }
      ]
    },
    {
      "cell_type": "code",
      "source": [
        "n1 = np.arange(1,10)\n",
        "print(n1)\n",
        "print(\"누적 곱:\", np.cumprod(n1))"
      ],
      "metadata": {
        "colab": {
          "base_uri": "https://localhost:8080/"
        },
        "id": "EVFdLMPC9bAt",
        "outputId": "434c2d47-266a-4cf5-dd17-01d2ba340145"
      },
      "execution_count": null,
      "outputs": [
        {
          "output_type": "stream",
          "name": "stdout",
          "text": [
            "[1 2 3 4 5 6 7 8 9]\n",
            "누적 곱: [     1      2      6     24    120    720   5040  40320 362880]\n"
          ]
        }
      ]
    }
  ]
}